{
 "cells": [
  {
   "cell_type": "code",
   "execution_count": 89,
   "metadata": {},
   "outputs": [],
   "source": [
    "import pandas as pd\n",
    "import numpy as np\n",
    "import plotly.express as px\n",
    "import plotly.graph_objects as go\n",
    "\n",
    "def bet_eval_metrics(d):\n",
    "\n",
    "    metrics = pd.DataFrame(d\n",
    "    .agg({\"gpl\": \"sum\", \"stake\": \"sum\"})\n",
    "    ).transpose().assign(pot=lambda x: x['gpl'] / x['stake'])\n",
    "\n",
    "    return(metrics[metrics['stake'] != 0])\n",
    "\n",
    "# Cumulative PL by market to visually see trend and consistency\n",
    "def bet_eval_chart_cPl(d):\n",
    "\n",
    "    d = (\n",
    "        d\n",
    "        .groupby('market_id')\n",
    "        .agg({'gpl': 'sum'})\n",
    "    )\n",
    "\n",
    "    d['market_number'] = np.arange(len(d))\n",
    "    d['cGpl'] = d.gpl.cumsum()\n",
    "\n",
    "    chart = px.line(d, x=\"market_number\", y=\"cGpl\", title='Cumulative Gross Profit', template='simple_white')\n",
    "\n",
    "    return(chart)\n",
    "\n",
    "def output_eval(summary):\n",
    "    eval_df = bet_eval_metrics(summary)\n",
    "    print(f'Total Gross Profit/Loss % = {(eval_df[\"gpl\"]/eval_df[\"stake\"]*100).values[0]}')\n",
    "    print(eval_df)\n",
    "\n",
    "def all_summary():\n",
    "    dec = '2023_12'\n",
    "    jan = '2024_01'\n",
    "    feb = '2024_02'\n",
    "\n",
    "    dir = f'trade_result_10' # change to trade_result_all_tracks\n",
    "\n",
    "    df1 = pd.read_csv(f'{dir}/{dec}/{dec}_summary.csv',\n",
    "                    dtype={'market_id': 'string', 'selection_id': 'string'},\n",
    "                    )\n",
    "    df1['month'] = dec\n",
    "\n",
    "    df2 = pd.read_csv(f'{dir}/{jan}/{jan}_summary.csv',\n",
    "                    dtype={'market_id': 'string', 'selection_id': 'string'},\n",
    "                    )\n",
    "    df2['month'] = jan\n",
    "\n",
    "    df3 = pd.read_csv(f'{dir}/{feb}/{feb}_summary.csv',\n",
    "                    dtype={'market_id': 'string', 'selection_id': 'string'},\n",
    "                    )\n",
    "    df3['month'] = feb\n",
    "\n",
    "    summary = pd.concat([df1, df2, df3], axis=0)\n",
    "    summary['gpl'] = summary['back_return'] + summary['lay_return']\n",
    "    summary['stake'] = summary['back_v_sum'] + summary['lay_v_sum']\n",
    "    \n",
    "    # summary.to_csv(f'{dir}/all_months_summary.csv', index=False)\n",
    "\n",
    "    eval_df = bet_eval_metrics(summary)\n",
    "    print(f'Total Gross Profit/Loss % = {(eval_df[\"gpl\"]/eval_df[\"stake\"]*100).values[0]}')\n",
    "\n",
    "    return summary\n",
    "\n",
    "def all_raw_data():\n",
    "    dec = '2023_12'\n",
    "    jan = '2024_01'\n",
    "    feb = '2024_02'\n",
    "\n",
    "    dir = f'extracted_data' # change accordingly\n",
    "\n",
    "    df1 = pd.read_csv(f'{dir}/{dec}/{dec}_preprocessed.csv',\n",
    "                    dtype={'market_id': 'string', 'selection_id': 'string'},\n",
    "                    )\n",
    "    df1['month'] = dec\n",
    "\n",
    "    df2 = pd.read_csv(f'{dir}/{jan}/{jan}_preprocessed.csv',\n",
    "                    dtype={'market_id': 'string', 'selection_id': 'string'},\n",
    "                    )\n",
    "    df2['month'] = jan\n",
    "\n",
    "    df3 = pd.read_csv(f'{dir}/{feb}/{feb}_preprocessed.csv',\n",
    "                    dtype={'market_id': 'string', 'selection_id': 'string'},\n",
    "                    )\n",
    "    df3['month'] = feb\n",
    "\n",
    "    raw = pd.concat([df1, df2, df3], axis=0)\n",
    "    return raw\n",
    "    # raw.to_csv(f'{dir}/all_months_raw_data.csv', index=False)"
   ]
  },
  {
   "cell_type": "code",
   "execution_count": 90,
   "metadata": {},
   "outputs": [
    {
     "name": "stdout",
     "output_type": "stream",
     "text": [
      "Total Gross Profit/Loss % = 3.111935149998172\n"
     ]
    }
   ],
   "source": [
    "summary = all_summary()\n",
    "raw = all_raw_data()"
   ]
  },
  {
   "cell_type": "code",
   "execution_count": 100,
   "metadata": {},
   "outputs": [
    {
     "name": "stdout",
     "output_type": "stream",
     "text": [
      "Total Gross Profit/Loss % = 3.111935149998172\n",
      "           gpl          stake       pot\n",
      "0  4761.899511  153020.525232  0.031119\n"
     ]
    },
    {
     "data": {
      "application/vnd.plotly.v1+json": {
       "config": {
        "plotlyServerURL": "https://plot.ly"
       },
       "data": [
        {
         "hovertemplate": "market_number=%{x}<br>cGpl=%{y}<extra></extra>",
         "legendgroup": "",
         "line": {
          "color": "#1F77B4",
          "dash": "solid"
         },
         "marker": {
          "symbol": "circle"
         },
         "mode": "lines",
         "name": "",
         "orientation": "v",
         "showlegend": false,
         "type": "scatter",
         "x": [
          0,
          1,
          2,
          3,
          4,
          5,
          6,
          7,
          8,
          9,
          10,
          11,
          12,
          13,
          14,
          15,
          16,
          17,
          18,
          19,
          20,
          21,
          22,
          23,
          24,
          25,
          26,
          27,
          28,
          29,
          30,
          31,
          32,
          33,
          34,
          35,
          36,
          37,
          38,
          39,
          40,
          41,
          42,
          43,
          44,
          45,
          46,
          47,
          48,
          49,
          50,
          51,
          52,
          53,
          54,
          55,
          56,
          57,
          58,
          59,
          60,
          61,
          62,
          63,
          64,
          65,
          66,
          67,
          68,
          69,
          70,
          71,
          72,
          73,
          74,
          75,
          76,
          77,
          78,
          79,
          80,
          81,
          82,
          83,
          84,
          85,
          86,
          87,
          88,
          89,
          90,
          91,
          92,
          93,
          94,
          95,
          96,
          97,
          98,
          99,
          100,
          101,
          102,
          103,
          104,
          105,
          106,
          107,
          108,
          109,
          110,
          111,
          112,
          113,
          114,
          115,
          116,
          117,
          118,
          119,
          120,
          121,
          122,
          123,
          124,
          125,
          126,
          127,
          128,
          129,
          130,
          131,
          132,
          133,
          134,
          135,
          136,
          137,
          138,
          139,
          140,
          141,
          142,
          143,
          144,
          145,
          146,
          147,
          148,
          149,
          150,
          151,
          152,
          153,
          154,
          155,
          156,
          157,
          158,
          159,
          160,
          161,
          162,
          163,
          164,
          165,
          166,
          167,
          168,
          169,
          170,
          171,
          172,
          173,
          174,
          175,
          176,
          177,
          178,
          179,
          180,
          181,
          182,
          183,
          184,
          185,
          186,
          187,
          188,
          189,
          190,
          191,
          192,
          193,
          194,
          195,
          196,
          197,
          198,
          199,
          200,
          201,
          202,
          203,
          204,
          205,
          206,
          207,
          208,
          209,
          210,
          211,
          212,
          213,
          214,
          215,
          216,
          217,
          218,
          219,
          220,
          221,
          222,
          223,
          224,
          225,
          226,
          227,
          228,
          229,
          230,
          231,
          232,
          233,
          234,
          235,
          236,
          237,
          238,
          239,
          240,
          241,
          242,
          243,
          244,
          245,
          246,
          247,
          248,
          249,
          250,
          251,
          252,
          253,
          254,
          255,
          256,
          257,
          258,
          259,
          260,
          261,
          262,
          263,
          264,
          265,
          266,
          267,
          268,
          269,
          270,
          271,
          272,
          273,
          274,
          275,
          276,
          277,
          278,
          279,
          280,
          281,
          282,
          283,
          284,
          285,
          286,
          287,
          288,
          289,
          290,
          291,
          292,
          293,
          294,
          295,
          296,
          297,
          298,
          299
         ],
         "xaxis": "x",
         "y": [
          -3.640625,
          547.2693749999984,
          553.3693749999984,
          432.53499999999826,
          366.51374999999814,
          388.5944642857122,
          52.21946428571118,
          423.0788392857112,
          268.4071726190448,
          525.1571726190452,
          710.8678869047592,
          665.1216369047592,
          467.52163690475913,
          442.9403869047595,
          309.9091369047595,
          343.309136904759,
          198.4698511904739,
          -164.98570436507976,
          -441.9057043650815,
          -328.82713293650977,
          -654.9208829365098,
          -651.1749454365098,
          -960.9041121031762,
          -1155.8118898809532,
          -350.811889880953,
          -593.0806398809531,
          -729.5056398809531,
          -896.7831398809546,
          -931.1131398809546,
          -929.7631398809533,
          -820.0906398809533,
          -860.9846398809532,
          -787.8546398809548,
          -1244.3013065476198,
          -1228.8194883658002,
          -960.3778216991327,
          -1130.0486550324658,
          -1104.7186550324666,
          -1404.4511550324664,
          -1469.6011550324674,
          -1183.4511550324683,
          -838.6511550324715,
          -1018.9615716991375,
          -834.0508574134244,
          -758.9200240800911,
          -800.7033574134233,
          -925.3664824134233,
          -1439.098625270568,
          -1228.7173752705678,
          -971.9673752705678,
          -954.1995181277114,
          -1002.5411847943775,
          -1103.4686847943776,
          -1559.3936847943776,
          -1756.4436847943775,
          -1864.64201812771,
          -2104.8813038419958,
          -1628.3098752705691,
          -1698.3682086039025,
          -1203.761065746761,
          -869.4277324134263,
          -871.068641504334,
          -1131.2269748376673,
          -784.9144748376673,
          -613.1894748376677,
          -750.7019748376676,
          -816.0988498376677,
          -1038.2613498376677,
          -1232.8513498376697,
          -652.2346831710029,
          -551.3221831710028,
          -528.3421831710035,
          -519.9778081710035,
          -434.0753081710036,
          -508.58447483767,
          -559.5066970598928,
          -636.9102684884657,
          -799.1602684884648,
          -815.8566970598938,
          -1086.1316970598941,
          -1267.965030393227,
          -1507.6316970598943,
          -1327.4094748376724,
          -1215.9261415043393,
          -1226.5636415043393,
          -1459.4542665043393,
          -1617.8560522186265,
          -1480.9032744408487,
          -1597.6282744408477,
          -1252.1582744408502,
          -1296.091607774183,
          -1546.091607774183,
          -1796.4487506313285,
          -2275.0737506313294,
          -2288.1137506313316,
          -2103.1762506313316,
          -2071.5793756313315,
          -2067.0543756313314,
          -2147.9871881313315,
          -2336.1940631313314,
          -2365.3815631313314,
          -2167.520848845619,
          -2198.583348845619,
          -2136.86234884562,
          -2414.0706821789527,
          -2491.504015512285,
          -2685.407140512285,
          -2638.357140512284,
          -2501.037140512285,
          -2505.552765512285,
          -2646.660622655143,
          -2680.191872655143,
          -2589.917872655144,
          -2478.70953932181,
          -2343.066682178954,
          -2303.6389044011758,
          -1951.1666821789531,
          -1889.4304321789532,
          -2044.6335571789532,
          -2026.4335571789527,
          -2036.573557178954,
          -1815.073557178954,
          -1688.156890512288,
          -1307.2131405122882,
          -1053.788140512288,
          -1066.6813223304687,
          -1340.4868778860239,
          -1779.0302112193565,
          -1759.5052112193566,
          -1748.4052112193574,
          -1786.3822112193589,
          -1750.0322112193587,
          -1938.0322112193599,
          -1922.8722112193614,
          -1853.675782647934,
          -1958.873282647934,
          -1493.081615981267,
          -1696.0021715368227,
          -1737.9288382034892,
          -1929.4071715368225,
          -1987.057171536824,
          -2022.0071715368254,
          -2230.9830048701588,
          -1934.9986298701588,
          -1273.2486298701592,
          -1399.0036298701593,
          -1484.8473798701593,
          -16.00362987015933,
          97.32970346317454,
          -83.21672510825472,
          115.01764989174528,
          -161.10235010825716,
          255.63803450712743,
          123.78386784045992,
          34.183867840461474,
          -62.52946549287084,
          -140.88946549287257,
          -215.20196549287255,
          -378.84196549287344,
          -752.2526797785881,
          -929.4443464452545,
          -930.8143464452571,
          -1121.8032353341446,
          -1183.392521048431,
          -1125.744521048433,
          -1480.8778543817657,
          -1551.536187715099,
          -1852.956187715101,
          -1718.089521048434,
          -1846.8895210484345,
          -1619.1466639055784,
          -1864.8466639055787,
          -1868.2274972389116,
          -1860.1074972389135,
          -1715.3908305722464,
          -1641.0158305722468,
          -1692.747080572247,
          -688.2470805722469,
          -706.7695805722469,
          -813.8015805722482,
          -913.8801520008216,
          -993.6051520008217,
          -1095.2209853341546,
          -1261.4626520008203,
          -1263.5576520008203,
          -1204.6576520008202,
          -1510.2826520008205,
          -1476.3170270008204,
          -1741.5491698579642,
          -505.7679198579642,
          -220.7250627151085,
          -346.76256271510846,
          -551.9450627151084,
          -828.1579198579665,
          -787.9710448579665,
          -541.1377115246332,
          -573.4377115246349,
          -646.5448543817787,
          -501.9930686674937,
          -630.6064020008271,
          -650.5444020008277,
          -710.9694020008299,
          1623.2180979991701,
          1447.5305979991701,
          1497.1305979991675,
          1340.4198837134527,
          1219.4048837134517,
          1176.3348837134508,
          1334.5598837134505,
          1311.9973837134505,
          1350.63488371345,
          1446.69738371345,
          1334.187383713448,
          1404.3332170467813,
          1107.3672170467805,
          1164.8672170467798,
          1069.908883713447,
          958.565669427732,
          883.315669427731,
          825.8500444277308,
          853.6333777610649,
          743.8167110943969,
          456.69171109439736,
          408.21004442773176,
          187.45504442773318,
          160.70504442773318,
          77.91904442773182,
          -35.60345557226641,
          -67.04408057226642,
          44.15310692773356,
          487.0531069277342,
          1343.6066783563044,
          1338.667789467416,
          1335.1427894674162,
          1385.5094561340825,
          1314.5344561340823,
          1583.6177894674156,
          1283.3677894674147,
          1241.145567245193,
          784.700567245194,
          482.66931724519395,
          201.79431724519486,
          602.9661922451949,
          796.5536922451943,
          701.0474422451942,
          809.5786922451942,
          1166.2036922451944,
          1397.3599422451944,
          1341.0885136737645,
          1220.7916386737645,
          967.2097636737647,
          747.3644511737647,
          2155.7573083166203,
          1810.8050355893495,
          2108.140035589352,
          2078.88170225602,
          2976.904429528749,
          3604.165793165115,
          3256.628293165115,
          3062.435793165115,
          3264.1500788794006,
          3233.1667455460683,
          3005.054245546068,
          3053.1417455460683,
          2972.5917455460685,
          2860.8774598317823,
          2782.483459831782,
          2902.441793165116,
          2734.048936022258,
          3020.548936022258,
          2815.3739360222567,
          2953.339936022255,
          2916.1239360222544,
          2993.394769355588,
          2627.594769355589,
          2678.4747693555883,
          2561.239769355588,
          2729.4397693555875,
          2810.1822693555873,
          2765.550126498444,
          2623.0834598317774,
          2708.5834598317792,
          2955.666793165112,
          2894.6584598317786,
          2865.4284598317804,
          2799.528459831781,
          3000.1784598317836,
          3139.789570942895,
          3233.5395709428944,
          3181.069570942897,
          2985.2445709428976,
          3010.5633209428975,
          2943.6733209428958,
          3100.88760665718,
          3649.654273323847,
          3596.679273323847,
          3514.029273323847,
          4547.729273323843,
          4463.4709399905105,
          4761.899511419081
         ],
         "yaxis": "y"
        }
       ],
       "layout": {
        "legend": {
         "tracegroupgap": 0
        },
        "template": {
         "data": {
          "bar": [
           {
            "error_x": {
             "color": "rgb(36,36,36)"
            },
            "error_y": {
             "color": "rgb(36,36,36)"
            },
            "marker": {
             "line": {
              "color": "white",
              "width": 0.5
             },
             "pattern": {
              "fillmode": "overlay",
              "size": 10,
              "solidity": 0.2
             }
            },
            "type": "bar"
           }
          ],
          "barpolar": [
           {
            "marker": {
             "line": {
              "color": "white",
              "width": 0.5
             },
             "pattern": {
              "fillmode": "overlay",
              "size": 10,
              "solidity": 0.2
             }
            },
            "type": "barpolar"
           }
          ],
          "carpet": [
           {
            "aaxis": {
             "endlinecolor": "rgb(36,36,36)",
             "gridcolor": "white",
             "linecolor": "white",
             "minorgridcolor": "white",
             "startlinecolor": "rgb(36,36,36)"
            },
            "baxis": {
             "endlinecolor": "rgb(36,36,36)",
             "gridcolor": "white",
             "linecolor": "white",
             "minorgridcolor": "white",
             "startlinecolor": "rgb(36,36,36)"
            },
            "type": "carpet"
           }
          ],
          "choropleth": [
           {
            "colorbar": {
             "outlinewidth": 1,
             "tickcolor": "rgb(36,36,36)",
             "ticks": "outside"
            },
            "type": "choropleth"
           }
          ],
          "contour": [
           {
            "colorbar": {
             "outlinewidth": 1,
             "tickcolor": "rgb(36,36,36)",
             "ticks": "outside"
            },
            "colorscale": [
             [
              0,
              "#440154"
             ],
             [
              0.1111111111111111,
              "#482878"
             ],
             [
              0.2222222222222222,
              "#3e4989"
             ],
             [
              0.3333333333333333,
              "#31688e"
             ],
             [
              0.4444444444444444,
              "#26828e"
             ],
             [
              0.5555555555555556,
              "#1f9e89"
             ],
             [
              0.6666666666666666,
              "#35b779"
             ],
             [
              0.7777777777777778,
              "#6ece58"
             ],
             [
              0.8888888888888888,
              "#b5de2b"
             ],
             [
              1,
              "#fde725"
             ]
            ],
            "type": "contour"
           }
          ],
          "contourcarpet": [
           {
            "colorbar": {
             "outlinewidth": 1,
             "tickcolor": "rgb(36,36,36)",
             "ticks": "outside"
            },
            "type": "contourcarpet"
           }
          ],
          "heatmap": [
           {
            "colorbar": {
             "outlinewidth": 1,
             "tickcolor": "rgb(36,36,36)",
             "ticks": "outside"
            },
            "colorscale": [
             [
              0,
              "#440154"
             ],
             [
              0.1111111111111111,
              "#482878"
             ],
             [
              0.2222222222222222,
              "#3e4989"
             ],
             [
              0.3333333333333333,
              "#31688e"
             ],
             [
              0.4444444444444444,
              "#26828e"
             ],
             [
              0.5555555555555556,
              "#1f9e89"
             ],
             [
              0.6666666666666666,
              "#35b779"
             ],
             [
              0.7777777777777778,
              "#6ece58"
             ],
             [
              0.8888888888888888,
              "#b5de2b"
             ],
             [
              1,
              "#fde725"
             ]
            ],
            "type": "heatmap"
           }
          ],
          "heatmapgl": [
           {
            "colorbar": {
             "outlinewidth": 1,
             "tickcolor": "rgb(36,36,36)",
             "ticks": "outside"
            },
            "colorscale": [
             [
              0,
              "#440154"
             ],
             [
              0.1111111111111111,
              "#482878"
             ],
             [
              0.2222222222222222,
              "#3e4989"
             ],
             [
              0.3333333333333333,
              "#31688e"
             ],
             [
              0.4444444444444444,
              "#26828e"
             ],
             [
              0.5555555555555556,
              "#1f9e89"
             ],
             [
              0.6666666666666666,
              "#35b779"
             ],
             [
              0.7777777777777778,
              "#6ece58"
             ],
             [
              0.8888888888888888,
              "#b5de2b"
             ],
             [
              1,
              "#fde725"
             ]
            ],
            "type": "heatmapgl"
           }
          ],
          "histogram": [
           {
            "marker": {
             "line": {
              "color": "white",
              "width": 0.6
             }
            },
            "type": "histogram"
           }
          ],
          "histogram2d": [
           {
            "colorbar": {
             "outlinewidth": 1,
             "tickcolor": "rgb(36,36,36)",
             "ticks": "outside"
            },
            "colorscale": [
             [
              0,
              "#440154"
             ],
             [
              0.1111111111111111,
              "#482878"
             ],
             [
              0.2222222222222222,
              "#3e4989"
             ],
             [
              0.3333333333333333,
              "#31688e"
             ],
             [
              0.4444444444444444,
              "#26828e"
             ],
             [
              0.5555555555555556,
              "#1f9e89"
             ],
             [
              0.6666666666666666,
              "#35b779"
             ],
             [
              0.7777777777777778,
              "#6ece58"
             ],
             [
              0.8888888888888888,
              "#b5de2b"
             ],
             [
              1,
              "#fde725"
             ]
            ],
            "type": "histogram2d"
           }
          ],
          "histogram2dcontour": [
           {
            "colorbar": {
             "outlinewidth": 1,
             "tickcolor": "rgb(36,36,36)",
             "ticks": "outside"
            },
            "colorscale": [
             [
              0,
              "#440154"
             ],
             [
              0.1111111111111111,
              "#482878"
             ],
             [
              0.2222222222222222,
              "#3e4989"
             ],
             [
              0.3333333333333333,
              "#31688e"
             ],
             [
              0.4444444444444444,
              "#26828e"
             ],
             [
              0.5555555555555556,
              "#1f9e89"
             ],
             [
              0.6666666666666666,
              "#35b779"
             ],
             [
              0.7777777777777778,
              "#6ece58"
             ],
             [
              0.8888888888888888,
              "#b5de2b"
             ],
             [
              1,
              "#fde725"
             ]
            ],
            "type": "histogram2dcontour"
           }
          ],
          "mesh3d": [
           {
            "colorbar": {
             "outlinewidth": 1,
             "tickcolor": "rgb(36,36,36)",
             "ticks": "outside"
            },
            "type": "mesh3d"
           }
          ],
          "parcoords": [
           {
            "line": {
             "colorbar": {
              "outlinewidth": 1,
              "tickcolor": "rgb(36,36,36)",
              "ticks": "outside"
             }
            },
            "type": "parcoords"
           }
          ],
          "pie": [
           {
            "automargin": true,
            "type": "pie"
           }
          ],
          "scatter": [
           {
            "fillpattern": {
             "fillmode": "overlay",
             "size": 10,
             "solidity": 0.2
            },
            "type": "scatter"
           }
          ],
          "scatter3d": [
           {
            "line": {
             "colorbar": {
              "outlinewidth": 1,
              "tickcolor": "rgb(36,36,36)",
              "ticks": "outside"
             }
            },
            "marker": {
             "colorbar": {
              "outlinewidth": 1,
              "tickcolor": "rgb(36,36,36)",
              "ticks": "outside"
             }
            },
            "type": "scatter3d"
           }
          ],
          "scattercarpet": [
           {
            "marker": {
             "colorbar": {
              "outlinewidth": 1,
              "tickcolor": "rgb(36,36,36)",
              "ticks": "outside"
             }
            },
            "type": "scattercarpet"
           }
          ],
          "scattergeo": [
           {
            "marker": {
             "colorbar": {
              "outlinewidth": 1,
              "tickcolor": "rgb(36,36,36)",
              "ticks": "outside"
             }
            },
            "type": "scattergeo"
           }
          ],
          "scattergl": [
           {
            "marker": {
             "colorbar": {
              "outlinewidth": 1,
              "tickcolor": "rgb(36,36,36)",
              "ticks": "outside"
             }
            },
            "type": "scattergl"
           }
          ],
          "scattermapbox": [
           {
            "marker": {
             "colorbar": {
              "outlinewidth": 1,
              "tickcolor": "rgb(36,36,36)",
              "ticks": "outside"
             }
            },
            "type": "scattermapbox"
           }
          ],
          "scatterpolar": [
           {
            "marker": {
             "colorbar": {
              "outlinewidth": 1,
              "tickcolor": "rgb(36,36,36)",
              "ticks": "outside"
             }
            },
            "type": "scatterpolar"
           }
          ],
          "scatterpolargl": [
           {
            "marker": {
             "colorbar": {
              "outlinewidth": 1,
              "tickcolor": "rgb(36,36,36)",
              "ticks": "outside"
             }
            },
            "type": "scatterpolargl"
           }
          ],
          "scatterternary": [
           {
            "marker": {
             "colorbar": {
              "outlinewidth": 1,
              "tickcolor": "rgb(36,36,36)",
              "ticks": "outside"
             }
            },
            "type": "scatterternary"
           }
          ],
          "surface": [
           {
            "colorbar": {
             "outlinewidth": 1,
             "tickcolor": "rgb(36,36,36)",
             "ticks": "outside"
            },
            "colorscale": [
             [
              0,
              "#440154"
             ],
             [
              0.1111111111111111,
              "#482878"
             ],
             [
              0.2222222222222222,
              "#3e4989"
             ],
             [
              0.3333333333333333,
              "#31688e"
             ],
             [
              0.4444444444444444,
              "#26828e"
             ],
             [
              0.5555555555555556,
              "#1f9e89"
             ],
             [
              0.6666666666666666,
              "#35b779"
             ],
             [
              0.7777777777777778,
              "#6ece58"
             ],
             [
              0.8888888888888888,
              "#b5de2b"
             ],
             [
              1,
              "#fde725"
             ]
            ],
            "type": "surface"
           }
          ],
          "table": [
           {
            "cells": {
             "fill": {
              "color": "rgb(237,237,237)"
             },
             "line": {
              "color": "white"
             }
            },
            "header": {
             "fill": {
              "color": "rgb(217,217,217)"
             },
             "line": {
              "color": "white"
             }
            },
            "type": "table"
           }
          ]
         },
         "layout": {
          "annotationdefaults": {
           "arrowhead": 0,
           "arrowwidth": 1
          },
          "autotypenumbers": "strict",
          "coloraxis": {
           "colorbar": {
            "outlinewidth": 1,
            "tickcolor": "rgb(36,36,36)",
            "ticks": "outside"
           }
          },
          "colorscale": {
           "diverging": [
            [
             0,
             "rgb(103,0,31)"
            ],
            [
             0.1,
             "rgb(178,24,43)"
            ],
            [
             0.2,
             "rgb(214,96,77)"
            ],
            [
             0.3,
             "rgb(244,165,130)"
            ],
            [
             0.4,
             "rgb(253,219,199)"
            ],
            [
             0.5,
             "rgb(247,247,247)"
            ],
            [
             0.6,
             "rgb(209,229,240)"
            ],
            [
             0.7,
             "rgb(146,197,222)"
            ],
            [
             0.8,
             "rgb(67,147,195)"
            ],
            [
             0.9,
             "rgb(33,102,172)"
            ],
            [
             1,
             "rgb(5,48,97)"
            ]
           ],
           "sequential": [
            [
             0,
             "#440154"
            ],
            [
             0.1111111111111111,
             "#482878"
            ],
            [
             0.2222222222222222,
             "#3e4989"
            ],
            [
             0.3333333333333333,
             "#31688e"
            ],
            [
             0.4444444444444444,
             "#26828e"
            ],
            [
             0.5555555555555556,
             "#1f9e89"
            ],
            [
             0.6666666666666666,
             "#35b779"
            ],
            [
             0.7777777777777778,
             "#6ece58"
            ],
            [
             0.8888888888888888,
             "#b5de2b"
            ],
            [
             1,
             "#fde725"
            ]
           ],
           "sequentialminus": [
            [
             0,
             "#440154"
            ],
            [
             0.1111111111111111,
             "#482878"
            ],
            [
             0.2222222222222222,
             "#3e4989"
            ],
            [
             0.3333333333333333,
             "#31688e"
            ],
            [
             0.4444444444444444,
             "#26828e"
            ],
            [
             0.5555555555555556,
             "#1f9e89"
            ],
            [
             0.6666666666666666,
             "#35b779"
            ],
            [
             0.7777777777777778,
             "#6ece58"
            ],
            [
             0.8888888888888888,
             "#b5de2b"
            ],
            [
             1,
             "#fde725"
            ]
           ]
          },
          "colorway": [
           "#1F77B4",
           "#FF7F0E",
           "#2CA02C",
           "#D62728",
           "#9467BD",
           "#8C564B",
           "#E377C2",
           "#7F7F7F",
           "#BCBD22",
           "#17BECF"
          ],
          "font": {
           "color": "rgb(36,36,36)"
          },
          "geo": {
           "bgcolor": "white",
           "lakecolor": "white",
           "landcolor": "white",
           "showlakes": true,
           "showland": true,
           "subunitcolor": "white"
          },
          "hoverlabel": {
           "align": "left"
          },
          "hovermode": "closest",
          "mapbox": {
           "style": "light"
          },
          "paper_bgcolor": "white",
          "plot_bgcolor": "white",
          "polar": {
           "angularaxis": {
            "gridcolor": "rgb(232,232,232)",
            "linecolor": "rgb(36,36,36)",
            "showgrid": false,
            "showline": true,
            "ticks": "outside"
           },
           "bgcolor": "white",
           "radialaxis": {
            "gridcolor": "rgb(232,232,232)",
            "linecolor": "rgb(36,36,36)",
            "showgrid": false,
            "showline": true,
            "ticks": "outside"
           }
          },
          "scene": {
           "xaxis": {
            "backgroundcolor": "white",
            "gridcolor": "rgb(232,232,232)",
            "gridwidth": 2,
            "linecolor": "rgb(36,36,36)",
            "showbackground": true,
            "showgrid": false,
            "showline": true,
            "ticks": "outside",
            "zeroline": false,
            "zerolinecolor": "rgb(36,36,36)"
           },
           "yaxis": {
            "backgroundcolor": "white",
            "gridcolor": "rgb(232,232,232)",
            "gridwidth": 2,
            "linecolor": "rgb(36,36,36)",
            "showbackground": true,
            "showgrid": false,
            "showline": true,
            "ticks": "outside",
            "zeroline": false,
            "zerolinecolor": "rgb(36,36,36)"
           },
           "zaxis": {
            "backgroundcolor": "white",
            "gridcolor": "rgb(232,232,232)",
            "gridwidth": 2,
            "linecolor": "rgb(36,36,36)",
            "showbackground": true,
            "showgrid": false,
            "showline": true,
            "ticks": "outside",
            "zeroline": false,
            "zerolinecolor": "rgb(36,36,36)"
           }
          },
          "shapedefaults": {
           "fillcolor": "black",
           "line": {
            "width": 0
           },
           "opacity": 0.3
          },
          "ternary": {
           "aaxis": {
            "gridcolor": "rgb(232,232,232)",
            "linecolor": "rgb(36,36,36)",
            "showgrid": false,
            "showline": true,
            "ticks": "outside"
           },
           "baxis": {
            "gridcolor": "rgb(232,232,232)",
            "linecolor": "rgb(36,36,36)",
            "showgrid": false,
            "showline": true,
            "ticks": "outside"
           },
           "bgcolor": "white",
           "caxis": {
            "gridcolor": "rgb(232,232,232)",
            "linecolor": "rgb(36,36,36)",
            "showgrid": false,
            "showline": true,
            "ticks": "outside"
           }
          },
          "title": {
           "x": 0.05
          },
          "xaxis": {
           "automargin": true,
           "gridcolor": "rgb(232,232,232)",
           "linecolor": "rgb(36,36,36)",
           "showgrid": false,
           "showline": true,
           "ticks": "outside",
           "title": {
            "standoff": 15
           },
           "zeroline": false,
           "zerolinecolor": "rgb(36,36,36)"
          },
          "yaxis": {
           "automargin": true,
           "gridcolor": "rgb(232,232,232)",
           "linecolor": "rgb(36,36,36)",
           "showgrid": false,
           "showline": true,
           "ticks": "outside",
           "title": {
            "standoff": 15
           },
           "zeroline": false,
           "zerolinecolor": "rgb(36,36,36)"
          }
         }
        },
        "title": {
         "text": "Cumulative Gross Profit"
        },
        "xaxis": {
         "anchor": "y",
         "domain": [
          0,
          1
         ],
         "title": {
          "text": "market_number"
         }
        },
        "yaxis": {
         "anchor": "x",
         "domain": [
          0,
          1
         ],
         "title": {
          "text": "cGpl"
         }
        }
       }
      }
     },
     "metadata": {},
     "output_type": "display_data"
    }
   ],
   "source": [
    "output_eval(summary)\n",
    "bet_eval_chart_cPl(summary)"
   ]
  },
  {
   "cell_type": "code",
   "execution_count": 101,
   "metadata": {},
   "outputs": [
    {
     "data": {
      "text/html": [
       "<div>\n",
       "<style scoped>\n",
       "    .dataframe tbody tr th:only-of-type {\n",
       "        vertical-align: middle;\n",
       "    }\n",
       "\n",
       "    .dataframe tbody tr th {\n",
       "        vertical-align: top;\n",
       "    }\n",
       "\n",
       "    .dataframe thead th {\n",
       "        text-align: right;\n",
       "    }\n",
       "</style>\n",
       "<table border=\"1\" class=\"dataframe\">\n",
       "  <thead>\n",
       "    <tr style=\"text-align: right;\">\n",
       "      <th></th>\n",
       "      <th>venue</th>\n",
       "      <th>gpl</th>\n",
       "      <th>vol</th>\n",
       "    </tr>\n",
       "  </thead>\n",
       "  <tbody>\n",
       "    <tr>\n",
       "      <th>0</th>\n",
       "      <td>Caulfield</td>\n",
       "      <td>-928.511616</td>\n",
       "      <td>1631728.15</td>\n",
       "    </tr>\n",
       "    <tr>\n",
       "      <th>1</th>\n",
       "      <td>Sandown</td>\n",
       "      <td>-481.083725</td>\n",
       "      <td>827559.07</td>\n",
       "    </tr>\n",
       "    <tr>\n",
       "      <th>2</th>\n",
       "      <td>Flemington</td>\n",
       "      <td>328.329508</td>\n",
       "      <td>946681.99</td>\n",
       "    </tr>\n",
       "    <tr>\n",
       "      <th>3</th>\n",
       "      <td>Moonee Valley</td>\n",
       "      <td>2389.538272</td>\n",
       "      <td>860479.49</td>\n",
       "    </tr>\n",
       "    <tr>\n",
       "      <th>4</th>\n",
       "      <td>Bendigo</td>\n",
       "      <td>3453.627073</td>\n",
       "      <td>89374.49</td>\n",
       "    </tr>\n",
       "  </tbody>\n",
       "</table>\n",
       "</div>"
      ],
      "text/plain": [
       "           venue          gpl         vol\n",
       "0      Caulfield  -928.511616  1631728.15\n",
       "1        Sandown  -481.083725   827559.07\n",
       "2     Flemington   328.329508   946681.99\n",
       "3  Moonee Valley  2389.538272   860479.49\n",
       "4        Bendigo  3453.627073    89374.49"
      ]
     },
     "execution_count": 101,
     "metadata": {},
     "output_type": "execute_result"
    }
   ],
   "source": [
    "raw['vol'] = raw.groupby('market_id')['traded_volume'].diff().fillna(raw['traded_volume'])\n",
    "venue_raw = raw.groupby('venue').agg({'vol': 'sum'}).reset_index()\n",
    "\n",
    "venue_summary = summary.groupby('venue').agg({'gpl': 'sum'}).sort_values('gpl', ascending=True)\n",
    "\n",
    "venue_summary = venue_summary.merge(venue_raw, on='venue', how='left')\n",
    "venue_summary"
   ]
  },
  {
   "cell_type": "code",
   "execution_count": 102,
   "metadata": {},
   "outputs": [
    {
     "data": {
      "text/html": [
       "<div>\n",
       "<style scoped>\n",
       "    .dataframe tbody tr th:only-of-type {\n",
       "        vertical-align: middle;\n",
       "    }\n",
       "\n",
       "    .dataframe tbody tr th {\n",
       "        vertical-align: top;\n",
       "    }\n",
       "\n",
       "    .dataframe thead th {\n",
       "        text-align: right;\n",
       "    }\n",
       "</style>\n",
       "<table border=\"1\" class=\"dataframe\">\n",
       "  <thead>\n",
       "    <tr style=\"text-align: right;\">\n",
       "      <th></th>\n",
       "      <th>venue</th>\n",
       "      <th>gpl</th>\n",
       "      <th>vol</th>\n",
       "    </tr>\n",
       "  </thead>\n",
       "  <tbody>\n",
       "    <tr>\n",
       "      <th>0</th>\n",
       "      <td>Caulfield</td>\n",
       "      <td>-928.511616</td>\n",
       "      <td>1631728.15</td>\n",
       "    </tr>\n",
       "    <tr>\n",
       "      <th>1</th>\n",
       "      <td>Sandown</td>\n",
       "      <td>-481.083725</td>\n",
       "      <td>827559.07</td>\n",
       "    </tr>\n",
       "    <tr>\n",
       "      <th>2</th>\n",
       "      <td>Flemington</td>\n",
       "      <td>328.329508</td>\n",
       "      <td>946681.99</td>\n",
       "    </tr>\n",
       "    <tr>\n",
       "      <th>3</th>\n",
       "      <td>Moonee Valley</td>\n",
       "      <td>2389.538272</td>\n",
       "      <td>860479.49</td>\n",
       "    </tr>\n",
       "    <tr>\n",
       "      <th>4</th>\n",
       "      <td>Bendigo</td>\n",
       "      <td>3453.627073</td>\n",
       "      <td>89374.49</td>\n",
       "    </tr>\n",
       "  </tbody>\n",
       "</table>\n",
       "</div>"
      ],
      "text/plain": [
       "           venue          gpl         vol\n",
       "0      Caulfield  -928.511616  1631728.15\n",
       "1        Sandown  -481.083725   827559.07\n",
       "2     Flemington   328.329508   946681.99\n",
       "3  Moonee Valley  2389.538272   860479.49\n",
       "4        Bendigo  3453.627073    89374.49"
      ]
     },
     "execution_count": 102,
     "metadata": {},
     "output_type": "execute_result"
    }
   ],
   "source": [
    "raw['vol'] = raw.groupby('market_id')['traded_volume'].diff().fillna(raw['traded_volume'])\n",
    "venue_raw = raw.groupby('venue').agg({'vol': 'sum'}).reset_index()\n",
    "\n",
    "venue_summary = summary.groupby('venue').agg({'gpl': 'sum'}).sort_values('gpl', ascending=True)\n",
    "\n",
    "venue_summary = venue_summary.merge(venue_raw, on='venue', how='left')\n",
    "venue_summary"
   ]
  },
  {
   "cell_type": "code",
   "execution_count": 103,
   "metadata": {},
   "outputs": [
    {
     "data": {
      "text/html": [
       "<div>\n",
       "<style scoped>\n",
       "    .dataframe tbody tr th:only-of-type {\n",
       "        vertical-align: middle;\n",
       "    }\n",
       "\n",
       "    .dataframe tbody tr th {\n",
       "        vertical-align: top;\n",
       "    }\n",
       "\n",
       "    .dataframe thead th {\n",
       "        text-align: right;\n",
       "    }\n",
       "</style>\n",
       "<table border=\"1\" class=\"dataframe\">\n",
       "  <thead>\n",
       "    <tr style=\"text-align: right;\">\n",
       "      <th></th>\n",
       "      <th>venue</th>\n",
       "      <th>gpl</th>\n",
       "      <th>vol</th>\n",
       "    </tr>\n",
       "  </thead>\n",
       "  <tbody>\n",
       "    <tr>\n",
       "      <th>0</th>\n",
       "      <td>Caulfield</td>\n",
       "      <td>-928.511616</td>\n",
       "      <td>1631728.15</td>\n",
       "    </tr>\n",
       "    <tr>\n",
       "      <th>1</th>\n",
       "      <td>Sandown</td>\n",
       "      <td>-481.083725</td>\n",
       "      <td>827559.07</td>\n",
       "    </tr>\n",
       "    <tr>\n",
       "      <th>2</th>\n",
       "      <td>Flemington</td>\n",
       "      <td>328.329508</td>\n",
       "      <td>946681.99</td>\n",
       "    </tr>\n",
       "    <tr>\n",
       "      <th>3</th>\n",
       "      <td>Moonee Valley</td>\n",
       "      <td>2389.538272</td>\n",
       "      <td>860479.49</td>\n",
       "    </tr>\n",
       "    <tr>\n",
       "      <th>4</th>\n",
       "      <td>Bendigo</td>\n",
       "      <td>3453.627073</td>\n",
       "      <td>89374.49</td>\n",
       "    </tr>\n",
       "  </tbody>\n",
       "</table>\n",
       "</div>"
      ],
      "text/plain": [
       "           venue          gpl         vol\n",
       "0      Caulfield  -928.511616  1631728.15\n",
       "1        Sandown  -481.083725   827559.07\n",
       "2     Flemington   328.329508   946681.99\n",
       "3  Moonee Valley  2389.538272   860479.49\n",
       "4        Bendigo  3453.627073    89374.49"
      ]
     },
     "execution_count": 103,
     "metadata": {},
     "output_type": "execute_result"
    }
   ],
   "source": [
    "venue_summary"
   ]
  },
  {
   "cell_type": "code",
   "execution_count": 104,
   "metadata": {},
   "outputs": [
    {
     "data": {
      "application/vnd.plotly.v1+json": {
       "config": {
        "plotlyServerURL": "https://plot.ly"
       },
       "data": [
        {
         "name": "GPL",
         "type": "bar",
         "x": [
          "Caulfield",
          "Sandown",
          "Flemington",
          "Moonee Valley",
          "Bendigo"
         ],
         "xaxis": "x",
         "y": [
          -928.5116164321944,
          -481.0837247474874,
          328.3295076312504,
          2389.5382718253645,
          3453.6270731421478
         ],
         "yaxis": "y"
        },
        {
         "name": "Volume",
         "type": "scatter",
         "x": [
          "Caulfield",
          "Sandown",
          "Flemington",
          "Moonee Valley",
          "Bendigo"
         ],
         "xaxis": "x",
         "y": [
          1631728.15,
          827559.07,
          946681.99,
          860479.49,
          89374.49000000002
         ],
         "yaxis": "y2"
        }
       ],
       "layout": {
        "height": 600,
        "template": {
         "data": {
          "bar": [
           {
            "error_x": {
             "color": "#2a3f5f"
            },
            "error_y": {
             "color": "#2a3f5f"
            },
            "marker": {
             "line": {
              "color": "#E5ECF6",
              "width": 0.5
             },
             "pattern": {
              "fillmode": "overlay",
              "size": 10,
              "solidity": 0.2
             }
            },
            "type": "bar"
           }
          ],
          "barpolar": [
           {
            "marker": {
             "line": {
              "color": "#E5ECF6",
              "width": 0.5
             },
             "pattern": {
              "fillmode": "overlay",
              "size": 10,
              "solidity": 0.2
             }
            },
            "type": "barpolar"
           }
          ],
          "carpet": [
           {
            "aaxis": {
             "endlinecolor": "#2a3f5f",
             "gridcolor": "white",
             "linecolor": "white",
             "minorgridcolor": "white",
             "startlinecolor": "#2a3f5f"
            },
            "baxis": {
             "endlinecolor": "#2a3f5f",
             "gridcolor": "white",
             "linecolor": "white",
             "minorgridcolor": "white",
             "startlinecolor": "#2a3f5f"
            },
            "type": "carpet"
           }
          ],
          "choropleth": [
           {
            "colorbar": {
             "outlinewidth": 0,
             "ticks": ""
            },
            "type": "choropleth"
           }
          ],
          "contour": [
           {
            "colorbar": {
             "outlinewidth": 0,
             "ticks": ""
            },
            "colorscale": [
             [
              0,
              "#0d0887"
             ],
             [
              0.1111111111111111,
              "#46039f"
             ],
             [
              0.2222222222222222,
              "#7201a8"
             ],
             [
              0.3333333333333333,
              "#9c179e"
             ],
             [
              0.4444444444444444,
              "#bd3786"
             ],
             [
              0.5555555555555556,
              "#d8576b"
             ],
             [
              0.6666666666666666,
              "#ed7953"
             ],
             [
              0.7777777777777778,
              "#fb9f3a"
             ],
             [
              0.8888888888888888,
              "#fdca26"
             ],
             [
              1,
              "#f0f921"
             ]
            ],
            "type": "contour"
           }
          ],
          "contourcarpet": [
           {
            "colorbar": {
             "outlinewidth": 0,
             "ticks": ""
            },
            "type": "contourcarpet"
           }
          ],
          "heatmap": [
           {
            "colorbar": {
             "outlinewidth": 0,
             "ticks": ""
            },
            "colorscale": [
             [
              0,
              "#0d0887"
             ],
             [
              0.1111111111111111,
              "#46039f"
             ],
             [
              0.2222222222222222,
              "#7201a8"
             ],
             [
              0.3333333333333333,
              "#9c179e"
             ],
             [
              0.4444444444444444,
              "#bd3786"
             ],
             [
              0.5555555555555556,
              "#d8576b"
             ],
             [
              0.6666666666666666,
              "#ed7953"
             ],
             [
              0.7777777777777778,
              "#fb9f3a"
             ],
             [
              0.8888888888888888,
              "#fdca26"
             ],
             [
              1,
              "#f0f921"
             ]
            ],
            "type": "heatmap"
           }
          ],
          "heatmapgl": [
           {
            "colorbar": {
             "outlinewidth": 0,
             "ticks": ""
            },
            "colorscale": [
             [
              0,
              "#0d0887"
             ],
             [
              0.1111111111111111,
              "#46039f"
             ],
             [
              0.2222222222222222,
              "#7201a8"
             ],
             [
              0.3333333333333333,
              "#9c179e"
             ],
             [
              0.4444444444444444,
              "#bd3786"
             ],
             [
              0.5555555555555556,
              "#d8576b"
             ],
             [
              0.6666666666666666,
              "#ed7953"
             ],
             [
              0.7777777777777778,
              "#fb9f3a"
             ],
             [
              0.8888888888888888,
              "#fdca26"
             ],
             [
              1,
              "#f0f921"
             ]
            ],
            "type": "heatmapgl"
           }
          ],
          "histogram": [
           {
            "marker": {
             "pattern": {
              "fillmode": "overlay",
              "size": 10,
              "solidity": 0.2
             }
            },
            "type": "histogram"
           }
          ],
          "histogram2d": [
           {
            "colorbar": {
             "outlinewidth": 0,
             "ticks": ""
            },
            "colorscale": [
             [
              0,
              "#0d0887"
             ],
             [
              0.1111111111111111,
              "#46039f"
             ],
             [
              0.2222222222222222,
              "#7201a8"
             ],
             [
              0.3333333333333333,
              "#9c179e"
             ],
             [
              0.4444444444444444,
              "#bd3786"
             ],
             [
              0.5555555555555556,
              "#d8576b"
             ],
             [
              0.6666666666666666,
              "#ed7953"
             ],
             [
              0.7777777777777778,
              "#fb9f3a"
             ],
             [
              0.8888888888888888,
              "#fdca26"
             ],
             [
              1,
              "#f0f921"
             ]
            ],
            "type": "histogram2d"
           }
          ],
          "histogram2dcontour": [
           {
            "colorbar": {
             "outlinewidth": 0,
             "ticks": ""
            },
            "colorscale": [
             [
              0,
              "#0d0887"
             ],
             [
              0.1111111111111111,
              "#46039f"
             ],
             [
              0.2222222222222222,
              "#7201a8"
             ],
             [
              0.3333333333333333,
              "#9c179e"
             ],
             [
              0.4444444444444444,
              "#bd3786"
             ],
             [
              0.5555555555555556,
              "#d8576b"
             ],
             [
              0.6666666666666666,
              "#ed7953"
             ],
             [
              0.7777777777777778,
              "#fb9f3a"
             ],
             [
              0.8888888888888888,
              "#fdca26"
             ],
             [
              1,
              "#f0f921"
             ]
            ],
            "type": "histogram2dcontour"
           }
          ],
          "mesh3d": [
           {
            "colorbar": {
             "outlinewidth": 0,
             "ticks": ""
            },
            "type": "mesh3d"
           }
          ],
          "parcoords": [
           {
            "line": {
             "colorbar": {
              "outlinewidth": 0,
              "ticks": ""
             }
            },
            "type": "parcoords"
           }
          ],
          "pie": [
           {
            "automargin": true,
            "type": "pie"
           }
          ],
          "scatter": [
           {
            "fillpattern": {
             "fillmode": "overlay",
             "size": 10,
             "solidity": 0.2
            },
            "type": "scatter"
           }
          ],
          "scatter3d": [
           {
            "line": {
             "colorbar": {
              "outlinewidth": 0,
              "ticks": ""
             }
            },
            "marker": {
             "colorbar": {
              "outlinewidth": 0,
              "ticks": ""
             }
            },
            "type": "scatter3d"
           }
          ],
          "scattercarpet": [
           {
            "marker": {
             "colorbar": {
              "outlinewidth": 0,
              "ticks": ""
             }
            },
            "type": "scattercarpet"
           }
          ],
          "scattergeo": [
           {
            "marker": {
             "colorbar": {
              "outlinewidth": 0,
              "ticks": ""
             }
            },
            "type": "scattergeo"
           }
          ],
          "scattergl": [
           {
            "marker": {
             "colorbar": {
              "outlinewidth": 0,
              "ticks": ""
             }
            },
            "type": "scattergl"
           }
          ],
          "scattermapbox": [
           {
            "marker": {
             "colorbar": {
              "outlinewidth": 0,
              "ticks": ""
             }
            },
            "type": "scattermapbox"
           }
          ],
          "scatterpolar": [
           {
            "marker": {
             "colorbar": {
              "outlinewidth": 0,
              "ticks": ""
             }
            },
            "type": "scatterpolar"
           }
          ],
          "scatterpolargl": [
           {
            "marker": {
             "colorbar": {
              "outlinewidth": 0,
              "ticks": ""
             }
            },
            "type": "scatterpolargl"
           }
          ],
          "scatterternary": [
           {
            "marker": {
             "colorbar": {
              "outlinewidth": 0,
              "ticks": ""
             }
            },
            "type": "scatterternary"
           }
          ],
          "surface": [
           {
            "colorbar": {
             "outlinewidth": 0,
             "ticks": ""
            },
            "colorscale": [
             [
              0,
              "#0d0887"
             ],
             [
              0.1111111111111111,
              "#46039f"
             ],
             [
              0.2222222222222222,
              "#7201a8"
             ],
             [
              0.3333333333333333,
              "#9c179e"
             ],
             [
              0.4444444444444444,
              "#bd3786"
             ],
             [
              0.5555555555555556,
              "#d8576b"
             ],
             [
              0.6666666666666666,
              "#ed7953"
             ],
             [
              0.7777777777777778,
              "#fb9f3a"
             ],
             [
              0.8888888888888888,
              "#fdca26"
             ],
             [
              1,
              "#f0f921"
             ]
            ],
            "type": "surface"
           }
          ],
          "table": [
           {
            "cells": {
             "fill": {
              "color": "#EBF0F8"
             },
             "line": {
              "color": "white"
             }
            },
            "header": {
             "fill": {
              "color": "#C8D4E3"
             },
             "line": {
              "color": "white"
             }
            },
            "type": "table"
           }
          ]
         },
         "layout": {
          "annotationdefaults": {
           "arrowcolor": "#2a3f5f",
           "arrowhead": 0,
           "arrowwidth": 1
          },
          "autotypenumbers": "strict",
          "coloraxis": {
           "colorbar": {
            "outlinewidth": 0,
            "ticks": ""
           }
          },
          "colorscale": {
           "diverging": [
            [
             0,
             "#8e0152"
            ],
            [
             0.1,
             "#c51b7d"
            ],
            [
             0.2,
             "#de77ae"
            ],
            [
             0.3,
             "#f1b6da"
            ],
            [
             0.4,
             "#fde0ef"
            ],
            [
             0.5,
             "#f7f7f7"
            ],
            [
             0.6,
             "#e6f5d0"
            ],
            [
             0.7,
             "#b8e186"
            ],
            [
             0.8,
             "#7fbc41"
            ],
            [
             0.9,
             "#4d9221"
            ],
            [
             1,
             "#276419"
            ]
           ],
           "sequential": [
            [
             0,
             "#0d0887"
            ],
            [
             0.1111111111111111,
             "#46039f"
            ],
            [
             0.2222222222222222,
             "#7201a8"
            ],
            [
             0.3333333333333333,
             "#9c179e"
            ],
            [
             0.4444444444444444,
             "#bd3786"
            ],
            [
             0.5555555555555556,
             "#d8576b"
            ],
            [
             0.6666666666666666,
             "#ed7953"
            ],
            [
             0.7777777777777778,
             "#fb9f3a"
            ],
            [
             0.8888888888888888,
             "#fdca26"
            ],
            [
             1,
             "#f0f921"
            ]
           ],
           "sequentialminus": [
            [
             0,
             "#0d0887"
            ],
            [
             0.1111111111111111,
             "#46039f"
            ],
            [
             0.2222222222222222,
             "#7201a8"
            ],
            [
             0.3333333333333333,
             "#9c179e"
            ],
            [
             0.4444444444444444,
             "#bd3786"
            ],
            [
             0.5555555555555556,
             "#d8576b"
            ],
            [
             0.6666666666666666,
             "#ed7953"
            ],
            [
             0.7777777777777778,
             "#fb9f3a"
            ],
            [
             0.8888888888888888,
             "#fdca26"
            ],
            [
             1,
             "#f0f921"
            ]
           ]
          },
          "colorway": [
           "#636efa",
           "#EF553B",
           "#00cc96",
           "#ab63fa",
           "#FFA15A",
           "#19d3f3",
           "#FF6692",
           "#B6E880",
           "#FF97FF",
           "#FECB52"
          ],
          "font": {
           "color": "#2a3f5f"
          },
          "geo": {
           "bgcolor": "white",
           "lakecolor": "white",
           "landcolor": "#E5ECF6",
           "showlakes": true,
           "showland": true,
           "subunitcolor": "white"
          },
          "hoverlabel": {
           "align": "left"
          },
          "hovermode": "closest",
          "mapbox": {
           "style": "light"
          },
          "paper_bgcolor": "white",
          "plot_bgcolor": "#E5ECF6",
          "polar": {
           "angularaxis": {
            "gridcolor": "white",
            "linecolor": "white",
            "ticks": ""
           },
           "bgcolor": "#E5ECF6",
           "radialaxis": {
            "gridcolor": "white",
            "linecolor": "white",
            "ticks": ""
           }
          },
          "scene": {
           "xaxis": {
            "backgroundcolor": "#E5ECF6",
            "gridcolor": "white",
            "gridwidth": 2,
            "linecolor": "white",
            "showbackground": true,
            "ticks": "",
            "zerolinecolor": "white"
           },
           "yaxis": {
            "backgroundcolor": "#E5ECF6",
            "gridcolor": "white",
            "gridwidth": 2,
            "linecolor": "white",
            "showbackground": true,
            "ticks": "",
            "zerolinecolor": "white"
           },
           "zaxis": {
            "backgroundcolor": "#E5ECF6",
            "gridcolor": "white",
            "gridwidth": 2,
            "linecolor": "white",
            "showbackground": true,
            "ticks": "",
            "zerolinecolor": "white"
           }
          },
          "shapedefaults": {
           "line": {
            "color": "#2a3f5f"
           }
          },
          "ternary": {
           "aaxis": {
            "gridcolor": "white",
            "linecolor": "white",
            "ticks": ""
           },
           "baxis": {
            "gridcolor": "white",
            "linecolor": "white",
            "ticks": ""
           },
           "bgcolor": "#E5ECF6",
           "caxis": {
            "gridcolor": "white",
            "linecolor": "white",
            "ticks": ""
           }
          },
          "title": {
           "x": 0.05
          },
          "xaxis": {
           "automargin": true,
           "gridcolor": "white",
           "linecolor": "white",
           "ticks": "",
           "title": {
            "standoff": 15
           },
           "zerolinecolor": "white",
           "zerolinewidth": 2
          },
          "yaxis": {
           "automargin": true,
           "gridcolor": "white",
           "linecolor": "white",
           "ticks": "",
           "title": {
            "standoff": 15
           },
           "zerolinecolor": "white",
           "zerolinewidth": 2
          }
         }
        },
        "title": {
         "text": "Total GPL and Volume by Venue"
        },
        "width": 1300,
        "xaxis": {
         "anchor": "y",
         "domain": [
          0,
          0.94
         ],
         "tickfont": {
          "size": 8
         },
         "ticktext": [
          "Caulfield",
          "Sandown",
          "Flemington",
          "Moonee Valley",
          "Bendigo"
         ],
         "tickvals": [
          "Caulfield",
          "Sandown",
          "Flemington",
          "Moonee Valley",
          "Bendigo"
         ],
         "title": {
          "text": "Venue"
         }
        },
        "yaxis": {
         "anchor": "x",
         "domain": [
          0,
          1
         ],
         "title": {
          "text": "<b>GPL</b>"
         }
        },
        "yaxis2": {
         "anchor": "x",
         "overlaying": "y",
         "side": "right",
         "title": {
          "text": "<b>Volume</b>"
         }
        }
       }
      }
     },
     "metadata": {},
     "output_type": "display_data"
    }
   ],
   "source": [
    "from plotly.subplots import make_subplots\n",
    "\n",
    "fig = make_subplots(specs=[[{\"secondary_y\": True}]])\n",
    "\n",
    "# Add traces\n",
    "fig.add_trace(\n",
    "    go.Bar(x=venue_summary['venue'], y=venue_summary['gpl'], name=\"GPL\"),\n",
    "    secondary_y=False,\n",
    ")\n",
    "fig.add_trace(\n",
    "    go.Scatter(x=venue_summary['venue'], y=venue_summary['vol'], name=\"Volume\"),\n",
    "    secondary_y=True,\n",
    ")\n",
    "\n",
    "# Add figure title\n",
    "fig.update_layout(\n",
    "    title_text=\"Total GPL and Volume by Venue\"\n",
    ")\n",
    "\n",
    "# Set x-axis title\n",
    "fig.update_xaxes(title_text=\"Venue\")\n",
    "\n",
    "# Set y-axes titles\n",
    "fig.update_yaxes(title_text=\"<b>GPL</b>\", secondary_y=False)\n",
    "fig.update_yaxes(title_text=\"<b>Volume</b>\", secondary_y=True)\n",
    "\n",
    "tickvals = venue_summary['venue'].tolist()\n",
    "ticktext = venue_summary['venue'].tolist()\n",
    "\n",
    "fig.update_xaxes(tickvals=tickvals, ticktext=ticktext)\n",
    "# Increase the graph size\n",
    "fig.update_layout(width=1300, height=600)\n",
    "\n",
    "# Reduce the x-axis label font size\n",
    "fig.update_xaxes(tickfont=dict(size=8))\n",
    "\n",
    "fig.show()"
   ]
  },
  {
   "cell_type": "code",
   "execution_count": 105,
   "metadata": {},
   "outputs": [
    {
     "data": {
      "text/html": [
       "<div>\n",
       "<style scoped>\n",
       "    .dataframe tbody tr th:only-of-type {\n",
       "        vertical-align: middle;\n",
       "    }\n",
       "\n",
       "    .dataframe tbody tr th {\n",
       "        vertical-align: top;\n",
       "    }\n",
       "\n",
       "    .dataframe thead th {\n",
       "        text-align: right;\n",
       "    }\n",
       "</style>\n",
       "<table border=\"1\" class=\"dataframe\">\n",
       "  <thead>\n",
       "    <tr style=\"text-align: right;\">\n",
       "      <th></th>\n",
       "      <th>market_id</th>\n",
       "      <th>selection_id</th>\n",
       "      <th>selection_name</th>\n",
       "      <th>venue</th>\n",
       "      <th>win</th>\n",
       "      <th>back_trades</th>\n",
       "      <th>lay_trades</th>\n",
       "      <th>lay_v_sum</th>\n",
       "      <th>back_v_sum</th>\n",
       "      <th>back_liability</th>\n",
       "      <th>back_return</th>\n",
       "      <th>lay_liability</th>\n",
       "      <th>lay_return</th>\n",
       "      <th>month</th>\n",
       "      <th>gpl</th>\n",
       "      <th>stake</th>\n",
       "    </tr>\n",
       "  </thead>\n",
       "  <tbody>\n",
       "    <tr>\n",
       "      <th>0</th>\n",
       "      <td>1.221906108</td>\n",
       "      <td>54632509</td>\n",
       "      <td>3. Field Of Mars</td>\n",
       "      <td>Moonee Valley</td>\n",
       "      <td>0</td>\n",
       "      <td>{'p': [40.0, 40.0, 40.0, 40.0, 40.0, 40.0, 42....</td>\n",
       "      <td>{'p': [42.0, 42.0, 42.0, 42.0, 42.0, 42.0, 42....</td>\n",
       "      <td>67.187500</td>\n",
       "      <td>22.656250</td>\n",
       "      <td>22.656250</td>\n",
       "      <td>-22.656250</td>\n",
       "      <td>0.000000</td>\n",
       "      <td>67.187500</td>\n",
       "      <td>2023_12</td>\n",
       "      <td>44.531250</td>\n",
       "      <td>89.843750</td>\n",
       "    </tr>\n",
       "    <tr>\n",
       "      <th>1</th>\n",
       "      <td>1.221906108</td>\n",
       "      <td>1436299</td>\n",
       "      <td>4. New Hampshire</td>\n",
       "      <td>Moonee Valley</td>\n",
       "      <td>1</td>\n",
       "      <td>{'p': [23.0, 22.0, 22.0, 22.0, 22.0, 22.0, 23....</td>\n",
       "      <td>{'p': [21.0, 21.0, 21.0, 21.0, 21.0, 21.0, 21....</td>\n",
       "      <td>20.625000</td>\n",
       "      <td>21.406250</td>\n",
       "      <td>21.406250</td>\n",
       "      <td>470.156250</td>\n",
       "      <td>381.015625</td>\n",
       "      <td>-381.015625</td>\n",
       "      <td>2023_12</td>\n",
       "      <td>89.140625</td>\n",
       "      <td>42.031250</td>\n",
       "    </tr>\n",
       "    <tr>\n",
       "      <th>2</th>\n",
       "      <td>1.221906108</td>\n",
       "      <td>63363608</td>\n",
       "      <td>6. Warmosa</td>\n",
       "      <td>Moonee Valley</td>\n",
       "      <td>0</td>\n",
       "      <td>{'p': [16.0, 16.0, 16.5, 16.5, 16.5, 16.5, 16....</td>\n",
       "      <td>{'p': [19.0, 19.0, 19.0, 19.0, 19.0, 19.0, 19....</td>\n",
       "      <td>13.437500</td>\n",
       "      <td>21.500000</td>\n",
       "      <td>21.500000</td>\n",
       "      <td>-21.500000</td>\n",
       "      <td>0.000000</td>\n",
       "      <td>13.437500</td>\n",
       "      <td>2023_12</td>\n",
       "      <td>-8.062500</td>\n",
       "      <td>34.937500</td>\n",
       "    </tr>\n",
       "    <tr>\n",
       "      <th>3</th>\n",
       "      <td>1.221906108</td>\n",
       "      <td>63363609</td>\n",
       "      <td>7. Steel King</td>\n",
       "      <td>Moonee Valley</td>\n",
       "      <td>0</td>\n",
       "      <td>{'p': [7.2, 7.4, 5.6, 5.6, 5.6, 5.6, 5.6, 5.6,...</td>\n",
       "      <td>{'p': [], 'v': []}</td>\n",
       "      <td>0.000000</td>\n",
       "      <td>10.968750</td>\n",
       "      <td>10.968750</td>\n",
       "      <td>-10.968750</td>\n",
       "      <td>0.000000</td>\n",
       "      <td>0.000000</td>\n",
       "      <td>2023_12</td>\n",
       "      <td>-10.968750</td>\n",
       "      <td>10.968750</td>\n",
       "    </tr>\n",
       "    <tr>\n",
       "      <th>4</th>\n",
       "      <td>1.221906108</td>\n",
       "      <td>63363610</td>\n",
       "      <td>8. Vienna Lights</td>\n",
       "      <td>Moonee Valley</td>\n",
       "      <td>0</td>\n",
       "      <td>{'p': [20.0, 20.0, 21.0, 22.0, 22.0, 22.0, 22....</td>\n",
       "      <td>{'p': [22.0, 22.0, 22.0, 22.0, 22.0, 22.0, 22....</td>\n",
       "      <td>34.531250</td>\n",
       "      <td>38.750000</td>\n",
       "      <td>38.750000</td>\n",
       "      <td>-38.750000</td>\n",
       "      <td>0.000000</td>\n",
       "      <td>34.531250</td>\n",
       "      <td>2023_12</td>\n",
       "      <td>-4.218750</td>\n",
       "      <td>73.281250</td>\n",
       "    </tr>\n",
       "    <tr>\n",
       "      <th>...</th>\n",
       "      <td>...</td>\n",
       "      <td>...</td>\n",
       "      <td>...</td>\n",
       "      <td>...</td>\n",
       "      <td>...</td>\n",
       "      <td>...</td>\n",
       "      <td>...</td>\n",
       "      <td>...</td>\n",
       "      <td>...</td>\n",
       "      <td>...</td>\n",
       "      <td>...</td>\n",
       "      <td>...</td>\n",
       "      <td>...</td>\n",
       "      <td>...</td>\n",
       "      <td>...</td>\n",
       "      <td>...</td>\n",
       "    </tr>\n",
       "    <tr>\n",
       "      <th>1062</th>\n",
       "      <td>1.225361859</td>\n",
       "      <td>66487428</td>\n",
       "      <td>11. Hooah Havana</td>\n",
       "      <td>Sandown</td>\n",
       "      <td>0</td>\n",
       "      <td>{'p': [12.0, 12.5, 12.0, 12.5, 12.5, 14.5, 13....</td>\n",
       "      <td>{'p': [], 'v': []}</td>\n",
       "      <td>0.000000</td>\n",
       "      <td>3.035714</td>\n",
       "      <td>3.035714</td>\n",
       "      <td>-3.035714</td>\n",
       "      <td>0.000000</td>\n",
       "      <td>0.000000</td>\n",
       "      <td>2024_02</td>\n",
       "      <td>-3.035714</td>\n",
       "      <td>3.035714</td>\n",
       "    </tr>\n",
       "    <tr>\n",
       "      <th>1063</th>\n",
       "      <td>1.225361859</td>\n",
       "      <td>45023136</td>\n",
       "      <td>12. Gwan So</td>\n",
       "      <td>Sandown</td>\n",
       "      <td>0</td>\n",
       "      <td>{'p': [18.5, 18.5, 19.5, 19.5, 19.5, 19.5, 19....</td>\n",
       "      <td>{'p': [24.0, 24.0, 24.0, 24.0, 24.0, 24.0, 24....</td>\n",
       "      <td>1.785714</td>\n",
       "      <td>54.464286</td>\n",
       "      <td>54.464286</td>\n",
       "      <td>-54.464286</td>\n",
       "      <td>0.000000</td>\n",
       "      <td>1.785714</td>\n",
       "      <td>2024_02</td>\n",
       "      <td>-52.678571</td>\n",
       "      <td>56.250000</td>\n",
       "    </tr>\n",
       "    <tr>\n",
       "      <th>1064</th>\n",
       "      <td>1.225361859</td>\n",
       "      <td>66487431</td>\n",
       "      <td>13. Kodiak</td>\n",
       "      <td>Sandown</td>\n",
       "      <td>0</td>\n",
       "      <td>{'p': [11.5, 11.5, 11.5, 12.5, 12.5, 12.5, 12....</td>\n",
       "      <td>{'p': [14.5, 14.5, 14.5, 14.5, 14.5, 14.5, 14....</td>\n",
       "      <td>2.321429</td>\n",
       "      <td>42.571429</td>\n",
       "      <td>42.571429</td>\n",
       "      <td>-42.571429</td>\n",
       "      <td>0.000000</td>\n",
       "      <td>2.321429</td>\n",
       "      <td>2024_02</td>\n",
       "      <td>-40.250000</td>\n",
       "      <td>44.892857</td>\n",
       "    </tr>\n",
       "    <tr>\n",
       "      <th>1065</th>\n",
       "      <td>1.225361859</td>\n",
       "      <td>60816398</td>\n",
       "      <td>14. Eye Of The Eagle</td>\n",
       "      <td>Sandown</td>\n",
       "      <td>0</td>\n",
       "      <td>{'p': [5.7, 5.7, 5.6, 5.9, 5.9, 5.7, 5.6, 5.5,...</td>\n",
       "      <td>{'p': [], 'v': []}</td>\n",
       "      <td>0.000000</td>\n",
       "      <td>7.607143</td>\n",
       "      <td>7.607143</td>\n",
       "      <td>-7.607143</td>\n",
       "      <td>0.000000</td>\n",
       "      <td>0.000000</td>\n",
       "      <td>2024_02</td>\n",
       "      <td>-7.607143</td>\n",
       "      <td>7.607143</td>\n",
       "    </tr>\n",
       "    <tr>\n",
       "      <th>1066</th>\n",
       "      <td>1.225361859</td>\n",
       "      <td>50088198</td>\n",
       "      <td>15. Ghetto Supastar</td>\n",
       "      <td>Sandown</td>\n",
       "      <td>0</td>\n",
       "      <td>{'p': [50.0, 55.0, 55.0, 55.0, 50.0, 55.0, 55....</td>\n",
       "      <td>{'p': [], 'v': []}</td>\n",
       "      <td>0.000000</td>\n",
       "      <td>3.785714</td>\n",
       "      <td>3.785714</td>\n",
       "      <td>-3.785714</td>\n",
       "      <td>0.000000</td>\n",
       "      <td>0.000000</td>\n",
       "      <td>2024_02</td>\n",
       "      <td>-3.785714</td>\n",
       "      <td>3.785714</td>\n",
       "    </tr>\n",
       "  </tbody>\n",
       "</table>\n",
       "<p>2766 rows × 16 columns</p>\n",
       "</div>"
      ],
      "text/plain": [
       "        market_id selection_id        selection_name          venue  win  \\\n",
       "0     1.221906108     54632509      3. Field Of Mars  Moonee Valley    0   \n",
       "1     1.221906108      1436299      4. New Hampshire  Moonee Valley    1   \n",
       "2     1.221906108     63363608            6. Warmosa  Moonee Valley    0   \n",
       "3     1.221906108     63363609         7. Steel King  Moonee Valley    0   \n",
       "4     1.221906108     63363610      8. Vienna Lights  Moonee Valley    0   \n",
       "...           ...          ...                   ...            ...  ...   \n",
       "1062  1.225361859     66487428      11. Hooah Havana        Sandown    0   \n",
       "1063  1.225361859     45023136           12. Gwan So        Sandown    0   \n",
       "1064  1.225361859     66487431            13. Kodiak        Sandown    0   \n",
       "1065  1.225361859     60816398  14. Eye Of The Eagle        Sandown    0   \n",
       "1066  1.225361859     50088198   15. Ghetto Supastar        Sandown    0   \n",
       "\n",
       "                                            back_trades  \\\n",
       "0     {'p': [40.0, 40.0, 40.0, 40.0, 40.0, 40.0, 42....   \n",
       "1     {'p': [23.0, 22.0, 22.0, 22.0, 22.0, 22.0, 23....   \n",
       "2     {'p': [16.0, 16.0, 16.5, 16.5, 16.5, 16.5, 16....   \n",
       "3     {'p': [7.2, 7.4, 5.6, 5.6, 5.6, 5.6, 5.6, 5.6,...   \n",
       "4     {'p': [20.0, 20.0, 21.0, 22.0, 22.0, 22.0, 22....   \n",
       "...                                                 ...   \n",
       "1062  {'p': [12.0, 12.5, 12.0, 12.5, 12.5, 14.5, 13....   \n",
       "1063  {'p': [18.5, 18.5, 19.5, 19.5, 19.5, 19.5, 19....   \n",
       "1064  {'p': [11.5, 11.5, 11.5, 12.5, 12.5, 12.5, 12....   \n",
       "1065  {'p': [5.7, 5.7, 5.6, 5.9, 5.9, 5.7, 5.6, 5.5,...   \n",
       "1066  {'p': [50.0, 55.0, 55.0, 55.0, 50.0, 55.0, 55....   \n",
       "\n",
       "                                             lay_trades  lay_v_sum  \\\n",
       "0     {'p': [42.0, 42.0, 42.0, 42.0, 42.0, 42.0, 42....  67.187500   \n",
       "1     {'p': [21.0, 21.0, 21.0, 21.0, 21.0, 21.0, 21....  20.625000   \n",
       "2     {'p': [19.0, 19.0, 19.0, 19.0, 19.0, 19.0, 19....  13.437500   \n",
       "3                                    {'p': [], 'v': []}   0.000000   \n",
       "4     {'p': [22.0, 22.0, 22.0, 22.0, 22.0, 22.0, 22....  34.531250   \n",
       "...                                                 ...        ...   \n",
       "1062                                 {'p': [], 'v': []}   0.000000   \n",
       "1063  {'p': [24.0, 24.0, 24.0, 24.0, 24.0, 24.0, 24....   1.785714   \n",
       "1064  {'p': [14.5, 14.5, 14.5, 14.5, 14.5, 14.5, 14....   2.321429   \n",
       "1065                                 {'p': [], 'v': []}   0.000000   \n",
       "1066                                 {'p': [], 'v': []}   0.000000   \n",
       "\n",
       "      back_v_sum  back_liability  back_return  lay_liability  lay_return  \\\n",
       "0      22.656250       22.656250   -22.656250       0.000000   67.187500   \n",
       "1      21.406250       21.406250   470.156250     381.015625 -381.015625   \n",
       "2      21.500000       21.500000   -21.500000       0.000000   13.437500   \n",
       "3      10.968750       10.968750   -10.968750       0.000000    0.000000   \n",
       "4      38.750000       38.750000   -38.750000       0.000000   34.531250   \n",
       "...          ...             ...          ...            ...         ...   \n",
       "1062    3.035714        3.035714    -3.035714       0.000000    0.000000   \n",
       "1063   54.464286       54.464286   -54.464286       0.000000    1.785714   \n",
       "1064   42.571429       42.571429   -42.571429       0.000000    2.321429   \n",
       "1065    7.607143        7.607143    -7.607143       0.000000    0.000000   \n",
       "1066    3.785714        3.785714    -3.785714       0.000000    0.000000   \n",
       "\n",
       "        month        gpl      stake  \n",
       "0     2023_12  44.531250  89.843750  \n",
       "1     2023_12  89.140625  42.031250  \n",
       "2     2023_12  -8.062500  34.937500  \n",
       "3     2023_12 -10.968750  10.968750  \n",
       "4     2023_12  -4.218750  73.281250  \n",
       "...       ...        ...        ...  \n",
       "1062  2024_02  -3.035714   3.035714  \n",
       "1063  2024_02 -52.678571  56.250000  \n",
       "1064  2024_02 -40.250000  44.892857  \n",
       "1065  2024_02  -7.607143   7.607143  \n",
       "1066  2024_02  -3.785714   3.785714  \n",
       "\n",
       "[2766 rows x 16 columns]"
      ]
     },
     "execution_count": 105,
     "metadata": {},
     "output_type": "execute_result"
    }
   ],
   "source": [
    "n = 5 # top and bottom 5\n",
    "signif_venues = pd.concat([venue_summary.head(n), venue_summary.tail(n)])['venue'].tolist()\n",
    "signif_summary = summary[(summary['venue'].isin(signif_venues))]\n",
    "signif_summary"
   ]
  },
  {
   "cell_type": "code",
   "execution_count": 106,
   "metadata": {},
   "outputs": [
    {
     "data": {
      "text/html": [
       "<div>\n",
       "<style scoped>\n",
       "    .dataframe tbody tr th:only-of-type {\n",
       "        vertical-align: middle;\n",
       "    }\n",
       "\n",
       "    .dataframe tbody tr th {\n",
       "        vertical-align: top;\n",
       "    }\n",
       "\n",
       "    .dataframe thead th {\n",
       "        text-align: right;\n",
       "    }\n",
       "</style>\n",
       "<table border=\"1\" class=\"dataframe\">\n",
       "  <thead>\n",
       "    <tr style=\"text-align: right;\">\n",
       "      <th></th>\n",
       "      <th>venue</th>\n",
       "      <th>month</th>\n",
       "      <th>gpl</th>\n",
       "    </tr>\n",
       "  </thead>\n",
       "  <tbody>\n",
       "    <tr>\n",
       "      <th>0</th>\n",
       "      <td>Bendigo</td>\n",
       "      <td>2023_12</td>\n",
       "      <td>-135.856354</td>\n",
       "    </tr>\n",
       "    <tr>\n",
       "      <th>1</th>\n",
       "      <td>Bendigo</td>\n",
       "      <td>2024_02</td>\n",
       "      <td>3589.483427</td>\n",
       "    </tr>\n",
       "    <tr>\n",
       "      <th>2</th>\n",
       "      <td>Caulfield</td>\n",
       "      <td>2023_12</td>\n",
       "      <td>-517.529426</td>\n",
       "    </tr>\n",
       "    <tr>\n",
       "      <th>3</th>\n",
       "      <td>Caulfield</td>\n",
       "      <td>2024_01</td>\n",
       "      <td>-497.343429</td>\n",
       "    </tr>\n",
       "    <tr>\n",
       "      <th>4</th>\n",
       "      <td>Caulfield</td>\n",
       "      <td>2024_02</td>\n",
       "      <td>86.361238</td>\n",
       "    </tr>\n",
       "    <tr>\n",
       "      <th>5</th>\n",
       "      <td>Flemington</td>\n",
       "      <td>2023_12</td>\n",
       "      <td>-579.015873</td>\n",
       "    </tr>\n",
       "    <tr>\n",
       "      <th>6</th>\n",
       "      <td>Flemington</td>\n",
       "      <td>2024_01</td>\n",
       "      <td>2044.218853</td>\n",
       "    </tr>\n",
       "    <tr>\n",
       "      <th>7</th>\n",
       "      <td>Flemington</td>\n",
       "      <td>2024_02</td>\n",
       "      <td>-1136.873472</td>\n",
       "    </tr>\n",
       "    <tr>\n",
       "      <th>8</th>\n",
       "      <td>Moonee Valley</td>\n",
       "      <td>2023_12</td>\n",
       "      <td>-1384.195538</td>\n",
       "    </tr>\n",
       "    <tr>\n",
       "      <th>9</th>\n",
       "      <td>Moonee Valley</td>\n",
       "      <td>2024_01</td>\n",
       "      <td>705.266512</td>\n",
       "    </tr>\n",
       "    <tr>\n",
       "      <th>10</th>\n",
       "      <td>Moonee Valley</td>\n",
       "      <td>2024_02</td>\n",
       "      <td>3068.467298</td>\n",
       "    </tr>\n",
       "    <tr>\n",
       "      <th>11</th>\n",
       "      <td>Sandown</td>\n",
       "      <td>2023_12</td>\n",
       "      <td>-63.594682</td>\n",
       "    </tr>\n",
       "    <tr>\n",
       "      <th>12</th>\n",
       "      <td>Sandown</td>\n",
       "      <td>2024_01</td>\n",
       "      <td>-1313.499233</td>\n",
       "    </tr>\n",
       "    <tr>\n",
       "      <th>13</th>\n",
       "      <td>Sandown</td>\n",
       "      <td>2024_02</td>\n",
       "      <td>896.010190</td>\n",
       "    </tr>\n",
       "  </tbody>\n",
       "</table>\n",
       "</div>"
      ],
      "text/plain": [
       "            venue    month          gpl\n",
       "0         Bendigo  2023_12  -135.856354\n",
       "1         Bendigo  2024_02  3589.483427\n",
       "2       Caulfield  2023_12  -517.529426\n",
       "3       Caulfield  2024_01  -497.343429\n",
       "4       Caulfield  2024_02    86.361238\n",
       "5      Flemington  2023_12  -579.015873\n",
       "6      Flemington  2024_01  2044.218853\n",
       "7      Flemington  2024_02 -1136.873472\n",
       "8   Moonee Valley  2023_12 -1384.195538\n",
       "9   Moonee Valley  2024_01   705.266512\n",
       "10  Moonee Valley  2024_02  3068.467298\n",
       "11        Sandown  2023_12   -63.594682\n",
       "12        Sandown  2024_01 -1313.499233\n",
       "13        Sandown  2024_02   896.010190"
      ]
     },
     "execution_count": 106,
     "metadata": {},
     "output_type": "execute_result"
    }
   ],
   "source": [
    "signif_summary_month = signif_summary.groupby(['venue', 'month']).agg({'gpl': 'sum'}).reset_index()\n",
    "signif_summary_month"
   ]
  },
  {
   "cell_type": "code",
   "execution_count": 107,
   "metadata": {},
   "outputs": [
    {
     "data": {
      "text/html": [
       "<div>\n",
       "<style scoped>\n",
       "    .dataframe tbody tr th:only-of-type {\n",
       "        vertical-align: middle;\n",
       "    }\n",
       "\n",
       "    .dataframe tbody tr th {\n",
       "        vertical-align: top;\n",
       "    }\n",
       "\n",
       "    .dataframe thead th {\n",
       "        text-align: right;\n",
       "    }\n",
       "</style>\n",
       "<table border=\"1\" class=\"dataframe\">\n",
       "  <thead>\n",
       "    <tr style=\"text-align: right;\">\n",
       "      <th></th>\n",
       "      <th>venue</th>\n",
       "      <th>month</th>\n",
       "      <th>gpl</th>\n",
       "    </tr>\n",
       "  </thead>\n",
       "  <tbody>\n",
       "    <tr>\n",
       "      <th>0</th>\n",
       "      <td>Bendigo</td>\n",
       "      <td>2023_12</td>\n",
       "      <td>-135.856354</td>\n",
       "    </tr>\n",
       "    <tr>\n",
       "      <th>1</th>\n",
       "      <td>Bendigo</td>\n",
       "      <td>2024_02</td>\n",
       "      <td>3589.483427</td>\n",
       "    </tr>\n",
       "    <tr>\n",
       "      <th>2</th>\n",
       "      <td>Caulfield</td>\n",
       "      <td>2023_12</td>\n",
       "      <td>-517.529426</td>\n",
       "    </tr>\n",
       "    <tr>\n",
       "      <th>3</th>\n",
       "      <td>Caulfield</td>\n",
       "      <td>2024_01</td>\n",
       "      <td>-497.343429</td>\n",
       "    </tr>\n",
       "    <tr>\n",
       "      <th>4</th>\n",
       "      <td>Caulfield</td>\n",
       "      <td>2024_02</td>\n",
       "      <td>86.361238</td>\n",
       "    </tr>\n",
       "    <tr>\n",
       "      <th>5</th>\n",
       "      <td>Flemington</td>\n",
       "      <td>2023_12</td>\n",
       "      <td>-579.015873</td>\n",
       "    </tr>\n",
       "    <tr>\n",
       "      <th>6</th>\n",
       "      <td>Flemington</td>\n",
       "      <td>2024_01</td>\n",
       "      <td>2044.218853</td>\n",
       "    </tr>\n",
       "    <tr>\n",
       "      <th>7</th>\n",
       "      <td>Flemington</td>\n",
       "      <td>2024_02</td>\n",
       "      <td>-1136.873472</td>\n",
       "    </tr>\n",
       "    <tr>\n",
       "      <th>8</th>\n",
       "      <td>Moonee Valley</td>\n",
       "      <td>2023_12</td>\n",
       "      <td>-1384.195538</td>\n",
       "    </tr>\n",
       "    <tr>\n",
       "      <th>9</th>\n",
       "      <td>Moonee Valley</td>\n",
       "      <td>2024_01</td>\n",
       "      <td>705.266512</td>\n",
       "    </tr>\n",
       "    <tr>\n",
       "      <th>10</th>\n",
       "      <td>Moonee Valley</td>\n",
       "      <td>2024_02</td>\n",
       "      <td>3068.467298</td>\n",
       "    </tr>\n",
       "    <tr>\n",
       "      <th>11</th>\n",
       "      <td>Sandown</td>\n",
       "      <td>2023_12</td>\n",
       "      <td>-63.594682</td>\n",
       "    </tr>\n",
       "    <tr>\n",
       "      <th>12</th>\n",
       "      <td>Sandown</td>\n",
       "      <td>2024_01</td>\n",
       "      <td>-1313.499233</td>\n",
       "    </tr>\n",
       "    <tr>\n",
       "      <th>13</th>\n",
       "      <td>Sandown</td>\n",
       "      <td>2024_02</td>\n",
       "      <td>896.010190</td>\n",
       "    </tr>\n",
       "    <tr>\n",
       "      <th>14</th>\n",
       "      <td>Bendigo</td>\n",
       "      <td>2024_01</td>\n",
       "      <td>0.000000</td>\n",
       "    </tr>\n",
       "  </tbody>\n",
       "</table>\n",
       "</div>"
      ],
      "text/plain": [
       "            venue    month          gpl\n",
       "0         Bendigo  2023_12  -135.856354\n",
       "1         Bendigo  2024_02  3589.483427\n",
       "2       Caulfield  2023_12  -517.529426\n",
       "3       Caulfield  2024_01  -497.343429\n",
       "4       Caulfield  2024_02    86.361238\n",
       "5      Flemington  2023_12  -579.015873\n",
       "6      Flemington  2024_01  2044.218853\n",
       "7      Flemington  2024_02 -1136.873472\n",
       "8   Moonee Valley  2023_12 -1384.195538\n",
       "9   Moonee Valley  2024_01   705.266512\n",
       "10  Moonee Valley  2024_02  3068.467298\n",
       "11        Sandown  2023_12   -63.594682\n",
       "12        Sandown  2024_01 -1313.499233\n",
       "13        Sandown  2024_02   896.010190\n",
       "14        Bendigo  2024_01     0.000000"
      ]
     },
     "execution_count": 107,
     "metadata": {},
     "output_type": "execute_result"
    }
   ],
   "source": [
    "def ensure_all_months_present(df):\n",
    "    # Define the months you're interested in\n",
    "    months = ['2023_12', '2024_01', '2024_02']\n",
    "    \n",
    "    # Group the data by venue\n",
    "    grouped = df.groupby('venue')\n",
    "    \n",
    "    # Loop through each venue\n",
    "    for venue, group in grouped:\n",
    "        # Check if the venue has data for all three months\n",
    "        if not all(month in group['month'].values for month in months):\n",
    "            # If any month is missing, add a new row with the venue name, the missing month, and a GPL value of 0\n",
    "            for month in months:\n",
    "                if month not in group['month'].values:\n",
    "                    new_row = {'venue': venue, 'month': month, 'gpl': 0}\n",
    "                    df.loc[len(df)] = new_row\n",
    "        \n",
    "    return df\n",
    "\n",
    "signif_summary_month = ensure_all_months_present(signif_summary_month)\n",
    "signif_summary_month"
   ]
  },
  {
   "cell_type": "code",
   "execution_count": 108,
   "metadata": {},
   "outputs": [
    {
     "data": {
      "application/vnd.plotly.v1+json": {
       "config": {
        "plotlyServerURL": "https://plot.ly"
       },
       "data": [
        {
         "legendgroup": "Bendigo",
         "marker": {
          "color": "blue"
         },
         "name": "2023_12",
         "showlegend": true,
         "type": "bar",
         "x": [
          "Bendigo"
         ],
         "y": [
          -135.85635416667068
         ]
        },
        {
         "legendgroup": "Bendigo",
         "marker": {
          "color": "green"
         },
         "name": "2024_02",
         "showlegend": true,
         "type": "bar",
         "x": [
          "Bendigo"
         ],
         "y": [
          3589.4834273088186
         ]
        },
        {
         "legendgroup": "Bendigo",
         "marker": {
          "color": "red"
         },
         "name": "2024_01",
         "showlegend": true,
         "type": "bar",
         "x": [
          "Bendigo"
         ],
         "y": [
          0
         ]
        },
        {
         "legendgroup": "Caulfield",
         "marker": {
          "color": "blue"
         },
         "name": "2023_12",
         "showlegend": false,
         "type": "bar",
         "x": [
          "Caulfield"
         ],
         "y": [
          -517.5294259559906
         ]
        },
        {
         "legendgroup": "Caulfield",
         "marker": {
          "color": "red"
         },
         "name": "2024_01",
         "showlegend": false,
         "type": "bar",
         "x": [
          "Caulfield"
         ],
         "y": [
          -497.34342857143366
         ]
        },
        {
         "legendgroup": "Caulfield",
         "marker": {
          "color": "green"
         },
         "name": "2024_02",
         "showlegend": false,
         "type": "bar",
         "x": [
          "Caulfield"
         ],
         "y": [
          86.36123809522992
         ]
        },
        {
         "legendgroup": "Flemington",
         "marker": {
          "color": "blue"
         },
         "name": "2023_12",
         "showlegend": false,
         "type": "bar",
         "x": [
          "Flemington"
         ],
         "y": [
          -579.0158730158735
         ]
        },
        {
         "legendgroup": "Flemington",
         "marker": {
          "color": "red"
         },
         "name": "2024_01",
         "showlegend": false,
         "type": "bar",
         "x": [
          "Flemington"
         ],
         "y": [
          2044.2188528693455
         ]
        },
        {
         "legendgroup": "Flemington",
         "marker": {
          "color": "green"
         },
         "name": "2024_02",
         "showlegend": false,
         "type": "bar",
         "x": [
          "Flemington"
         ],
         "y": [
          -1136.8734722222214
         ]
        },
        {
         "legendgroup": "Moonee Valley",
         "marker": {
          "color": "blue"
         },
         "name": "2023_12",
         "showlegend": false,
         "type": "bar",
         "x": [
          "Moonee Valley"
         ],
         "y": [
          -1384.195537698431
         ]
        },
        {
         "legendgroup": "Moonee Valley",
         "marker": {
          "color": "red"
         },
         "name": "2024_01",
         "showlegend": false,
         "type": "bar",
         "x": [
          "Moonee Valley"
         ],
         "y": [
          705.2665119047567
         ]
        },
        {
         "legendgroup": "Moonee Valley",
         "marker": {
          "color": "green"
         },
         "name": "2024_02",
         "showlegend": false,
         "type": "bar",
         "x": [
          "Moonee Valley"
         ],
         "y": [
          3068.4672976190386
         ]
        },
        {
         "legendgroup": "Sandown",
         "marker": {
          "color": "blue"
         },
         "name": "2023_12",
         "showlegend": false,
         "type": "bar",
         "x": [
          "Sandown"
         ],
         "y": [
          -63.59468181817788
         ]
        },
        {
         "legendgroup": "Sandown",
         "marker": {
          "color": "red"
         },
         "name": "2024_01",
         "showlegend": false,
         "type": "bar",
         "x": [
          "Sandown"
         ],
         "y": [
          -1313.4992334054891
         ]
        },
        {
         "legendgroup": "Sandown",
         "marker": {
          "color": "green"
         },
         "name": "2024_02",
         "showlegend": false,
         "type": "bar",
         "x": [
          "Sandown"
         ],
         "y": [
          896.0101904761798
         ]
        }
       ],
       "layout": {
        "barmode": "group",
        "template": {
         "data": {
          "bar": [
           {
            "error_x": {
             "color": "#2a3f5f"
            },
            "error_y": {
             "color": "#2a3f5f"
            },
            "marker": {
             "line": {
              "color": "#E5ECF6",
              "width": 0.5
             },
             "pattern": {
              "fillmode": "overlay",
              "size": 10,
              "solidity": 0.2
             }
            },
            "type": "bar"
           }
          ],
          "barpolar": [
           {
            "marker": {
             "line": {
              "color": "#E5ECF6",
              "width": 0.5
             },
             "pattern": {
              "fillmode": "overlay",
              "size": 10,
              "solidity": 0.2
             }
            },
            "type": "barpolar"
           }
          ],
          "carpet": [
           {
            "aaxis": {
             "endlinecolor": "#2a3f5f",
             "gridcolor": "white",
             "linecolor": "white",
             "minorgridcolor": "white",
             "startlinecolor": "#2a3f5f"
            },
            "baxis": {
             "endlinecolor": "#2a3f5f",
             "gridcolor": "white",
             "linecolor": "white",
             "minorgridcolor": "white",
             "startlinecolor": "#2a3f5f"
            },
            "type": "carpet"
           }
          ],
          "choropleth": [
           {
            "colorbar": {
             "outlinewidth": 0,
             "ticks": ""
            },
            "type": "choropleth"
           }
          ],
          "contour": [
           {
            "colorbar": {
             "outlinewidth": 0,
             "ticks": ""
            },
            "colorscale": [
             [
              0,
              "#0d0887"
             ],
             [
              0.1111111111111111,
              "#46039f"
             ],
             [
              0.2222222222222222,
              "#7201a8"
             ],
             [
              0.3333333333333333,
              "#9c179e"
             ],
             [
              0.4444444444444444,
              "#bd3786"
             ],
             [
              0.5555555555555556,
              "#d8576b"
             ],
             [
              0.6666666666666666,
              "#ed7953"
             ],
             [
              0.7777777777777778,
              "#fb9f3a"
             ],
             [
              0.8888888888888888,
              "#fdca26"
             ],
             [
              1,
              "#f0f921"
             ]
            ],
            "type": "contour"
           }
          ],
          "contourcarpet": [
           {
            "colorbar": {
             "outlinewidth": 0,
             "ticks": ""
            },
            "type": "contourcarpet"
           }
          ],
          "heatmap": [
           {
            "colorbar": {
             "outlinewidth": 0,
             "ticks": ""
            },
            "colorscale": [
             [
              0,
              "#0d0887"
             ],
             [
              0.1111111111111111,
              "#46039f"
             ],
             [
              0.2222222222222222,
              "#7201a8"
             ],
             [
              0.3333333333333333,
              "#9c179e"
             ],
             [
              0.4444444444444444,
              "#bd3786"
             ],
             [
              0.5555555555555556,
              "#d8576b"
             ],
             [
              0.6666666666666666,
              "#ed7953"
             ],
             [
              0.7777777777777778,
              "#fb9f3a"
             ],
             [
              0.8888888888888888,
              "#fdca26"
             ],
             [
              1,
              "#f0f921"
             ]
            ],
            "type": "heatmap"
           }
          ],
          "heatmapgl": [
           {
            "colorbar": {
             "outlinewidth": 0,
             "ticks": ""
            },
            "colorscale": [
             [
              0,
              "#0d0887"
             ],
             [
              0.1111111111111111,
              "#46039f"
             ],
             [
              0.2222222222222222,
              "#7201a8"
             ],
             [
              0.3333333333333333,
              "#9c179e"
             ],
             [
              0.4444444444444444,
              "#bd3786"
             ],
             [
              0.5555555555555556,
              "#d8576b"
             ],
             [
              0.6666666666666666,
              "#ed7953"
             ],
             [
              0.7777777777777778,
              "#fb9f3a"
             ],
             [
              0.8888888888888888,
              "#fdca26"
             ],
             [
              1,
              "#f0f921"
             ]
            ],
            "type": "heatmapgl"
           }
          ],
          "histogram": [
           {
            "marker": {
             "pattern": {
              "fillmode": "overlay",
              "size": 10,
              "solidity": 0.2
             }
            },
            "type": "histogram"
           }
          ],
          "histogram2d": [
           {
            "colorbar": {
             "outlinewidth": 0,
             "ticks": ""
            },
            "colorscale": [
             [
              0,
              "#0d0887"
             ],
             [
              0.1111111111111111,
              "#46039f"
             ],
             [
              0.2222222222222222,
              "#7201a8"
             ],
             [
              0.3333333333333333,
              "#9c179e"
             ],
             [
              0.4444444444444444,
              "#bd3786"
             ],
             [
              0.5555555555555556,
              "#d8576b"
             ],
             [
              0.6666666666666666,
              "#ed7953"
             ],
             [
              0.7777777777777778,
              "#fb9f3a"
             ],
             [
              0.8888888888888888,
              "#fdca26"
             ],
             [
              1,
              "#f0f921"
             ]
            ],
            "type": "histogram2d"
           }
          ],
          "histogram2dcontour": [
           {
            "colorbar": {
             "outlinewidth": 0,
             "ticks": ""
            },
            "colorscale": [
             [
              0,
              "#0d0887"
             ],
             [
              0.1111111111111111,
              "#46039f"
             ],
             [
              0.2222222222222222,
              "#7201a8"
             ],
             [
              0.3333333333333333,
              "#9c179e"
             ],
             [
              0.4444444444444444,
              "#bd3786"
             ],
             [
              0.5555555555555556,
              "#d8576b"
             ],
             [
              0.6666666666666666,
              "#ed7953"
             ],
             [
              0.7777777777777778,
              "#fb9f3a"
             ],
             [
              0.8888888888888888,
              "#fdca26"
             ],
             [
              1,
              "#f0f921"
             ]
            ],
            "type": "histogram2dcontour"
           }
          ],
          "mesh3d": [
           {
            "colorbar": {
             "outlinewidth": 0,
             "ticks": ""
            },
            "type": "mesh3d"
           }
          ],
          "parcoords": [
           {
            "line": {
             "colorbar": {
              "outlinewidth": 0,
              "ticks": ""
             }
            },
            "type": "parcoords"
           }
          ],
          "pie": [
           {
            "automargin": true,
            "type": "pie"
           }
          ],
          "scatter": [
           {
            "fillpattern": {
             "fillmode": "overlay",
             "size": 10,
             "solidity": 0.2
            },
            "type": "scatter"
           }
          ],
          "scatter3d": [
           {
            "line": {
             "colorbar": {
              "outlinewidth": 0,
              "ticks": ""
             }
            },
            "marker": {
             "colorbar": {
              "outlinewidth": 0,
              "ticks": ""
             }
            },
            "type": "scatter3d"
           }
          ],
          "scattercarpet": [
           {
            "marker": {
             "colorbar": {
              "outlinewidth": 0,
              "ticks": ""
             }
            },
            "type": "scattercarpet"
           }
          ],
          "scattergeo": [
           {
            "marker": {
             "colorbar": {
              "outlinewidth": 0,
              "ticks": ""
             }
            },
            "type": "scattergeo"
           }
          ],
          "scattergl": [
           {
            "marker": {
             "colorbar": {
              "outlinewidth": 0,
              "ticks": ""
             }
            },
            "type": "scattergl"
           }
          ],
          "scattermapbox": [
           {
            "marker": {
             "colorbar": {
              "outlinewidth": 0,
              "ticks": ""
             }
            },
            "type": "scattermapbox"
           }
          ],
          "scatterpolar": [
           {
            "marker": {
             "colorbar": {
              "outlinewidth": 0,
              "ticks": ""
             }
            },
            "type": "scatterpolar"
           }
          ],
          "scatterpolargl": [
           {
            "marker": {
             "colorbar": {
              "outlinewidth": 0,
              "ticks": ""
             }
            },
            "type": "scatterpolargl"
           }
          ],
          "scatterternary": [
           {
            "marker": {
             "colorbar": {
              "outlinewidth": 0,
              "ticks": ""
             }
            },
            "type": "scatterternary"
           }
          ],
          "surface": [
           {
            "colorbar": {
             "outlinewidth": 0,
             "ticks": ""
            },
            "colorscale": [
             [
              0,
              "#0d0887"
             ],
             [
              0.1111111111111111,
              "#46039f"
             ],
             [
              0.2222222222222222,
              "#7201a8"
             ],
             [
              0.3333333333333333,
              "#9c179e"
             ],
             [
              0.4444444444444444,
              "#bd3786"
             ],
             [
              0.5555555555555556,
              "#d8576b"
             ],
             [
              0.6666666666666666,
              "#ed7953"
             ],
             [
              0.7777777777777778,
              "#fb9f3a"
             ],
             [
              0.8888888888888888,
              "#fdca26"
             ],
             [
              1,
              "#f0f921"
             ]
            ],
            "type": "surface"
           }
          ],
          "table": [
           {
            "cells": {
             "fill": {
              "color": "#EBF0F8"
             },
             "line": {
              "color": "white"
             }
            },
            "header": {
             "fill": {
              "color": "#C8D4E3"
             },
             "line": {
              "color": "white"
             }
            },
            "type": "table"
           }
          ]
         },
         "layout": {
          "annotationdefaults": {
           "arrowcolor": "#2a3f5f",
           "arrowhead": 0,
           "arrowwidth": 1
          },
          "autotypenumbers": "strict",
          "coloraxis": {
           "colorbar": {
            "outlinewidth": 0,
            "ticks": ""
           }
          },
          "colorscale": {
           "diverging": [
            [
             0,
             "#8e0152"
            ],
            [
             0.1,
             "#c51b7d"
            ],
            [
             0.2,
             "#de77ae"
            ],
            [
             0.3,
             "#f1b6da"
            ],
            [
             0.4,
             "#fde0ef"
            ],
            [
             0.5,
             "#f7f7f7"
            ],
            [
             0.6,
             "#e6f5d0"
            ],
            [
             0.7,
             "#b8e186"
            ],
            [
             0.8,
             "#7fbc41"
            ],
            [
             0.9,
             "#4d9221"
            ],
            [
             1,
             "#276419"
            ]
           ],
           "sequential": [
            [
             0,
             "#0d0887"
            ],
            [
             0.1111111111111111,
             "#46039f"
            ],
            [
             0.2222222222222222,
             "#7201a8"
            ],
            [
             0.3333333333333333,
             "#9c179e"
            ],
            [
             0.4444444444444444,
             "#bd3786"
            ],
            [
             0.5555555555555556,
             "#d8576b"
            ],
            [
             0.6666666666666666,
             "#ed7953"
            ],
            [
             0.7777777777777778,
             "#fb9f3a"
            ],
            [
             0.8888888888888888,
             "#fdca26"
            ],
            [
             1,
             "#f0f921"
            ]
           ],
           "sequentialminus": [
            [
             0,
             "#0d0887"
            ],
            [
             0.1111111111111111,
             "#46039f"
            ],
            [
             0.2222222222222222,
             "#7201a8"
            ],
            [
             0.3333333333333333,
             "#9c179e"
            ],
            [
             0.4444444444444444,
             "#bd3786"
            ],
            [
             0.5555555555555556,
             "#d8576b"
            ],
            [
             0.6666666666666666,
             "#ed7953"
            ],
            [
             0.7777777777777778,
             "#fb9f3a"
            ],
            [
             0.8888888888888888,
             "#fdca26"
            ],
            [
             1,
             "#f0f921"
            ]
           ]
          },
          "colorway": [
           "#636efa",
           "#EF553B",
           "#00cc96",
           "#ab63fa",
           "#FFA15A",
           "#19d3f3",
           "#FF6692",
           "#B6E880",
           "#FF97FF",
           "#FECB52"
          ],
          "font": {
           "color": "#2a3f5f"
          },
          "geo": {
           "bgcolor": "white",
           "lakecolor": "white",
           "landcolor": "#E5ECF6",
           "showlakes": true,
           "showland": true,
           "subunitcolor": "white"
          },
          "hoverlabel": {
           "align": "left"
          },
          "hovermode": "closest",
          "mapbox": {
           "style": "light"
          },
          "paper_bgcolor": "white",
          "plot_bgcolor": "#E5ECF6",
          "polar": {
           "angularaxis": {
            "gridcolor": "white",
            "linecolor": "white",
            "ticks": ""
           },
           "bgcolor": "#E5ECF6",
           "radialaxis": {
            "gridcolor": "white",
            "linecolor": "white",
            "ticks": ""
           }
          },
          "scene": {
           "xaxis": {
            "backgroundcolor": "#E5ECF6",
            "gridcolor": "white",
            "gridwidth": 2,
            "linecolor": "white",
            "showbackground": true,
            "ticks": "",
            "zerolinecolor": "white"
           },
           "yaxis": {
            "backgroundcolor": "#E5ECF6",
            "gridcolor": "white",
            "gridwidth": 2,
            "linecolor": "white",
            "showbackground": true,
            "ticks": "",
            "zerolinecolor": "white"
           },
           "zaxis": {
            "backgroundcolor": "#E5ECF6",
            "gridcolor": "white",
            "gridwidth": 2,
            "linecolor": "white",
            "showbackground": true,
            "ticks": "",
            "zerolinecolor": "white"
           }
          },
          "shapedefaults": {
           "line": {
            "color": "#2a3f5f"
           }
          },
          "ternary": {
           "aaxis": {
            "gridcolor": "white",
            "linecolor": "white",
            "ticks": ""
           },
           "baxis": {
            "gridcolor": "white",
            "linecolor": "white",
            "ticks": ""
           },
           "bgcolor": "#E5ECF6",
           "caxis": {
            "gridcolor": "white",
            "linecolor": "white",
            "ticks": ""
           }
          },
          "title": {
           "x": 0.05
          },
          "xaxis": {
           "automargin": true,
           "gridcolor": "white",
           "linecolor": "white",
           "ticks": "",
           "title": {
            "standoff": 15
           },
           "zerolinecolor": "white",
           "zerolinewidth": 2
          },
          "yaxis": {
           "automargin": true,
           "gridcolor": "white",
           "linecolor": "white",
           "ticks": "",
           "title": {
            "standoff": 15
           },
           "zerolinecolor": "white",
           "zerolinewidth": 2
          }
         }
        },
        "title": {
         "text": "GPL by Venue and Month"
        }
       }
      }
     },
     "metadata": {},
     "output_type": "display_data"
    }
   ],
   "source": [
    "# Create a bar chart with grouped bars for each venue and month\n",
    "fig = go.Figure()\n",
    "\n",
    "colors = ['blue', 'green', 'red']\n",
    "\n",
    "# Loop through each venue\n",
    "for venue in signif_summary_month['venue'].unique():\n",
    "    venue_data = signif_summary_month[signif_summary_month['venue'] == venue]\n",
    "    # Add a bar for each month of the venue\n",
    "    for month, gpl in zip(venue_data['month'], venue_data['gpl']):\n",
    "        # Determine the color based on the month index\n",
    "        month_index = signif_summary_month['month'].unique().tolist().index(month)\n",
    "        fig.add_trace(\n",
    "            go.Bar(\n",
    "                x=[venue],\n",
    "                y=[gpl],\n",
    "                name=month,\n",
    "                legendgroup=venue,\n",
    "                showlegend=True if venue == signif_summary_month['venue'].unique()[0] else False, # Show legend only for the first venue\n",
    "                # legendgrouptitle_text=venue,\n",
    "                marker_color=colors[month_index] # Assign color based on month index\n",
    "            )\n",
    "        )\n",
    "\n",
    "# Update layout for better visualization\n",
    "fig.update_layout(barmode='group', title_text=\"GPL by Venue and Month\")\n",
    "\n",
    "# Display the plot\n",
    "fig.show()"
   ]
  },
  {
   "cell_type": "code",
   "execution_count": null,
   "metadata": {},
   "outputs": [],
   "source": []
  }
 ],
 "metadata": {
  "kernelspec": {
   "display_name": "Python 3",
   "language": "python",
   "name": "python3"
  },
  "language_info": {
   "codemirror_mode": {
    "name": "ipython",
    "version": 3
   },
   "file_extension": ".py",
   "mimetype": "text/x-python",
   "name": "python",
   "nbconvert_exporter": "python",
   "pygments_lexer": "ipython3",
   "version": "3.10.13"
  }
 },
 "nbformat": 4,
 "nbformat_minor": 2
}
