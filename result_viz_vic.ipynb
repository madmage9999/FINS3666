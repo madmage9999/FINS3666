{
 "cells": [
  {
   "cell_type": "code",
   "execution_count": 13,
   "metadata": {},
   "outputs": [],
   "source": [
    "import pandas as pd\n",
    "import numpy as np\n",
    "import plotly.express as px\n",
    "import plotly.graph_objects as go\n",
    "\n",
    "def bet_eval_metrics(d):\n",
    "\n",
    "    metrics = pd.DataFrame(d\n",
    "    .agg({\"gpl\": \"sum\", \"stake\": \"sum\"})\n",
    "    ).transpose().assign(pot=lambda x: x['gpl'] / x['stake'])\n",
    "\n",
    "    return(metrics[metrics['stake'] != 0])\n",
    "\n",
    "# Cumulative PL by market to visually see trend and consistency\n",
    "def bet_eval_chart_cPl(d):\n",
    "\n",
    "    d = (\n",
    "        d\n",
    "        .groupby('market_id')\n",
    "        .agg({'gpl': 'sum'})\n",
    "    )\n",
    "\n",
    "    d['market_number'] = np.arange(len(d))\n",
    "    d['cGpl'] = d.gpl.cumsum()\n",
    "\n",
    "    chart = px.line(d, x=\"market_number\", y=\"cGpl\", title='Cumulative Gross Profit', template='simple_white')\n",
    "\n",
    "    return(chart)\n",
    "\n",
    "def output_eval(summary):\n",
    "    eval_df = bet_eval_metrics(summary)\n",
    "    print(f'Total Gross Profit/Loss % = {(eval_df[\"gpl\"]/eval_df[\"stake\"]*100).values[0]}')\n",
    "    print(eval_df)\n",
    "\n",
    "def all_summary():\n",
    "    dec = '2023_12'\n",
    "    jan = '2024_01'\n",
    "    feb = '2024_02'\n",
    "\n",
    "    dir = f'trade_result_2' # change to trade_result_all_tracks\n",
    "\n",
    "    df1 = pd.read_csv(f'{dir}/{dec}/{dec}_summary.csv',\n",
    "                    dtype={'market_id': 'string', 'selection_id': 'string'},\n",
    "                    )\n",
    "    df1['month'] = dec\n",
    "\n",
    "    df2 = pd.read_csv(f'{dir}/{jan}/{jan}_summary.csv',\n",
    "                    dtype={'market_id': 'string', 'selection_id': 'string'},\n",
    "                    )\n",
    "    df2['month'] = jan\n",
    "\n",
    "    df3 = pd.read_csv(f'{dir}/{feb}/{feb}_summary.csv',\n",
    "                    dtype={'market_id': 'string', 'selection_id': 'string'},\n",
    "                    )\n",
    "    df3['month'] = feb\n",
    "\n",
    "    summary = pd.concat([df1, df2, df3], axis=0)\n",
    "    summary['gpl'] = summary['back_return'] + summary['lay_return']\n",
    "    summary['stake'] = summary['back_v_sum'] + summary['lay_v_sum']\n",
    "    \n",
    "    # summary.to_csv(f'{dir}/all_months_summary.csv', index=False)\n",
    "\n",
    "    eval_df = bet_eval_metrics(summary)\n",
    "    print(f'Total Gross Profit/Loss % = {(eval_df[\"gpl\"]/eval_df[\"stake\"]*100).values[0]}')\n",
    "\n",
    "    return summary\n",
    "\n",
    "def all_raw_data():\n",
    "    dec = '2023_12'\n",
    "    jan = '2024_01'\n",
    "    feb = '2024_02'\n",
    "\n",
    "    dir = f'extracted_data' # change accordingly\n",
    "\n",
    "    df1 = pd.read_csv(f'{dir}/{dec}/{dec}_preprocessed.csv',\n",
    "                    dtype={'market_id': 'string', 'selection_id': 'string'},\n",
    "                    )\n",
    "    df1['month'] = dec\n",
    "\n",
    "    df2 = pd.read_csv(f'{dir}/{jan}/{jan}_preprocessed.csv',\n",
    "                    dtype={'market_id': 'string', 'selection_id': 'string'},\n",
    "                    )\n",
    "    df2['month'] = jan\n",
    "\n",
    "    df3 = pd.read_csv(f'{dir}/{feb}/{feb}_preprocessed.csv',\n",
    "                    dtype={'market_id': 'string', 'selection_id': 'string'},\n",
    "                    )\n",
    "    df3['month'] = feb\n",
    "\n",
    "    raw = pd.concat([df1, df2, df3], axis=0)\n",
    "    return raw\n",
    "    # raw.to_csv(f'{dir}/all_months_raw_data.csv', index=False)"
   ]
  },
  {
   "cell_type": "code",
   "execution_count": 4,
   "metadata": {},
   "outputs": [
    {
     "name": "stdout",
     "output_type": "stream",
     "text": [
      "Total Gross Profit/Loss % = 2.241958489669226\n"
     ]
    }
   ],
   "source": [
    "summary = all_summary()\n",
    "raw = all_raw_data()"
   ]
  },
  {
   "cell_type": "code",
   "execution_count": 5,
   "metadata": {},
   "outputs": [
    {
     "name": "stdout",
     "output_type": "stream",
     "text": [
      "Total Gross Profit/Loss % = 2.241958489669226\n",
      "           gpl          stake      pot\n",
      "0  4118.936774  183720.474428  0.02242\n"
     ]
    },
    {
     "data": {
      "application/vnd.plotly.v1+json": {
       "config": {
        "plotlyServerURL": "https://plot.ly"
       },
       "data": [
        {
         "hovertemplate": "market_number=%{x}<br>cGpl=%{y}<extra></extra>",
         "legendgroup": "",
         "line": {
          "color": "#1F77B4",
          "dash": "solid"
         },
         "marker": {
          "symbol": "circle"
         },
         "mode": "lines",
         "name": "",
         "orientation": "v",
         "showlegend": false,
         "type": "scatter",
         "x": [
          0,
          1,
          2,
          3,
          4,
          5,
          6,
          7,
          8,
          9,
          10,
          11,
          12,
          13,
          14,
          15,
          16,
          17,
          18,
          19,
          20,
          21,
          22,
          23,
          24,
          25,
          26,
          27,
          28,
          29,
          30,
          31,
          32,
          33,
          34,
          35,
          36,
          37,
          38,
          39,
          40,
          41,
          42,
          43,
          44,
          45,
          46,
          47,
          48,
          49,
          50,
          51,
          52,
          53,
          54,
          55,
          56,
          57,
          58,
          59,
          60,
          61,
          62,
          63,
          64,
          65,
          66,
          67,
          68,
          69,
          70,
          71,
          72,
          73,
          74,
          75,
          76,
          77,
          78,
          79,
          80,
          81,
          82,
          83,
          84,
          85,
          86,
          87,
          88,
          89,
          90,
          91,
          92,
          93,
          94,
          95,
          96,
          97,
          98,
          99,
          100,
          101,
          102,
          103,
          104,
          105,
          106,
          107,
          108,
          109,
          110,
          111,
          112,
          113,
          114,
          115,
          116,
          117,
          118,
          119,
          120,
          121,
          122,
          123,
          124,
          125,
          126,
          127,
          128,
          129,
          130,
          131,
          132,
          133,
          134,
          135,
          136,
          137,
          138,
          139,
          140,
          141,
          142,
          143,
          144,
          145,
          146,
          147,
          148,
          149,
          150,
          151,
          152,
          153,
          154,
          155,
          156,
          157,
          158,
          159,
          160,
          161,
          162,
          163,
          164,
          165,
          166,
          167,
          168,
          169,
          170,
          171,
          172,
          173,
          174,
          175,
          176,
          177,
          178,
          179,
          180,
          181,
          182,
          183,
          184,
          185,
          186,
          187,
          188,
          189,
          190,
          191,
          192,
          193,
          194,
          195,
          196,
          197,
          198,
          199,
          200,
          201,
          202,
          203,
          204,
          205,
          206,
          207,
          208,
          209,
          210,
          211,
          212,
          213,
          214,
          215,
          216,
          217,
          218,
          219,
          220,
          221,
          222,
          223,
          224,
          225,
          226,
          227,
          228,
          229,
          230,
          231,
          232,
          233,
          234,
          235,
          236,
          237,
          238,
          239,
          240,
          241,
          242,
          243,
          244,
          245,
          246,
          247,
          248,
          249,
          250,
          251,
          252,
          253,
          254,
          255,
          256,
          257,
          258,
          259,
          260,
          261,
          262,
          263,
          264,
          265,
          266,
          267,
          268,
          269,
          270,
          271,
          272,
          273,
          274,
          275,
          276,
          277,
          278,
          279,
          280,
          281,
          282,
          283,
          284,
          285,
          286,
          287,
          288,
          289,
          290,
          291,
          292,
          293,
          294,
          295,
          296,
          297,
          298,
          299
         ],
         "xaxis": "x",
         "y": [
          -40.203125,
          529.3068749999965,
          590.5631249999965,
          530.4412499999964,
          420.3574999999963,
          189.63821428570833,
          -342.80821428572284,
          52.26991071427716,
          -172.06842261905587,
          133.34824404761167,
          317.66610119046766,
          164.02485119046764,
          -76.70014880953235,
          -198.96889880953213,
          -413.9532738095321,
          457.5467261904647,
          117.79672619046335,
          -427.4921626984251,
          -501.13216269842866,
          -694.4821626984309,
          -1051.3337251984308,
          -1142.1190376984307,
          -1453.1815376984305,
          -1786.255982142874,
          -1110.7559821428733,
          -1407.6434821428732,
          -1627.662232142873,
          -1773.8997321428762,
          -1923.2297321428769,
          -1902.4397321428762,
          -1902.2022321428763,
          -2141.0962321428774,
          -1976.0062321428807,
          -2462.9928988095457,
          -2580.033807900452,
          -2331.2588079004513,
          -2572.2629745671175,
          -2607.4329745671193,
          -2941.195474567119,
          -3137.9454745671214,
          -3026.8954745671244,
          -2362.7954745671286,
          -2567.214224567128,
          -2504.8035102814165,
          -2541.6726769480833,
          -2548.2226769480835,
          -2748.8701769480836,
          -3356.3523198052294,
          -3100.4460698052294,
          -2890.429403138563,
          -2914.7151174242786,
          -3078.056784090944,
          -3228.833034090944,
          -3750.1955340909435,
          -4010.2455340909437,
          -4231.9438674242765,
          -4553.820653138563,
          -3925.106367424279,
          -4074.664700757613,
          -3741.843272186187,
          -3526.509938852853,
          -3636.571302489214,
          -4072.979635822547,
          -3661.198385822547,
          -3575.0233858225474,
          -3838.1608858225472,
          -3942.9871358225473,
          -3882.493385822547,
          -4051.813385822551,
          -3481.396719155884,
          -3319.234219155884,
          -3314.1402191558855,
          -3366.3608441558854,
          -3298.9208441558853,
          -3494.930010822551,
          -3654.4605663781067,
          -3827.756994949538,
          -4258.673661616203,
          -4331.26294733049,
          -4611.687947330491,
          -4991.187947330491,
          -5348.6879473304925,
          -5236.6990584416035,
          -5122.36572510827,
          -5145.20322510827,
          -5542.09385010827,
          -5682.584921536843,
          -5471.448810425732,
          -5643.682143759064,
          -5265.812143759067,
          -5151.862143759067,
          -5391.979331259067,
          -5499.747188401927,
          -5947.6579026876425,
          -5977.537902687644,
          -5942.756652687644,
          -5778.503527687644,
          -5802.728527687645,
          -5947.411340187645,
          -6158.493215187645,
          -6295.493215187645,
          -6190.132500901933,
          -6358.070000901933,
          -6264.357000901935,
          -6593.565334235268,
          -6298.032000901934,
          -6549.647625901935,
          -6572.0976259019335,
          -6519.177625901936,
          -6740.880750901936,
          -7055.738608044796,
          -7303.332358044796,
          -7265.338358044798,
          -7284.130024711464,
          -7230.8085961400375,
          -7276.714151695593,
          -6986.075262806703,
          -7018.245262806703,
          -7231.964012806703,
          -7312.0223461400365,
          -7409.502346140039,
          -6329.096096140039,
          -6336.346096140041,
          -5979.121096140041,
          -5793.146096140041,
          -5971.175641594584,
          -6362.203419372361,
          -6845.193419372362,
          -6934.168419372362,
          -5777.068419372365,
          -5877.135419372367,
          -5699.485419372368,
          -6023.378276515227,
          -5657.998276515229,
          -5705.230419372375,
          -5915.814169372375,
          -5175.10583603904,
          -5471.389724927929,
          -5552.066391594595,
          -5819.044724927929,
          -5942.890724927932,
          -5854.400724927935,
          -6248.376558261268,
          -5832.345308261268,
          -5154.895308261268,
          -5352.0853082612675,
          -5453.3978082612675,
          -4078.4603082612675,
          -3916.1269749279336,
          -4052.7269749279353,
          -3881.4769749279353,
          -4082.566974927939,
          -3790.249667235632,
          -3981.895500568966,
          -4169.145500568965,
          -4315.692167235631,
          -4459.852167235634,
          -4647.639667235634,
          -4915.079667235636,
          -5446.526095807067,
          -5553.5844291404,
          -5242.174429140404,
          -5531.663318029293,
          -5550.216889457867,
          -5552.59888945787,
          -5737.415556124536,
          -5812.49888945787,
          -6078.198889457873,
          -5865.382222791206,
          -6041.582222791207,
          -5713.446508505495,
          -5684.296508505496,
          -5793.335675172162,
          -5892.415675172165,
          -5752.999008505497,
          -5379.409722791212,
          -5479.890972791211,
          -4112.953472791211,
          -4369.4759727912115,
          -4682.307972791215,
          -4786.493687076932,
          -4946.131187076931,
          -5245.480353743598,
          -5556.055353743599,
          -5646.900353743599,
          -5389.250353743599,
          -5784.125353743599,
          -5830.962853743598,
          -6235.6592823150295,
          -4597.3155323150295,
          -4418.665532315032,
          -4559.890532315032,
          -4848.073032315032,
          -5228.214460886463,
          -5312.3400858864625,
          -4740.4234192197955,
          -4811.7234192197975,
          -4928.723419219798,
          -4776.594847791227,
          -5081.208181124561,
          -5074.186181124563,
          -5199.432609695994,
          -2949.057609695994,
          -3206.620109695994,
          -3121.3201096959974,
          -3454.280823981714,
          -3821.2958239817185,
          -3934.76582398172,
          -2836.6408239817238,
          -3014.6720739817238,
          -2983.390823981724,
          -3010.515823981724,
          -3230.875823981728,
          -2921.5633239817275,
          -3133.079323981729,
          -3197.479323981731,
          -3333.3043239817307,
          -3591.25468112459,
          -3701.7046811245914,
          -3821.2046811245914,
          -3861.804681124591,
          -3982.4859311245928,
          -4380.460931124591,
          -4428.735931124591,
          -4777.44093112459,
          -4717.56593112459,
          -4854.687931124592,
          -5050.710431124591,
          -5166.635431124591,
          -5206.281993624591,
          -4505.081993624592,
          -3677.5462793388792,
          -3718.651834894435,
          -3415.251834894435,
          -3509.2518348944354,
          -3725.4411206087234,
          -3469.6911206087243,
          -3586.405406323012,
          -3772.127628545235,
          -4435.872628545234,
          -3792.122628545234,
          -4124.297628545233,
          -3730.0788785452332,
          -3579.0538785452336,
          -3761.1851285452335,
          -3437.6226285452335,
          -3092.797628545234,
          -1641.0163785452341,
          -1796.5645928309511,
          -2031.8614678309511,
          -2381.537092830951,
          -2632.2808428309513,
          -254.24512854523937,
          -748.8701285452355,
          -577.9101285452346,
          -658.835128545233,
          528.3353260002242,
          1215.8921441820457,
          841.8983941820455,
          527.2058941820455,
          645.8487513249006,
          554.1987513249011,
          221.68625132490092,
          402.3862513249009,
          169.6362513248994,
          -181.3637486751027,
          -184.26774867510437,
          2820.0239179915625,
          2568.059632277275,
          2704.559632277275,
          2483.6703465629876,
          2526.036346562985,
          2387.468346562983,
          2467.0725132296493,
          2402.105846562983,
          2352.185846562981,
          2227.500846562981,
          2391.90084656298,
          2461.64334656298,
          2479.6362037058357,
          2315.9528703725027,
          2311.7892340088706,
          2403.372567342204,
          3146.630900675537,
          3007.385900675539,
          2741.23590067554,
          2964.535900675541,
          3109.730345119986,
          3189.513678453318,
          2968.2786784533205,
          2653.803678453322,
          2641.122428453322,
          2458.2324284533192,
          2571.1609998818885,
          3112.227666548555,
          2922.190166548555,
          2817.0589165485553,
          4119.558916548554,
          3983.2939165485545,
          4118.936773691409
         ],
         "yaxis": "y"
        }
       ],
       "layout": {
        "legend": {
         "tracegroupgap": 0
        },
        "template": {
         "data": {
          "bar": [
           {
            "error_x": {
             "color": "rgb(36,36,36)"
            },
            "error_y": {
             "color": "rgb(36,36,36)"
            },
            "marker": {
             "line": {
              "color": "white",
              "width": 0.5
             },
             "pattern": {
              "fillmode": "overlay",
              "size": 10,
              "solidity": 0.2
             }
            },
            "type": "bar"
           }
          ],
          "barpolar": [
           {
            "marker": {
             "line": {
              "color": "white",
              "width": 0.5
             },
             "pattern": {
              "fillmode": "overlay",
              "size": 10,
              "solidity": 0.2
             }
            },
            "type": "barpolar"
           }
          ],
          "carpet": [
           {
            "aaxis": {
             "endlinecolor": "rgb(36,36,36)",
             "gridcolor": "white",
             "linecolor": "white",
             "minorgridcolor": "white",
             "startlinecolor": "rgb(36,36,36)"
            },
            "baxis": {
             "endlinecolor": "rgb(36,36,36)",
             "gridcolor": "white",
             "linecolor": "white",
             "minorgridcolor": "white",
             "startlinecolor": "rgb(36,36,36)"
            },
            "type": "carpet"
           }
          ],
          "choropleth": [
           {
            "colorbar": {
             "outlinewidth": 1,
             "tickcolor": "rgb(36,36,36)",
             "ticks": "outside"
            },
            "type": "choropleth"
           }
          ],
          "contour": [
           {
            "colorbar": {
             "outlinewidth": 1,
             "tickcolor": "rgb(36,36,36)",
             "ticks": "outside"
            },
            "colorscale": [
             [
              0,
              "#440154"
             ],
             [
              0.1111111111111111,
              "#482878"
             ],
             [
              0.2222222222222222,
              "#3e4989"
             ],
             [
              0.3333333333333333,
              "#31688e"
             ],
             [
              0.4444444444444444,
              "#26828e"
             ],
             [
              0.5555555555555556,
              "#1f9e89"
             ],
             [
              0.6666666666666666,
              "#35b779"
             ],
             [
              0.7777777777777778,
              "#6ece58"
             ],
             [
              0.8888888888888888,
              "#b5de2b"
             ],
             [
              1,
              "#fde725"
             ]
            ],
            "type": "contour"
           }
          ],
          "contourcarpet": [
           {
            "colorbar": {
             "outlinewidth": 1,
             "tickcolor": "rgb(36,36,36)",
             "ticks": "outside"
            },
            "type": "contourcarpet"
           }
          ],
          "heatmap": [
           {
            "colorbar": {
             "outlinewidth": 1,
             "tickcolor": "rgb(36,36,36)",
             "ticks": "outside"
            },
            "colorscale": [
             [
              0,
              "#440154"
             ],
             [
              0.1111111111111111,
              "#482878"
             ],
             [
              0.2222222222222222,
              "#3e4989"
             ],
             [
              0.3333333333333333,
              "#31688e"
             ],
             [
              0.4444444444444444,
              "#26828e"
             ],
             [
              0.5555555555555556,
              "#1f9e89"
             ],
             [
              0.6666666666666666,
              "#35b779"
             ],
             [
              0.7777777777777778,
              "#6ece58"
             ],
             [
              0.8888888888888888,
              "#b5de2b"
             ],
             [
              1,
              "#fde725"
             ]
            ],
            "type": "heatmap"
           }
          ],
          "heatmapgl": [
           {
            "colorbar": {
             "outlinewidth": 1,
             "tickcolor": "rgb(36,36,36)",
             "ticks": "outside"
            },
            "colorscale": [
             [
              0,
              "#440154"
             ],
             [
              0.1111111111111111,
              "#482878"
             ],
             [
              0.2222222222222222,
              "#3e4989"
             ],
             [
              0.3333333333333333,
              "#31688e"
             ],
             [
              0.4444444444444444,
              "#26828e"
             ],
             [
              0.5555555555555556,
              "#1f9e89"
             ],
             [
              0.6666666666666666,
              "#35b779"
             ],
             [
              0.7777777777777778,
              "#6ece58"
             ],
             [
              0.8888888888888888,
              "#b5de2b"
             ],
             [
              1,
              "#fde725"
             ]
            ],
            "type": "heatmapgl"
           }
          ],
          "histogram": [
           {
            "marker": {
             "line": {
              "color": "white",
              "width": 0.6
             }
            },
            "type": "histogram"
           }
          ],
          "histogram2d": [
           {
            "colorbar": {
             "outlinewidth": 1,
             "tickcolor": "rgb(36,36,36)",
             "ticks": "outside"
            },
            "colorscale": [
             [
              0,
              "#440154"
             ],
             [
              0.1111111111111111,
              "#482878"
             ],
             [
              0.2222222222222222,
              "#3e4989"
             ],
             [
              0.3333333333333333,
              "#31688e"
             ],
             [
              0.4444444444444444,
              "#26828e"
             ],
             [
              0.5555555555555556,
              "#1f9e89"
             ],
             [
              0.6666666666666666,
              "#35b779"
             ],
             [
              0.7777777777777778,
              "#6ece58"
             ],
             [
              0.8888888888888888,
              "#b5de2b"
             ],
             [
              1,
              "#fde725"
             ]
            ],
            "type": "histogram2d"
           }
          ],
          "histogram2dcontour": [
           {
            "colorbar": {
             "outlinewidth": 1,
             "tickcolor": "rgb(36,36,36)",
             "ticks": "outside"
            },
            "colorscale": [
             [
              0,
              "#440154"
             ],
             [
              0.1111111111111111,
              "#482878"
             ],
             [
              0.2222222222222222,
              "#3e4989"
             ],
             [
              0.3333333333333333,
              "#31688e"
             ],
             [
              0.4444444444444444,
              "#26828e"
             ],
             [
              0.5555555555555556,
              "#1f9e89"
             ],
             [
              0.6666666666666666,
              "#35b779"
             ],
             [
              0.7777777777777778,
              "#6ece58"
             ],
             [
              0.8888888888888888,
              "#b5de2b"
             ],
             [
              1,
              "#fde725"
             ]
            ],
            "type": "histogram2dcontour"
           }
          ],
          "mesh3d": [
           {
            "colorbar": {
             "outlinewidth": 1,
             "tickcolor": "rgb(36,36,36)",
             "ticks": "outside"
            },
            "type": "mesh3d"
           }
          ],
          "parcoords": [
           {
            "line": {
             "colorbar": {
              "outlinewidth": 1,
              "tickcolor": "rgb(36,36,36)",
              "ticks": "outside"
             }
            },
            "type": "parcoords"
           }
          ],
          "pie": [
           {
            "automargin": true,
            "type": "pie"
           }
          ],
          "scatter": [
           {
            "fillpattern": {
             "fillmode": "overlay",
             "size": 10,
             "solidity": 0.2
            },
            "type": "scatter"
           }
          ],
          "scatter3d": [
           {
            "line": {
             "colorbar": {
              "outlinewidth": 1,
              "tickcolor": "rgb(36,36,36)",
              "ticks": "outside"
             }
            },
            "marker": {
             "colorbar": {
              "outlinewidth": 1,
              "tickcolor": "rgb(36,36,36)",
              "ticks": "outside"
             }
            },
            "type": "scatter3d"
           }
          ],
          "scattercarpet": [
           {
            "marker": {
             "colorbar": {
              "outlinewidth": 1,
              "tickcolor": "rgb(36,36,36)",
              "ticks": "outside"
             }
            },
            "type": "scattercarpet"
           }
          ],
          "scattergeo": [
           {
            "marker": {
             "colorbar": {
              "outlinewidth": 1,
              "tickcolor": "rgb(36,36,36)",
              "ticks": "outside"
             }
            },
            "type": "scattergeo"
           }
          ],
          "scattergl": [
           {
            "marker": {
             "colorbar": {
              "outlinewidth": 1,
              "tickcolor": "rgb(36,36,36)",
              "ticks": "outside"
             }
            },
            "type": "scattergl"
           }
          ],
          "scattermapbox": [
           {
            "marker": {
             "colorbar": {
              "outlinewidth": 1,
              "tickcolor": "rgb(36,36,36)",
              "ticks": "outside"
             }
            },
            "type": "scattermapbox"
           }
          ],
          "scatterpolar": [
           {
            "marker": {
             "colorbar": {
              "outlinewidth": 1,
              "tickcolor": "rgb(36,36,36)",
              "ticks": "outside"
             }
            },
            "type": "scatterpolar"
           }
          ],
          "scatterpolargl": [
           {
            "marker": {
             "colorbar": {
              "outlinewidth": 1,
              "tickcolor": "rgb(36,36,36)",
              "ticks": "outside"
             }
            },
            "type": "scatterpolargl"
           }
          ],
          "scatterternary": [
           {
            "marker": {
             "colorbar": {
              "outlinewidth": 1,
              "tickcolor": "rgb(36,36,36)",
              "ticks": "outside"
             }
            },
            "type": "scatterternary"
           }
          ],
          "surface": [
           {
            "colorbar": {
             "outlinewidth": 1,
             "tickcolor": "rgb(36,36,36)",
             "ticks": "outside"
            },
            "colorscale": [
             [
              0,
              "#440154"
             ],
             [
              0.1111111111111111,
              "#482878"
             ],
             [
              0.2222222222222222,
              "#3e4989"
             ],
             [
              0.3333333333333333,
              "#31688e"
             ],
             [
              0.4444444444444444,
              "#26828e"
             ],
             [
              0.5555555555555556,
              "#1f9e89"
             ],
             [
              0.6666666666666666,
              "#35b779"
             ],
             [
              0.7777777777777778,
              "#6ece58"
             ],
             [
              0.8888888888888888,
              "#b5de2b"
             ],
             [
              1,
              "#fde725"
             ]
            ],
            "type": "surface"
           }
          ],
          "table": [
           {
            "cells": {
             "fill": {
              "color": "rgb(237,237,237)"
             },
             "line": {
              "color": "white"
             }
            },
            "header": {
             "fill": {
              "color": "rgb(217,217,217)"
             },
             "line": {
              "color": "white"
             }
            },
            "type": "table"
           }
          ]
         },
         "layout": {
          "annotationdefaults": {
           "arrowhead": 0,
           "arrowwidth": 1
          },
          "autotypenumbers": "strict",
          "coloraxis": {
           "colorbar": {
            "outlinewidth": 1,
            "tickcolor": "rgb(36,36,36)",
            "ticks": "outside"
           }
          },
          "colorscale": {
           "diverging": [
            [
             0,
             "rgb(103,0,31)"
            ],
            [
             0.1,
             "rgb(178,24,43)"
            ],
            [
             0.2,
             "rgb(214,96,77)"
            ],
            [
             0.3,
             "rgb(244,165,130)"
            ],
            [
             0.4,
             "rgb(253,219,199)"
            ],
            [
             0.5,
             "rgb(247,247,247)"
            ],
            [
             0.6,
             "rgb(209,229,240)"
            ],
            [
             0.7,
             "rgb(146,197,222)"
            ],
            [
             0.8,
             "rgb(67,147,195)"
            ],
            [
             0.9,
             "rgb(33,102,172)"
            ],
            [
             1,
             "rgb(5,48,97)"
            ]
           ],
           "sequential": [
            [
             0,
             "#440154"
            ],
            [
             0.1111111111111111,
             "#482878"
            ],
            [
             0.2222222222222222,
             "#3e4989"
            ],
            [
             0.3333333333333333,
             "#31688e"
            ],
            [
             0.4444444444444444,
             "#26828e"
            ],
            [
             0.5555555555555556,
             "#1f9e89"
            ],
            [
             0.6666666666666666,
             "#35b779"
            ],
            [
             0.7777777777777778,
             "#6ece58"
            ],
            [
             0.8888888888888888,
             "#b5de2b"
            ],
            [
             1,
             "#fde725"
            ]
           ],
           "sequentialminus": [
            [
             0,
             "#440154"
            ],
            [
             0.1111111111111111,
             "#482878"
            ],
            [
             0.2222222222222222,
             "#3e4989"
            ],
            [
             0.3333333333333333,
             "#31688e"
            ],
            [
             0.4444444444444444,
             "#26828e"
            ],
            [
             0.5555555555555556,
             "#1f9e89"
            ],
            [
             0.6666666666666666,
             "#35b779"
            ],
            [
             0.7777777777777778,
             "#6ece58"
            ],
            [
             0.8888888888888888,
             "#b5de2b"
            ],
            [
             1,
             "#fde725"
            ]
           ]
          },
          "colorway": [
           "#1F77B4",
           "#FF7F0E",
           "#2CA02C",
           "#D62728",
           "#9467BD",
           "#8C564B",
           "#E377C2",
           "#7F7F7F",
           "#BCBD22",
           "#17BECF"
          ],
          "font": {
           "color": "rgb(36,36,36)"
          },
          "geo": {
           "bgcolor": "white",
           "lakecolor": "white",
           "landcolor": "white",
           "showlakes": true,
           "showland": true,
           "subunitcolor": "white"
          },
          "hoverlabel": {
           "align": "left"
          },
          "hovermode": "closest",
          "mapbox": {
           "style": "light"
          },
          "paper_bgcolor": "white",
          "plot_bgcolor": "white",
          "polar": {
           "angularaxis": {
            "gridcolor": "rgb(232,232,232)",
            "linecolor": "rgb(36,36,36)",
            "showgrid": false,
            "showline": true,
            "ticks": "outside"
           },
           "bgcolor": "white",
           "radialaxis": {
            "gridcolor": "rgb(232,232,232)",
            "linecolor": "rgb(36,36,36)",
            "showgrid": false,
            "showline": true,
            "ticks": "outside"
           }
          },
          "scene": {
           "xaxis": {
            "backgroundcolor": "white",
            "gridcolor": "rgb(232,232,232)",
            "gridwidth": 2,
            "linecolor": "rgb(36,36,36)",
            "showbackground": true,
            "showgrid": false,
            "showline": true,
            "ticks": "outside",
            "zeroline": false,
            "zerolinecolor": "rgb(36,36,36)"
           },
           "yaxis": {
            "backgroundcolor": "white",
            "gridcolor": "rgb(232,232,232)",
            "gridwidth": 2,
            "linecolor": "rgb(36,36,36)",
            "showbackground": true,
            "showgrid": false,
            "showline": true,
            "ticks": "outside",
            "zeroline": false,
            "zerolinecolor": "rgb(36,36,36)"
           },
           "zaxis": {
            "backgroundcolor": "white",
            "gridcolor": "rgb(232,232,232)",
            "gridwidth": 2,
            "linecolor": "rgb(36,36,36)",
            "showbackground": true,
            "showgrid": false,
            "showline": true,
            "ticks": "outside",
            "zeroline": false,
            "zerolinecolor": "rgb(36,36,36)"
           }
          },
          "shapedefaults": {
           "fillcolor": "black",
           "line": {
            "width": 0
           },
           "opacity": 0.3
          },
          "ternary": {
           "aaxis": {
            "gridcolor": "rgb(232,232,232)",
            "linecolor": "rgb(36,36,36)",
            "showgrid": false,
            "showline": true,
            "ticks": "outside"
           },
           "baxis": {
            "gridcolor": "rgb(232,232,232)",
            "linecolor": "rgb(36,36,36)",
            "showgrid": false,
            "showline": true,
            "ticks": "outside"
           },
           "bgcolor": "white",
           "caxis": {
            "gridcolor": "rgb(232,232,232)",
            "linecolor": "rgb(36,36,36)",
            "showgrid": false,
            "showline": true,
            "ticks": "outside"
           }
          },
          "title": {
           "x": 0.05
          },
          "xaxis": {
           "automargin": true,
           "gridcolor": "rgb(232,232,232)",
           "linecolor": "rgb(36,36,36)",
           "showgrid": false,
           "showline": true,
           "ticks": "outside",
           "title": {
            "standoff": 15
           },
           "zeroline": false,
           "zerolinecolor": "rgb(36,36,36)"
          },
          "yaxis": {
           "automargin": true,
           "gridcolor": "rgb(232,232,232)",
           "linecolor": "rgb(36,36,36)",
           "showgrid": false,
           "showline": true,
           "ticks": "outside",
           "title": {
            "standoff": 15
           },
           "zeroline": false,
           "zerolinecolor": "rgb(36,36,36)"
          }
         }
        },
        "title": {
         "text": "Cumulative Gross Profit"
        },
        "xaxis": {
         "anchor": "y",
         "domain": [
          0,
          1
         ],
         "title": {
          "text": "market_number"
         }
        },
        "yaxis": {
         "anchor": "x",
         "domain": [
          0,
          1
         ],
         "title": {
          "text": "cGpl"
         }
        }
       }
      }
     },
     "metadata": {},
     "output_type": "display_data"
    }
   ],
   "source": [
    "output_eval(summary)\n",
    "bet_eval_chart_cPl(summary)"
   ]
  },
  {
   "cell_type": "code",
   "execution_count": 24,
   "metadata": {},
   "outputs": [
    {
     "data": {
      "text/html": [
       "<div>\n",
       "<style scoped>\n",
       "    .dataframe tbody tr th:only-of-type {\n",
       "        vertical-align: middle;\n",
       "    }\n",
       "\n",
       "    .dataframe tbody tr th {\n",
       "        vertical-align: top;\n",
       "    }\n",
       "\n",
       "    .dataframe thead th {\n",
       "        text-align: right;\n",
       "    }\n",
       "</style>\n",
       "<table border=\"1\" class=\"dataframe\">\n",
       "  <thead>\n",
       "    <tr style=\"text-align: right;\">\n",
       "      <th></th>\n",
       "      <th>venue</th>\n",
       "      <th>gpl</th>\n",
       "      <th>vol</th>\n",
       "    </tr>\n",
       "  </thead>\n",
       "  <tbody>\n",
       "    <tr>\n",
       "      <th>0</th>\n",
       "      <td>Sandown</td>\n",
       "      <td>-1816.944193</td>\n",
       "      <td>827559.07</td>\n",
       "    </tr>\n",
       "    <tr>\n",
       "      <th>1</th>\n",
       "      <td>Caulfield</td>\n",
       "      <td>362.384768</td>\n",
       "      <td>1631728.15</td>\n",
       "    </tr>\n",
       "    <tr>\n",
       "      <th>2</th>\n",
       "      <td>Flemington</td>\n",
       "      <td>650.608990</td>\n",
       "      <td>946681.99</td>\n",
       "    </tr>\n",
       "    <tr>\n",
       "      <th>3</th>\n",
       "      <td>Moonee Valley</td>\n",
       "      <td>1500.945817</td>\n",
       "      <td>860479.49</td>\n",
       "    </tr>\n",
       "    <tr>\n",
       "      <th>4</th>\n",
       "      <td>Bendigo</td>\n",
       "      <td>3421.941391</td>\n",
       "      <td>89374.49</td>\n",
       "    </tr>\n",
       "  </tbody>\n",
       "</table>\n",
       "</div>"
      ],
      "text/plain": [
       "           venue          gpl         vol\n",
       "0        Sandown -1816.944193   827559.07\n",
       "1      Caulfield   362.384768  1631728.15\n",
       "2     Flemington   650.608990   946681.99\n",
       "3  Moonee Valley  1500.945817   860479.49\n",
       "4        Bendigo  3421.941391    89374.49"
      ]
     },
     "execution_count": 24,
     "metadata": {},
     "output_type": "execute_result"
    }
   ],
   "source": [
    "raw['vol'] = raw.groupby('market_id')['traded_volume'].diff().fillna(raw['traded_volume'])\n",
    "venue_raw = raw.groupby('venue').agg({'vol': 'sum'}).reset_index()\n",
    "\n",
    "venue_summary = summary.groupby('venue').agg({'gpl': 'sum'}).sort_values('gpl', ascending=True)\n",
    "\n",
    "venue_summary = venue_summary.merge(venue_raw, on='venue', how='left')\n",
    "venue_summary"
   ]
  },
  {
   "cell_type": "code",
   "execution_count": 25,
   "metadata": {},
   "outputs": [
    {
     "data": {
      "text/html": [
       "<div>\n",
       "<style scoped>\n",
       "    .dataframe tbody tr th:only-of-type {\n",
       "        vertical-align: middle;\n",
       "    }\n",
       "\n",
       "    .dataframe tbody tr th {\n",
       "        vertical-align: top;\n",
       "    }\n",
       "\n",
       "    .dataframe thead th {\n",
       "        text-align: right;\n",
       "    }\n",
       "</style>\n",
       "<table border=\"1\" class=\"dataframe\">\n",
       "  <thead>\n",
       "    <tr style=\"text-align: right;\">\n",
       "      <th></th>\n",
       "      <th>venue</th>\n",
       "      <th>gpl</th>\n",
       "      <th>vol</th>\n",
       "    </tr>\n",
       "  </thead>\n",
       "  <tbody>\n",
       "    <tr>\n",
       "      <th>0</th>\n",
       "      <td>Sandown</td>\n",
       "      <td>-1816.944193</td>\n",
       "      <td>827559.07</td>\n",
       "    </tr>\n",
       "    <tr>\n",
       "      <th>1</th>\n",
       "      <td>Caulfield</td>\n",
       "      <td>362.384768</td>\n",
       "      <td>1631728.15</td>\n",
       "    </tr>\n",
       "    <tr>\n",
       "      <th>2</th>\n",
       "      <td>Flemington</td>\n",
       "      <td>650.608990</td>\n",
       "      <td>946681.99</td>\n",
       "    </tr>\n",
       "    <tr>\n",
       "      <th>3</th>\n",
       "      <td>Moonee Valley</td>\n",
       "      <td>1500.945817</td>\n",
       "      <td>860479.49</td>\n",
       "    </tr>\n",
       "    <tr>\n",
       "      <th>4</th>\n",
       "      <td>Bendigo</td>\n",
       "      <td>3421.941391</td>\n",
       "      <td>89374.49</td>\n",
       "    </tr>\n",
       "  </tbody>\n",
       "</table>\n",
       "</div>"
      ],
      "text/plain": [
       "           venue          gpl         vol\n",
       "0        Sandown -1816.944193   827559.07\n",
       "1      Caulfield   362.384768  1631728.15\n",
       "2     Flemington   650.608990   946681.99\n",
       "3  Moonee Valley  1500.945817   860479.49\n",
       "4        Bendigo  3421.941391    89374.49"
      ]
     },
     "execution_count": 25,
     "metadata": {},
     "output_type": "execute_result"
    }
   ],
   "source": [
    "venue_summary"
   ]
  },
  {
   "cell_type": "code",
   "execution_count": 28,
   "metadata": {},
   "outputs": [
    {
     "data": {
      "application/vnd.plotly.v1+json": {
       "config": {
        "plotlyServerURL": "https://plot.ly"
       },
       "data": [
        {
         "name": "GPL",
         "type": "bar",
         "x": [
          "Sandown",
          "Caulfield",
          "Flemington",
          "Moonee Valley",
          "Bendigo"
         ],
         "xaxis": "x",
         "y": [
          -1816.9441926407383,
          362.384768308034,
          650.6089902319649,
          1500.945817009315,
          3421.9413907828325
         ],
         "yaxis": "y"
        },
        {
         "name": "Volume",
         "type": "scatter",
         "x": [
          "Sandown",
          "Caulfield",
          "Flemington",
          "Moonee Valley",
          "Bendigo"
         ],
         "xaxis": "x",
         "y": [
          827559.07,
          1631728.15,
          946681.99,
          860479.49,
          89374.49000000002
         ],
         "yaxis": "y2"
        }
       ],
       "layout": {
        "template": {
         "data": {
          "bar": [
           {
            "error_x": {
             "color": "#2a3f5f"
            },
            "error_y": {
             "color": "#2a3f5f"
            },
            "marker": {
             "line": {
              "color": "#E5ECF6",
              "width": 0.5
             },
             "pattern": {
              "fillmode": "overlay",
              "size": 10,
              "solidity": 0.2
             }
            },
            "type": "bar"
           }
          ],
          "barpolar": [
           {
            "marker": {
             "line": {
              "color": "#E5ECF6",
              "width": 0.5
             },
             "pattern": {
              "fillmode": "overlay",
              "size": 10,
              "solidity": 0.2
             }
            },
            "type": "barpolar"
           }
          ],
          "carpet": [
           {
            "aaxis": {
             "endlinecolor": "#2a3f5f",
             "gridcolor": "white",
             "linecolor": "white",
             "minorgridcolor": "white",
             "startlinecolor": "#2a3f5f"
            },
            "baxis": {
             "endlinecolor": "#2a3f5f",
             "gridcolor": "white",
             "linecolor": "white",
             "minorgridcolor": "white",
             "startlinecolor": "#2a3f5f"
            },
            "type": "carpet"
           }
          ],
          "choropleth": [
           {
            "colorbar": {
             "outlinewidth": 0,
             "ticks": ""
            },
            "type": "choropleth"
           }
          ],
          "contour": [
           {
            "colorbar": {
             "outlinewidth": 0,
             "ticks": ""
            },
            "colorscale": [
             [
              0,
              "#0d0887"
             ],
             [
              0.1111111111111111,
              "#46039f"
             ],
             [
              0.2222222222222222,
              "#7201a8"
             ],
             [
              0.3333333333333333,
              "#9c179e"
             ],
             [
              0.4444444444444444,
              "#bd3786"
             ],
             [
              0.5555555555555556,
              "#d8576b"
             ],
             [
              0.6666666666666666,
              "#ed7953"
             ],
             [
              0.7777777777777778,
              "#fb9f3a"
             ],
             [
              0.8888888888888888,
              "#fdca26"
             ],
             [
              1,
              "#f0f921"
             ]
            ],
            "type": "contour"
           }
          ],
          "contourcarpet": [
           {
            "colorbar": {
             "outlinewidth": 0,
             "ticks": ""
            },
            "type": "contourcarpet"
           }
          ],
          "heatmap": [
           {
            "colorbar": {
             "outlinewidth": 0,
             "ticks": ""
            },
            "colorscale": [
             [
              0,
              "#0d0887"
             ],
             [
              0.1111111111111111,
              "#46039f"
             ],
             [
              0.2222222222222222,
              "#7201a8"
             ],
             [
              0.3333333333333333,
              "#9c179e"
             ],
             [
              0.4444444444444444,
              "#bd3786"
             ],
             [
              0.5555555555555556,
              "#d8576b"
             ],
             [
              0.6666666666666666,
              "#ed7953"
             ],
             [
              0.7777777777777778,
              "#fb9f3a"
             ],
             [
              0.8888888888888888,
              "#fdca26"
             ],
             [
              1,
              "#f0f921"
             ]
            ],
            "type": "heatmap"
           }
          ],
          "heatmapgl": [
           {
            "colorbar": {
             "outlinewidth": 0,
             "ticks": ""
            },
            "colorscale": [
             [
              0,
              "#0d0887"
             ],
             [
              0.1111111111111111,
              "#46039f"
             ],
             [
              0.2222222222222222,
              "#7201a8"
             ],
             [
              0.3333333333333333,
              "#9c179e"
             ],
             [
              0.4444444444444444,
              "#bd3786"
             ],
             [
              0.5555555555555556,
              "#d8576b"
             ],
             [
              0.6666666666666666,
              "#ed7953"
             ],
             [
              0.7777777777777778,
              "#fb9f3a"
             ],
             [
              0.8888888888888888,
              "#fdca26"
             ],
             [
              1,
              "#f0f921"
             ]
            ],
            "type": "heatmapgl"
           }
          ],
          "histogram": [
           {
            "marker": {
             "pattern": {
              "fillmode": "overlay",
              "size": 10,
              "solidity": 0.2
             }
            },
            "type": "histogram"
           }
          ],
          "histogram2d": [
           {
            "colorbar": {
             "outlinewidth": 0,
             "ticks": ""
            },
            "colorscale": [
             [
              0,
              "#0d0887"
             ],
             [
              0.1111111111111111,
              "#46039f"
             ],
             [
              0.2222222222222222,
              "#7201a8"
             ],
             [
              0.3333333333333333,
              "#9c179e"
             ],
             [
              0.4444444444444444,
              "#bd3786"
             ],
             [
              0.5555555555555556,
              "#d8576b"
             ],
             [
              0.6666666666666666,
              "#ed7953"
             ],
             [
              0.7777777777777778,
              "#fb9f3a"
             ],
             [
              0.8888888888888888,
              "#fdca26"
             ],
             [
              1,
              "#f0f921"
             ]
            ],
            "type": "histogram2d"
           }
          ],
          "histogram2dcontour": [
           {
            "colorbar": {
             "outlinewidth": 0,
             "ticks": ""
            },
            "colorscale": [
             [
              0,
              "#0d0887"
             ],
             [
              0.1111111111111111,
              "#46039f"
             ],
             [
              0.2222222222222222,
              "#7201a8"
             ],
             [
              0.3333333333333333,
              "#9c179e"
             ],
             [
              0.4444444444444444,
              "#bd3786"
             ],
             [
              0.5555555555555556,
              "#d8576b"
             ],
             [
              0.6666666666666666,
              "#ed7953"
             ],
             [
              0.7777777777777778,
              "#fb9f3a"
             ],
             [
              0.8888888888888888,
              "#fdca26"
             ],
             [
              1,
              "#f0f921"
             ]
            ],
            "type": "histogram2dcontour"
           }
          ],
          "mesh3d": [
           {
            "colorbar": {
             "outlinewidth": 0,
             "ticks": ""
            },
            "type": "mesh3d"
           }
          ],
          "parcoords": [
           {
            "line": {
             "colorbar": {
              "outlinewidth": 0,
              "ticks": ""
             }
            },
            "type": "parcoords"
           }
          ],
          "pie": [
           {
            "automargin": true,
            "type": "pie"
           }
          ],
          "scatter": [
           {
            "fillpattern": {
             "fillmode": "overlay",
             "size": 10,
             "solidity": 0.2
            },
            "type": "scatter"
           }
          ],
          "scatter3d": [
           {
            "line": {
             "colorbar": {
              "outlinewidth": 0,
              "ticks": ""
             }
            },
            "marker": {
             "colorbar": {
              "outlinewidth": 0,
              "ticks": ""
             }
            },
            "type": "scatter3d"
           }
          ],
          "scattercarpet": [
           {
            "marker": {
             "colorbar": {
              "outlinewidth": 0,
              "ticks": ""
             }
            },
            "type": "scattercarpet"
           }
          ],
          "scattergeo": [
           {
            "marker": {
             "colorbar": {
              "outlinewidth": 0,
              "ticks": ""
             }
            },
            "type": "scattergeo"
           }
          ],
          "scattergl": [
           {
            "marker": {
             "colorbar": {
              "outlinewidth": 0,
              "ticks": ""
             }
            },
            "type": "scattergl"
           }
          ],
          "scattermapbox": [
           {
            "marker": {
             "colorbar": {
              "outlinewidth": 0,
              "ticks": ""
             }
            },
            "type": "scattermapbox"
           }
          ],
          "scatterpolar": [
           {
            "marker": {
             "colorbar": {
              "outlinewidth": 0,
              "ticks": ""
             }
            },
            "type": "scatterpolar"
           }
          ],
          "scatterpolargl": [
           {
            "marker": {
             "colorbar": {
              "outlinewidth": 0,
              "ticks": ""
             }
            },
            "type": "scatterpolargl"
           }
          ],
          "scatterternary": [
           {
            "marker": {
             "colorbar": {
              "outlinewidth": 0,
              "ticks": ""
             }
            },
            "type": "scatterternary"
           }
          ],
          "surface": [
           {
            "colorbar": {
             "outlinewidth": 0,
             "ticks": ""
            },
            "colorscale": [
             [
              0,
              "#0d0887"
             ],
             [
              0.1111111111111111,
              "#46039f"
             ],
             [
              0.2222222222222222,
              "#7201a8"
             ],
             [
              0.3333333333333333,
              "#9c179e"
             ],
             [
              0.4444444444444444,
              "#bd3786"
             ],
             [
              0.5555555555555556,
              "#d8576b"
             ],
             [
              0.6666666666666666,
              "#ed7953"
             ],
             [
              0.7777777777777778,
              "#fb9f3a"
             ],
             [
              0.8888888888888888,
              "#fdca26"
             ],
             [
              1,
              "#f0f921"
             ]
            ],
            "type": "surface"
           }
          ],
          "table": [
           {
            "cells": {
             "fill": {
              "color": "#EBF0F8"
             },
             "line": {
              "color": "white"
             }
            },
            "header": {
             "fill": {
              "color": "#C8D4E3"
             },
             "line": {
              "color": "white"
             }
            },
            "type": "table"
           }
          ]
         },
         "layout": {
          "annotationdefaults": {
           "arrowcolor": "#2a3f5f",
           "arrowhead": 0,
           "arrowwidth": 1
          },
          "autotypenumbers": "strict",
          "coloraxis": {
           "colorbar": {
            "outlinewidth": 0,
            "ticks": ""
           }
          },
          "colorscale": {
           "diverging": [
            [
             0,
             "#8e0152"
            ],
            [
             0.1,
             "#c51b7d"
            ],
            [
             0.2,
             "#de77ae"
            ],
            [
             0.3,
             "#f1b6da"
            ],
            [
             0.4,
             "#fde0ef"
            ],
            [
             0.5,
             "#f7f7f7"
            ],
            [
             0.6,
             "#e6f5d0"
            ],
            [
             0.7,
             "#b8e186"
            ],
            [
             0.8,
             "#7fbc41"
            ],
            [
             0.9,
             "#4d9221"
            ],
            [
             1,
             "#276419"
            ]
           ],
           "sequential": [
            [
             0,
             "#0d0887"
            ],
            [
             0.1111111111111111,
             "#46039f"
            ],
            [
             0.2222222222222222,
             "#7201a8"
            ],
            [
             0.3333333333333333,
             "#9c179e"
            ],
            [
             0.4444444444444444,
             "#bd3786"
            ],
            [
             0.5555555555555556,
             "#d8576b"
            ],
            [
             0.6666666666666666,
             "#ed7953"
            ],
            [
             0.7777777777777778,
             "#fb9f3a"
            ],
            [
             0.8888888888888888,
             "#fdca26"
            ],
            [
             1,
             "#f0f921"
            ]
           ],
           "sequentialminus": [
            [
             0,
             "#0d0887"
            ],
            [
             0.1111111111111111,
             "#46039f"
            ],
            [
             0.2222222222222222,
             "#7201a8"
            ],
            [
             0.3333333333333333,
             "#9c179e"
            ],
            [
             0.4444444444444444,
             "#bd3786"
            ],
            [
             0.5555555555555556,
             "#d8576b"
            ],
            [
             0.6666666666666666,
             "#ed7953"
            ],
            [
             0.7777777777777778,
             "#fb9f3a"
            ],
            [
             0.8888888888888888,
             "#fdca26"
            ],
            [
             1,
             "#f0f921"
            ]
           ]
          },
          "colorway": [
           "#636efa",
           "#EF553B",
           "#00cc96",
           "#ab63fa",
           "#FFA15A",
           "#19d3f3",
           "#FF6692",
           "#B6E880",
           "#FF97FF",
           "#FECB52"
          ],
          "font": {
           "color": "#2a3f5f"
          },
          "geo": {
           "bgcolor": "white",
           "lakecolor": "white",
           "landcolor": "#E5ECF6",
           "showlakes": true,
           "showland": true,
           "subunitcolor": "white"
          },
          "hoverlabel": {
           "align": "left"
          },
          "hovermode": "closest",
          "mapbox": {
           "style": "light"
          },
          "paper_bgcolor": "white",
          "plot_bgcolor": "#E5ECF6",
          "polar": {
           "angularaxis": {
            "gridcolor": "white",
            "linecolor": "white",
            "ticks": ""
           },
           "bgcolor": "#E5ECF6",
           "radialaxis": {
            "gridcolor": "white",
            "linecolor": "white",
            "ticks": ""
           }
          },
          "scene": {
           "xaxis": {
            "backgroundcolor": "#E5ECF6",
            "gridcolor": "white",
            "gridwidth": 2,
            "linecolor": "white",
            "showbackground": true,
            "ticks": "",
            "zerolinecolor": "white"
           },
           "yaxis": {
            "backgroundcolor": "#E5ECF6",
            "gridcolor": "white",
            "gridwidth": 2,
            "linecolor": "white",
            "showbackground": true,
            "ticks": "",
            "zerolinecolor": "white"
           },
           "zaxis": {
            "backgroundcolor": "#E5ECF6",
            "gridcolor": "white",
            "gridwidth": 2,
            "linecolor": "white",
            "showbackground": true,
            "ticks": "",
            "zerolinecolor": "white"
           }
          },
          "shapedefaults": {
           "line": {
            "color": "#2a3f5f"
           }
          },
          "ternary": {
           "aaxis": {
            "gridcolor": "white",
            "linecolor": "white",
            "ticks": ""
           },
           "baxis": {
            "gridcolor": "white",
            "linecolor": "white",
            "ticks": ""
           },
           "bgcolor": "#E5ECF6",
           "caxis": {
            "gridcolor": "white",
            "linecolor": "white",
            "ticks": ""
           }
          },
          "title": {
           "x": 0.05
          },
          "xaxis": {
           "automargin": true,
           "gridcolor": "white",
           "linecolor": "white",
           "ticks": "",
           "title": {
            "standoff": 15
           },
           "zerolinecolor": "white",
           "zerolinewidth": 2
          },
          "yaxis": {
           "automargin": true,
           "gridcolor": "white",
           "linecolor": "white",
           "ticks": "",
           "title": {
            "standoff": 15
           },
           "zerolinecolor": "white",
           "zerolinewidth": 2
          }
         }
        },
        "title": {
         "text": "Total GPL and Volume by Venue"
        },
        "xaxis": {
         "anchor": "y",
         "domain": [
          0,
          0.94
         ],
         "title": {
          "text": "Venue"
         }
        },
        "yaxis": {
         "anchor": "x",
         "domain": [
          0,
          1
         ],
         "title": {
          "text": "<b>GPL</b>"
         }
        },
        "yaxis2": {
         "anchor": "x",
         "overlaying": "y",
         "side": "right",
         "title": {
          "text": "<b>Volume</b>"
         }
        }
       }
      }
     },
     "metadata": {},
     "output_type": "display_data"
    }
   ],
   "source": [
    "from plotly.subplots import make_subplots\n",
    "\n",
    "fig = make_subplots(specs=[[{\"secondary_y\": True}]])\n",
    "\n",
    "# Add traces\n",
    "fig.add_trace(\n",
    "    go.Bar(x=venue_summary['venue'], y=venue_summary['gpl'], name=\"GPL\"),\n",
    "    secondary_y=False,\n",
    ")\n",
    "fig.add_trace(\n",
    "    go.Scatter(x=venue_summary['venue'], y=venue_summary['vol'], name=\"Volume\"),\n",
    "    secondary_y=True,\n",
    ")\n",
    "\n",
    "# Add figure title\n",
    "fig.update_layout(\n",
    "    title_text=\"Total GPL and Volume by Venue\"\n",
    ")\n",
    "\n",
    "# Set x-axis title\n",
    "fig.update_xaxes(title_text=\"Venue\")\n",
    "\n",
    "# Set y-axes titles\n",
    "fig.update_yaxes(title_text=\"<b>GPL</b>\", secondary_y=False)\n",
    "fig.update_yaxes(title_text=\"<b>Volume</b>\", secondary_y=True)\n",
    "\n",
    "tickvals = venue_summary['venue'].tolist()\n",
    "ticktext = venue_summary['venue'].tolist()\n",
    "\n",
    "fig.update_xaxes(tickvals=tickvals, ticktext=ticktext)\n",
    "# Increase the graph size\n",
    "fig.update_layout(width=1300, height=600)\n",
    "\n",
    "# Reduce the x-axis label font size\n",
    "fig.update_xaxes(tickfont=dict(size=8))\n",
    "\n",
    "fig.show()"
   ]
  },
  {
   "cell_type": "code",
   "execution_count": 37,
   "metadata": {},
   "outputs": [
    {
     "data": {
      "text/html": [
       "<div>\n",
       "<style scoped>\n",
       "    .dataframe tbody tr th:only-of-type {\n",
       "        vertical-align: middle;\n",
       "    }\n",
       "\n",
       "    .dataframe tbody tr th {\n",
       "        vertical-align: top;\n",
       "    }\n",
       "\n",
       "    .dataframe thead th {\n",
       "        text-align: right;\n",
       "    }\n",
       "</style>\n",
       "<table border=\"1\" class=\"dataframe\">\n",
       "  <thead>\n",
       "    <tr style=\"text-align: right;\">\n",
       "      <th></th>\n",
       "      <th>market_id</th>\n",
       "      <th>selection_id</th>\n",
       "      <th>selection_name</th>\n",
       "      <th>venue</th>\n",
       "      <th>win</th>\n",
       "      <th>back_trades</th>\n",
       "      <th>lay_trades</th>\n",
       "      <th>lay_v_sum</th>\n",
       "      <th>back_v_sum</th>\n",
       "      <th>back_liability</th>\n",
       "      <th>back_return</th>\n",
       "      <th>lay_liability</th>\n",
       "      <th>lay_return</th>\n",
       "      <th>month</th>\n",
       "      <th>gpl</th>\n",
       "      <th>stake</th>\n",
       "    </tr>\n",
       "  </thead>\n",
       "  <tbody>\n",
       "    <tr>\n",
       "      <th>0</th>\n",
       "      <td>1.221906108</td>\n",
       "      <td>54632509</td>\n",
       "      <td>3. Field Of Mars</td>\n",
       "      <td>Moonee Valley</td>\n",
       "      <td>0</td>\n",
       "      <td>{'p': [40.0, 40.0, 40.0, 40.0, 40.0, 40.0, 42....</td>\n",
       "      <td>{'p': [42.0, 42.0, 42.0, 42.0, 42.0, 42.0, 42....</td>\n",
       "      <td>80.312500</td>\n",
       "      <td>72.187500</td>\n",
       "      <td>72.187500</td>\n",
       "      <td>-72.187500</td>\n",
       "      <td>0.000000</td>\n",
       "      <td>80.312500</td>\n",
       "      <td>2023_12</td>\n",
       "      <td>8.125000</td>\n",
       "      <td>152.500000</td>\n",
       "    </tr>\n",
       "    <tr>\n",
       "      <th>1</th>\n",
       "      <td>1.221906108</td>\n",
       "      <td>1436299</td>\n",
       "      <td>4. New Hampshire</td>\n",
       "      <td>Moonee Valley</td>\n",
       "      <td>1</td>\n",
       "      <td>{'p': [23.0, 22.0, 22.0, 22.0, 22.0, 22.0, 23....</td>\n",
       "      <td>{'p': [21.0, 21.0, 21.0, 21.0, 21.0, 21.0, 21....</td>\n",
       "      <td>20.625000</td>\n",
       "      <td>27.500000</td>\n",
       "      <td>27.500000</td>\n",
       "      <td>583.437500</td>\n",
       "      <td>381.015625</td>\n",
       "      <td>-381.015625</td>\n",
       "      <td>2023_12</td>\n",
       "      <td>202.421875</td>\n",
       "      <td>48.125000</td>\n",
       "    </tr>\n",
       "    <tr>\n",
       "      <th>2</th>\n",
       "      <td>1.221906108</td>\n",
       "      <td>63363608</td>\n",
       "      <td>6. Warmosa</td>\n",
       "      <td>Moonee Valley</td>\n",
       "      <td>0</td>\n",
       "      <td>{'p': [16.0, 16.0, 16.5, 16.5, 16.5, 16.5, 16....</td>\n",
       "      <td>{'p': [19.0, 19.0, 19.0, 19.0, 19.0, 19.0, 19....</td>\n",
       "      <td>13.437500</td>\n",
       "      <td>76.968750</td>\n",
       "      <td>76.968750</td>\n",
       "      <td>-76.968750</td>\n",
       "      <td>0.000000</td>\n",
       "      <td>13.437500</td>\n",
       "      <td>2023_12</td>\n",
       "      <td>-63.531250</td>\n",
       "      <td>90.406250</td>\n",
       "    </tr>\n",
       "    <tr>\n",
       "      <th>3</th>\n",
       "      <td>1.221906108</td>\n",
       "      <td>63363609</td>\n",
       "      <td>7. Steel King</td>\n",
       "      <td>Moonee Valley</td>\n",
       "      <td>0</td>\n",
       "      <td>{'p': [7.2, 7.4, 5.6, 5.6, 5.6, 5.6, 5.6, 5.6,...</td>\n",
       "      <td>{'p': [], 'v': []}</td>\n",
       "      <td>0.000000</td>\n",
       "      <td>10.968750</td>\n",
       "      <td>10.968750</td>\n",
       "      <td>-10.968750</td>\n",
       "      <td>0.000000</td>\n",
       "      <td>0.000000</td>\n",
       "      <td>2023_12</td>\n",
       "      <td>-10.968750</td>\n",
       "      <td>10.968750</td>\n",
       "    </tr>\n",
       "    <tr>\n",
       "      <th>4</th>\n",
       "      <td>1.221906108</td>\n",
       "      <td>63363610</td>\n",
       "      <td>8. Vienna Lights</td>\n",
       "      <td>Moonee Valley</td>\n",
       "      <td>0</td>\n",
       "      <td>{'p': [20.0, 20.0, 21.0, 22.0, 22.0, 22.0, 22....</td>\n",
       "      <td>{'p': [22.0, 22.0, 22.0, 22.0, 22.0, 22.0, 22....</td>\n",
       "      <td>33.125000</td>\n",
       "      <td>40.937500</td>\n",
       "      <td>40.937500</td>\n",
       "      <td>-40.937500</td>\n",
       "      <td>0.000000</td>\n",
       "      <td>33.125000</td>\n",
       "      <td>2023_12</td>\n",
       "      <td>-7.812500</td>\n",
       "      <td>74.062500</td>\n",
       "    </tr>\n",
       "    <tr>\n",
       "      <th>...</th>\n",
       "      <td>...</td>\n",
       "      <td>...</td>\n",
       "      <td>...</td>\n",
       "      <td>...</td>\n",
       "      <td>...</td>\n",
       "      <td>...</td>\n",
       "      <td>...</td>\n",
       "      <td>...</td>\n",
       "      <td>...</td>\n",
       "      <td>...</td>\n",
       "      <td>...</td>\n",
       "      <td>...</td>\n",
       "      <td>...</td>\n",
       "      <td>...</td>\n",
       "      <td>...</td>\n",
       "      <td>...</td>\n",
       "    </tr>\n",
       "    <tr>\n",
       "      <th>1062</th>\n",
       "      <td>1.225361859</td>\n",
       "      <td>66487428</td>\n",
       "      <td>11. Hooah Havana</td>\n",
       "      <td>Sandown</td>\n",
       "      <td>0</td>\n",
       "      <td>{'p': [12.0, 12.5, 12.0, 12.5, 12.5, 14.5, 13....</td>\n",
       "      <td>{'p': [], 'v': []}</td>\n",
       "      <td>0.000000</td>\n",
       "      <td>3.035714</td>\n",
       "      <td>3.035714</td>\n",
       "      <td>-3.035714</td>\n",
       "      <td>0.000000</td>\n",
       "      <td>0.000000</td>\n",
       "      <td>2024_02</td>\n",
       "      <td>-3.035714</td>\n",
       "      <td>3.035714</td>\n",
       "    </tr>\n",
       "    <tr>\n",
       "      <th>1063</th>\n",
       "      <td>1.225361859</td>\n",
       "      <td>45023136</td>\n",
       "      <td>12. Gwan So</td>\n",
       "      <td>Sandown</td>\n",
       "      <td>0</td>\n",
       "      <td>{'p': [18.5, 18.5, 19.5, 19.5, 19.5, 19.5, 19....</td>\n",
       "      <td>{'p': [24.0, 24.0, 24.0, 24.0, 24.0, 24.0, 24....</td>\n",
       "      <td>1.785714</td>\n",
       "      <td>90.000000</td>\n",
       "      <td>90.000000</td>\n",
       "      <td>-90.000000</td>\n",
       "      <td>0.000000</td>\n",
       "      <td>1.785714</td>\n",
       "      <td>2024_02</td>\n",
       "      <td>-88.214286</td>\n",
       "      <td>91.785714</td>\n",
       "    </tr>\n",
       "    <tr>\n",
       "      <th>1064</th>\n",
       "      <td>1.225361859</td>\n",
       "      <td>66487431</td>\n",
       "      <td>13. Kodiak</td>\n",
       "      <td>Sandown</td>\n",
       "      <td>0</td>\n",
       "      <td>{'p': [11.5, 11.5, 11.5, 12.5, 12.5, 12.5, 12....</td>\n",
       "      <td>{'p': [14.5, 14.5, 14.5, 14.5, 14.5, 14.5, 14....</td>\n",
       "      <td>2.321429</td>\n",
       "      <td>96.142857</td>\n",
       "      <td>96.142857</td>\n",
       "      <td>-96.142857</td>\n",
       "      <td>0.000000</td>\n",
       "      <td>2.321429</td>\n",
       "      <td>2024_02</td>\n",
       "      <td>-93.821429</td>\n",
       "      <td>98.464286</td>\n",
       "    </tr>\n",
       "    <tr>\n",
       "      <th>1065</th>\n",
       "      <td>1.225361859</td>\n",
       "      <td>60816398</td>\n",
       "      <td>14. Eye Of The Eagle</td>\n",
       "      <td>Sandown</td>\n",
       "      <td>0</td>\n",
       "      <td>{'p': [5.7, 5.7, 5.6, 5.9, 5.9, 5.7, 5.6, 5.5,...</td>\n",
       "      <td>{'p': [], 'v': []}</td>\n",
       "      <td>0.000000</td>\n",
       "      <td>7.607143</td>\n",
       "      <td>7.607143</td>\n",
       "      <td>-7.607143</td>\n",
       "      <td>0.000000</td>\n",
       "      <td>0.000000</td>\n",
       "      <td>2024_02</td>\n",
       "      <td>-7.607143</td>\n",
       "      <td>7.607143</td>\n",
       "    </tr>\n",
       "    <tr>\n",
       "      <th>1066</th>\n",
       "      <td>1.225361859</td>\n",
       "      <td>50088198</td>\n",
       "      <td>15. Ghetto Supastar</td>\n",
       "      <td>Sandown</td>\n",
       "      <td>0</td>\n",
       "      <td>{'p': [50.0, 55.0, 55.0, 55.0, 50.0, 55.0, 55....</td>\n",
       "      <td>{'p': [], 'v': []}</td>\n",
       "      <td>0.000000</td>\n",
       "      <td>3.785714</td>\n",
       "      <td>3.785714</td>\n",
       "      <td>-3.785714</td>\n",
       "      <td>0.000000</td>\n",
       "      <td>0.000000</td>\n",
       "      <td>2024_02</td>\n",
       "      <td>-3.785714</td>\n",
       "      <td>3.785714</td>\n",
       "    </tr>\n",
       "  </tbody>\n",
       "</table>\n",
       "<p>2318 rows × 16 columns</p>\n",
       "</div>"
      ],
      "text/plain": [
       "        market_id selection_id        selection_name          venue  win  \\\n",
       "0     1.221906108     54632509      3. Field Of Mars  Moonee Valley    0   \n",
       "1     1.221906108      1436299      4. New Hampshire  Moonee Valley    1   \n",
       "2     1.221906108     63363608            6. Warmosa  Moonee Valley    0   \n",
       "3     1.221906108     63363609         7. Steel King  Moonee Valley    0   \n",
       "4     1.221906108     63363610      8. Vienna Lights  Moonee Valley    0   \n",
       "...           ...          ...                   ...            ...  ...   \n",
       "1062  1.225361859     66487428      11. Hooah Havana        Sandown    0   \n",
       "1063  1.225361859     45023136           12. Gwan So        Sandown    0   \n",
       "1064  1.225361859     66487431            13. Kodiak        Sandown    0   \n",
       "1065  1.225361859     60816398  14. Eye Of The Eagle        Sandown    0   \n",
       "1066  1.225361859     50088198   15. Ghetto Supastar        Sandown    0   \n",
       "\n",
       "                                            back_trades  \\\n",
       "0     {'p': [40.0, 40.0, 40.0, 40.0, 40.0, 40.0, 42....   \n",
       "1     {'p': [23.0, 22.0, 22.0, 22.0, 22.0, 22.0, 23....   \n",
       "2     {'p': [16.0, 16.0, 16.5, 16.5, 16.5, 16.5, 16....   \n",
       "3     {'p': [7.2, 7.4, 5.6, 5.6, 5.6, 5.6, 5.6, 5.6,...   \n",
       "4     {'p': [20.0, 20.0, 21.0, 22.0, 22.0, 22.0, 22....   \n",
       "...                                                 ...   \n",
       "1062  {'p': [12.0, 12.5, 12.0, 12.5, 12.5, 14.5, 13....   \n",
       "1063  {'p': [18.5, 18.5, 19.5, 19.5, 19.5, 19.5, 19....   \n",
       "1064  {'p': [11.5, 11.5, 11.5, 12.5, 12.5, 12.5, 12....   \n",
       "1065  {'p': [5.7, 5.7, 5.6, 5.9, 5.9, 5.7, 5.6, 5.5,...   \n",
       "1066  {'p': [50.0, 55.0, 55.0, 55.0, 50.0, 55.0, 55....   \n",
       "\n",
       "                                             lay_trades  lay_v_sum  \\\n",
       "0     {'p': [42.0, 42.0, 42.0, 42.0, 42.0, 42.0, 42....  80.312500   \n",
       "1     {'p': [21.0, 21.0, 21.0, 21.0, 21.0, 21.0, 21....  20.625000   \n",
       "2     {'p': [19.0, 19.0, 19.0, 19.0, 19.0, 19.0, 19....  13.437500   \n",
       "3                                    {'p': [], 'v': []}   0.000000   \n",
       "4     {'p': [22.0, 22.0, 22.0, 22.0, 22.0, 22.0, 22....  33.125000   \n",
       "...                                                 ...        ...   \n",
       "1062                                 {'p': [], 'v': []}   0.000000   \n",
       "1063  {'p': [24.0, 24.0, 24.0, 24.0, 24.0, 24.0, 24....   1.785714   \n",
       "1064  {'p': [14.5, 14.5, 14.5, 14.5, 14.5, 14.5, 14....   2.321429   \n",
       "1065                                 {'p': [], 'v': []}   0.000000   \n",
       "1066                                 {'p': [], 'v': []}   0.000000   \n",
       "\n",
       "      back_v_sum  back_liability  back_return  lay_liability  lay_return  \\\n",
       "0      72.187500       72.187500   -72.187500       0.000000   80.312500   \n",
       "1      27.500000       27.500000   583.437500     381.015625 -381.015625   \n",
       "2      76.968750       76.968750   -76.968750       0.000000   13.437500   \n",
       "3      10.968750       10.968750   -10.968750       0.000000    0.000000   \n",
       "4      40.937500       40.937500   -40.937500       0.000000   33.125000   \n",
       "...          ...             ...          ...            ...         ...   \n",
       "1062    3.035714        3.035714    -3.035714       0.000000    0.000000   \n",
       "1063   90.000000       90.000000   -90.000000       0.000000    1.785714   \n",
       "1064   96.142857       96.142857   -96.142857       0.000000    2.321429   \n",
       "1065    7.607143        7.607143    -7.607143       0.000000    0.000000   \n",
       "1066    3.785714        3.785714    -3.785714       0.000000    0.000000   \n",
       "\n",
       "        month         gpl       stake  \n",
       "0     2023_12    8.125000  152.500000  \n",
       "1     2023_12  202.421875   48.125000  \n",
       "2     2023_12  -63.531250   90.406250  \n",
       "3     2023_12  -10.968750   10.968750  \n",
       "4     2023_12   -7.812500   74.062500  \n",
       "...       ...         ...         ...  \n",
       "1062  2024_02   -3.035714    3.035714  \n",
       "1063  2024_02  -88.214286   91.785714  \n",
       "1064  2024_02  -93.821429   98.464286  \n",
       "1065  2024_02   -7.607143    7.607143  \n",
       "1066  2024_02   -3.785714    3.785714  \n",
       "\n",
       "[2318 rows x 16 columns]"
      ]
     },
     "execution_count": 37,
     "metadata": {},
     "output_type": "execute_result"
    }
   ],
   "source": [
    "n = 5 # top and bottom 5\n",
    "signif_venues = pd.concat([venue_summary.head(n), venue_summary.tail(n)])['venue'].tolist()\n",
    "signif_summary = summary[(summary['venue'].isin(signif_venues))]\n",
    "signif_summary"
   ]
  },
  {
   "cell_type": "code",
   "execution_count": 49,
   "metadata": {},
   "outputs": [
    {
     "data": {
      "text/html": [
       "<div>\n",
       "<style scoped>\n",
       "    .dataframe tbody tr th:only-of-type {\n",
       "        vertical-align: middle;\n",
       "    }\n",
       "\n",
       "    .dataframe tbody tr th {\n",
       "        vertical-align: top;\n",
       "    }\n",
       "\n",
       "    .dataframe thead th {\n",
       "        text-align: right;\n",
       "    }\n",
       "</style>\n",
       "<table border=\"1\" class=\"dataframe\">\n",
       "  <thead>\n",
       "    <tr style=\"text-align: right;\">\n",
       "      <th></th>\n",
       "      <th>venue</th>\n",
       "      <th>month</th>\n",
       "      <th>gpl</th>\n",
       "    </tr>\n",
       "  </thead>\n",
       "  <tbody>\n",
       "    <tr>\n",
       "      <th>0</th>\n",
       "      <td>Bendigo</td>\n",
       "      <td>2023_12</td>\n",
       "      <td>-1122.351179</td>\n",
       "    </tr>\n",
       "    <tr>\n",
       "      <th>1</th>\n",
       "      <td>Bendigo</td>\n",
       "      <td>2024_02</td>\n",
       "      <td>4544.292569</td>\n",
       "    </tr>\n",
       "    <tr>\n",
       "      <th>2</th>\n",
       "      <td>Caulfield</td>\n",
       "      <td>2023_12</td>\n",
       "      <td>-1854.004464</td>\n",
       "    </tr>\n",
       "    <tr>\n",
       "      <th>3</th>\n",
       "      <td>Caulfield</td>\n",
       "      <td>2024_01</td>\n",
       "      <td>-181.783190</td>\n",
       "    </tr>\n",
       "    <tr>\n",
       "      <th>4</th>\n",
       "      <td>Caulfield</td>\n",
       "      <td>2024_02</td>\n",
       "      <td>2398.172423</td>\n",
       "    </tr>\n",
       "    <tr>\n",
       "      <th>5</th>\n",
       "      <td>Flemington</td>\n",
       "      <td>2023_12</td>\n",
       "      <td>-1294.608730</td>\n",
       "    </tr>\n",
       "    <tr>\n",
       "      <th>6</th>\n",
       "      <td>Flemington</td>\n",
       "      <td>2024_01</td>\n",
       "      <td>2350.863514</td>\n",
       "    </tr>\n",
       "    <tr>\n",
       "      <th>7</th>\n",
       "      <td>Flemington</td>\n",
       "      <td>2024_02</td>\n",
       "      <td>-405.645794</td>\n",
       "    </tr>\n",
       "    <tr>\n",
       "      <th>8</th>\n",
       "      <td>Moonee Valley</td>\n",
       "      <td>2023_12</td>\n",
       "      <td>-2475.008910</td>\n",
       "    </tr>\n",
       "    <tr>\n",
       "      <th>9</th>\n",
       "      <td>Moonee Valley</td>\n",
       "      <td>2024_01</td>\n",
       "      <td>926.952821</td>\n",
       "    </tr>\n",
       "    <tr>\n",
       "      <th>10</th>\n",
       "      <td>Moonee Valley</td>\n",
       "      <td>2024_02</td>\n",
       "      <td>3049.001905</td>\n",
       "    </tr>\n",
       "    <tr>\n",
       "      <th>11</th>\n",
       "      <td>Sandown</td>\n",
       "      <td>2023_12</td>\n",
       "      <td>-557.359076</td>\n",
       "    </tr>\n",
       "    <tr>\n",
       "      <th>12</th>\n",
       "      <td>Sandown</td>\n",
       "      <td>2024_01</td>\n",
       "      <td>-2028.360069</td>\n",
       "    </tr>\n",
       "    <tr>\n",
       "      <th>13</th>\n",
       "      <td>Sandown</td>\n",
       "      <td>2024_02</td>\n",
       "      <td>768.774952</td>\n",
       "    </tr>\n",
       "  </tbody>\n",
       "</table>\n",
       "</div>"
      ],
      "text/plain": [
       "            venue    month          gpl\n",
       "0         Bendigo  2023_12 -1122.351179\n",
       "1         Bendigo  2024_02  4544.292569\n",
       "2       Caulfield  2023_12 -1854.004464\n",
       "3       Caulfield  2024_01  -181.783190\n",
       "4       Caulfield  2024_02  2398.172423\n",
       "5      Flemington  2023_12 -1294.608730\n",
       "6      Flemington  2024_01  2350.863514\n",
       "7      Flemington  2024_02  -405.645794\n",
       "8   Moonee Valley  2023_12 -2475.008910\n",
       "9   Moonee Valley  2024_01   926.952821\n",
       "10  Moonee Valley  2024_02  3049.001905\n",
       "11        Sandown  2023_12  -557.359076\n",
       "12        Sandown  2024_01 -2028.360069\n",
       "13        Sandown  2024_02   768.774952"
      ]
     },
     "execution_count": 49,
     "metadata": {},
     "output_type": "execute_result"
    }
   ],
   "source": [
    "signif_summary_month = summary.groupby(['venue', 'month']).agg({'gpl': 'sum'}).reset_index()\n",
    "signif_summary_month"
   ]
  },
  {
   "cell_type": "code",
   "execution_count": 57,
   "metadata": {},
   "outputs": [
    {
     "data": {
      "text/html": [
       "<div>\n",
       "<style scoped>\n",
       "    .dataframe tbody tr th:only-of-type {\n",
       "        vertical-align: middle;\n",
       "    }\n",
       "\n",
       "    .dataframe tbody tr th {\n",
       "        vertical-align: top;\n",
       "    }\n",
       "\n",
       "    .dataframe thead th {\n",
       "        text-align: right;\n",
       "    }\n",
       "</style>\n",
       "<table border=\"1\" class=\"dataframe\">\n",
       "  <thead>\n",
       "    <tr style=\"text-align: right;\">\n",
       "      <th></th>\n",
       "      <th>venue</th>\n",
       "      <th>month</th>\n",
       "      <th>gpl</th>\n",
       "    </tr>\n",
       "  </thead>\n",
       "  <tbody>\n",
       "    <tr>\n",
       "      <th>0</th>\n",
       "      <td>Bendigo</td>\n",
       "      <td>2023_12</td>\n",
       "      <td>-1122.351179</td>\n",
       "    </tr>\n",
       "    <tr>\n",
       "      <th>1</th>\n",
       "      <td>Bendigo</td>\n",
       "      <td>2024_02</td>\n",
       "      <td>4544.292569</td>\n",
       "    </tr>\n",
       "    <tr>\n",
       "      <th>2</th>\n",
       "      <td>Caulfield</td>\n",
       "      <td>2023_12</td>\n",
       "      <td>-1854.004464</td>\n",
       "    </tr>\n",
       "    <tr>\n",
       "      <th>3</th>\n",
       "      <td>Caulfield</td>\n",
       "      <td>2024_01</td>\n",
       "      <td>-181.783190</td>\n",
       "    </tr>\n",
       "    <tr>\n",
       "      <th>4</th>\n",
       "      <td>Caulfield</td>\n",
       "      <td>2024_02</td>\n",
       "      <td>2398.172423</td>\n",
       "    </tr>\n",
       "    <tr>\n",
       "      <th>5</th>\n",
       "      <td>Flemington</td>\n",
       "      <td>2023_12</td>\n",
       "      <td>-1294.608730</td>\n",
       "    </tr>\n",
       "    <tr>\n",
       "      <th>6</th>\n",
       "      <td>Flemington</td>\n",
       "      <td>2024_01</td>\n",
       "      <td>2350.863514</td>\n",
       "    </tr>\n",
       "    <tr>\n",
       "      <th>7</th>\n",
       "      <td>Flemington</td>\n",
       "      <td>2024_02</td>\n",
       "      <td>-405.645794</td>\n",
       "    </tr>\n",
       "    <tr>\n",
       "      <th>8</th>\n",
       "      <td>Moonee Valley</td>\n",
       "      <td>2023_12</td>\n",
       "      <td>-2475.008910</td>\n",
       "    </tr>\n",
       "    <tr>\n",
       "      <th>9</th>\n",
       "      <td>Moonee Valley</td>\n",
       "      <td>2024_01</td>\n",
       "      <td>926.952821</td>\n",
       "    </tr>\n",
       "    <tr>\n",
       "      <th>10</th>\n",
       "      <td>Moonee Valley</td>\n",
       "      <td>2024_02</td>\n",
       "      <td>3049.001905</td>\n",
       "    </tr>\n",
       "    <tr>\n",
       "      <th>11</th>\n",
       "      <td>Sandown</td>\n",
       "      <td>2023_12</td>\n",
       "      <td>-557.359076</td>\n",
       "    </tr>\n",
       "    <tr>\n",
       "      <th>12</th>\n",
       "      <td>Sandown</td>\n",
       "      <td>2024_01</td>\n",
       "      <td>-2028.360069</td>\n",
       "    </tr>\n",
       "    <tr>\n",
       "      <th>13</th>\n",
       "      <td>Sandown</td>\n",
       "      <td>2024_02</td>\n",
       "      <td>768.774952</td>\n",
       "    </tr>\n",
       "    <tr>\n",
       "      <th>14</th>\n",
       "      <td>Bendigo</td>\n",
       "      <td>2024_01</td>\n",
       "      <td>0.000000</td>\n",
       "    </tr>\n",
       "  </tbody>\n",
       "</table>\n",
       "</div>"
      ],
      "text/plain": [
       "            venue    month          gpl\n",
       "0         Bendigo  2023_12 -1122.351179\n",
       "1         Bendigo  2024_02  4544.292569\n",
       "2       Caulfield  2023_12 -1854.004464\n",
       "3       Caulfield  2024_01  -181.783190\n",
       "4       Caulfield  2024_02  2398.172423\n",
       "5      Flemington  2023_12 -1294.608730\n",
       "6      Flemington  2024_01  2350.863514\n",
       "7      Flemington  2024_02  -405.645794\n",
       "8   Moonee Valley  2023_12 -2475.008910\n",
       "9   Moonee Valley  2024_01   926.952821\n",
       "10  Moonee Valley  2024_02  3049.001905\n",
       "11        Sandown  2023_12  -557.359076\n",
       "12        Sandown  2024_01 -2028.360069\n",
       "13        Sandown  2024_02   768.774952\n",
       "14        Bendigo  2024_01     0.000000"
      ]
     },
     "execution_count": 57,
     "metadata": {},
     "output_type": "execute_result"
    }
   ],
   "source": [
    "def ensure_all_months_present(df):\n",
    "    # Define the months you're interested in\n",
    "    months = ['2023_12', '2024_01', '2024_02']\n",
    "    \n",
    "    # Group the data by venue\n",
    "    grouped = df.groupby('venue')\n",
    "    \n",
    "    # Loop through each venue\n",
    "    for venue, group in grouped:\n",
    "        # Check if the venue has data for all three months\n",
    "        if not all(month in group['month'].values for month in months):\n",
    "            # If any month is missing, add a new row with the venue name, the missing month, and a GPL value of 0\n",
    "            for month in months:\n",
    "                if month not in group['month'].values:\n",
    "                    new_row = {'venue': venue, 'month': month, 'gpl': 0}\n",
    "                    df.loc[len(df)] = new_row\n",
    "        \n",
    "    return df\n",
    "\n",
    "signif_summary_month = ensure_all_months_present(signif_summary_month)\n",
    "signif_summary_month"
   ]
  },
  {
   "cell_type": "code",
   "execution_count": 58,
   "metadata": {},
   "outputs": [
    {
     "data": {
      "application/vnd.plotly.v1+json": {
       "config": {
        "plotlyServerURL": "https://plot.ly"
       },
       "data": [
        {
         "legendgroup": "Bendigo",
         "legendgrouptitle": {
          "text": "Bendigo"
         },
         "marker": {
          "color": "blue"
         },
         "name": "2023_12",
         "showlegend": true,
         "type": "bar",
         "x": [
          "Bendigo"
         ],
         "y": [
          -1122.3511785714384
         ]
        },
        {
         "legendgroup": "Bendigo",
         "legendgrouptitle": {
          "text": "Bendigo"
         },
         "marker": {
          "color": "green"
         },
         "name": "2024_02",
         "showlegend": true,
         "type": "bar",
         "x": [
          "Bendigo"
         ],
         "y": [
          4544.292569354271
         ]
        },
        {
         "legendgroup": "Bendigo",
         "legendgrouptitle": {
          "text": "Bendigo"
         },
         "marker": {
          "color": "red"
         },
         "name": "2024_01",
         "showlegend": true,
         "type": "bar",
         "x": [
          "Bendigo"
         ],
         "y": [
          0
         ]
        },
        {
         "legendgroup": "Caulfield",
         "legendgrouptitle": {
          "text": "Caulfield"
         },
         "marker": {
          "color": "blue"
         },
         "name": "2023_12",
         "showlegend": false,
         "type": "bar",
         "x": [
          "Caulfield"
         ],
         "y": [
          -1854.0044638347904
         ]
        },
        {
         "legendgroup": "Caulfield",
         "legendgrouptitle": {
          "text": "Caulfield"
         },
         "marker": {
          "color": "red"
         },
         "name": "2024_01",
         "showlegend": false,
         "type": "bar",
         "x": [
          "Caulfield"
         ],
         "y": [
          -181.78319047620218
         ]
        },
        {
         "legendgroup": "Caulfield",
         "legendgrouptitle": {
          "text": "Caulfield"
         },
         "marker": {
          "color": "green"
         },
         "name": "2024_02",
         "showlegend": false,
         "type": "bar",
         "x": [
          "Caulfield"
         ],
         "y": [
          2398.1724226190263
         ]
        },
        {
         "legendgroup": "Flemington",
         "legendgrouptitle": {
          "text": "Flemington"
         },
         "marker": {
          "color": "blue"
         },
         "name": "2023_12",
         "showlegend": false,
         "type": "bar",
         "x": [
          "Flemington"
         ],
         "y": [
          -1294.6087301587327
         ]
        },
        {
         "legendgroup": "Flemington",
         "legendgrouptitle": {
          "text": "Flemington"
         },
         "marker": {
          "color": "red"
         },
         "name": "2024_01",
         "showlegend": false,
         "type": "bar",
         "x": [
          "Flemington"
         ],
         "y": [
          2350.863514041496
         ]
        },
        {
         "legendgroup": "Flemington",
         "legendgrouptitle": {
          "text": "Flemington"
         },
         "marker": {
          "color": "green"
         },
         "name": "2024_02",
         "showlegend": false,
         "type": "bar",
         "x": [
          "Flemington"
         ],
         "y": [
          -405.6457936507981
         ]
        },
        {
         "legendgroup": "Moonee Valley",
         "legendgrouptitle": {
          "text": "Moonee Valley"
         },
         "marker": {
          "color": "blue"
         },
         "name": "2023_12",
         "showlegend": false,
         "type": "bar",
         "x": [
          "Moonee Valley"
         ],
         "y": [
          -2475.0089097222613
         ]
        },
        {
         "legendgroup": "Moonee Valley",
         "legendgrouptitle": {
          "text": "Moonee Valley"
         },
         "marker": {
          "color": "red"
         },
         "name": "2024_01",
         "showlegend": false,
         "type": "bar",
         "x": [
          "Moonee Valley"
         ],
         "y": [
          926.9528214285643
         ]
        },
        {
         "legendgroup": "Moonee Valley",
         "legendgrouptitle": {
          "text": "Moonee Valley"
         },
         "marker": {
          "color": "green"
         },
         "name": "2024_02",
         "showlegend": false,
         "type": "bar",
         "x": [
          "Moonee Valley"
         ],
         "y": [
          3049.0019053030123
         ]
        },
        {
         "legendgroup": "Sandown",
         "legendgrouptitle": {
          "text": "Sandown"
         },
         "marker": {
          "color": "blue"
         },
         "name": "2023_12",
         "showlegend": false,
         "type": "bar",
         "x": [
          "Sandown"
         ],
         "y": [
          -557.3590757575755
         ]
        },
        {
         "legendgroup": "Sandown",
         "legendgrouptitle": {
          "text": "Sandown"
         },
         "marker": {
          "color": "red"
         },
         "name": "2024_01",
         "showlegend": false,
         "type": "bar",
         "x": [
          "Sandown"
         ],
         "y": [
          -2028.360069264091
         ]
        },
        {
         "legendgroup": "Sandown",
         "legendgrouptitle": {
          "text": "Sandown"
         },
         "marker": {
          "color": "green"
         },
         "name": "2024_02",
         "showlegend": false,
         "type": "bar",
         "x": [
          "Sandown"
         ],
         "y": [
          768.7749523809282
         ]
        }
       ],
       "layout": {
        "barmode": "group",
        "template": {
         "data": {
          "bar": [
           {
            "error_x": {
             "color": "#2a3f5f"
            },
            "error_y": {
             "color": "#2a3f5f"
            },
            "marker": {
             "line": {
              "color": "#E5ECF6",
              "width": 0.5
             },
             "pattern": {
              "fillmode": "overlay",
              "size": 10,
              "solidity": 0.2
             }
            },
            "type": "bar"
           }
          ],
          "barpolar": [
           {
            "marker": {
             "line": {
              "color": "#E5ECF6",
              "width": 0.5
             },
             "pattern": {
              "fillmode": "overlay",
              "size": 10,
              "solidity": 0.2
             }
            },
            "type": "barpolar"
           }
          ],
          "carpet": [
           {
            "aaxis": {
             "endlinecolor": "#2a3f5f",
             "gridcolor": "white",
             "linecolor": "white",
             "minorgridcolor": "white",
             "startlinecolor": "#2a3f5f"
            },
            "baxis": {
             "endlinecolor": "#2a3f5f",
             "gridcolor": "white",
             "linecolor": "white",
             "minorgridcolor": "white",
             "startlinecolor": "#2a3f5f"
            },
            "type": "carpet"
           }
          ],
          "choropleth": [
           {
            "colorbar": {
             "outlinewidth": 0,
             "ticks": ""
            },
            "type": "choropleth"
           }
          ],
          "contour": [
           {
            "colorbar": {
             "outlinewidth": 0,
             "ticks": ""
            },
            "colorscale": [
             [
              0,
              "#0d0887"
             ],
             [
              0.1111111111111111,
              "#46039f"
             ],
             [
              0.2222222222222222,
              "#7201a8"
             ],
             [
              0.3333333333333333,
              "#9c179e"
             ],
             [
              0.4444444444444444,
              "#bd3786"
             ],
             [
              0.5555555555555556,
              "#d8576b"
             ],
             [
              0.6666666666666666,
              "#ed7953"
             ],
             [
              0.7777777777777778,
              "#fb9f3a"
             ],
             [
              0.8888888888888888,
              "#fdca26"
             ],
             [
              1,
              "#f0f921"
             ]
            ],
            "type": "contour"
           }
          ],
          "contourcarpet": [
           {
            "colorbar": {
             "outlinewidth": 0,
             "ticks": ""
            },
            "type": "contourcarpet"
           }
          ],
          "heatmap": [
           {
            "colorbar": {
             "outlinewidth": 0,
             "ticks": ""
            },
            "colorscale": [
             [
              0,
              "#0d0887"
             ],
             [
              0.1111111111111111,
              "#46039f"
             ],
             [
              0.2222222222222222,
              "#7201a8"
             ],
             [
              0.3333333333333333,
              "#9c179e"
             ],
             [
              0.4444444444444444,
              "#bd3786"
             ],
             [
              0.5555555555555556,
              "#d8576b"
             ],
             [
              0.6666666666666666,
              "#ed7953"
             ],
             [
              0.7777777777777778,
              "#fb9f3a"
             ],
             [
              0.8888888888888888,
              "#fdca26"
             ],
             [
              1,
              "#f0f921"
             ]
            ],
            "type": "heatmap"
           }
          ],
          "heatmapgl": [
           {
            "colorbar": {
             "outlinewidth": 0,
             "ticks": ""
            },
            "colorscale": [
             [
              0,
              "#0d0887"
             ],
             [
              0.1111111111111111,
              "#46039f"
             ],
             [
              0.2222222222222222,
              "#7201a8"
             ],
             [
              0.3333333333333333,
              "#9c179e"
             ],
             [
              0.4444444444444444,
              "#bd3786"
             ],
             [
              0.5555555555555556,
              "#d8576b"
             ],
             [
              0.6666666666666666,
              "#ed7953"
             ],
             [
              0.7777777777777778,
              "#fb9f3a"
             ],
             [
              0.8888888888888888,
              "#fdca26"
             ],
             [
              1,
              "#f0f921"
             ]
            ],
            "type": "heatmapgl"
           }
          ],
          "histogram": [
           {
            "marker": {
             "pattern": {
              "fillmode": "overlay",
              "size": 10,
              "solidity": 0.2
             }
            },
            "type": "histogram"
           }
          ],
          "histogram2d": [
           {
            "colorbar": {
             "outlinewidth": 0,
             "ticks": ""
            },
            "colorscale": [
             [
              0,
              "#0d0887"
             ],
             [
              0.1111111111111111,
              "#46039f"
             ],
             [
              0.2222222222222222,
              "#7201a8"
             ],
             [
              0.3333333333333333,
              "#9c179e"
             ],
             [
              0.4444444444444444,
              "#bd3786"
             ],
             [
              0.5555555555555556,
              "#d8576b"
             ],
             [
              0.6666666666666666,
              "#ed7953"
             ],
             [
              0.7777777777777778,
              "#fb9f3a"
             ],
             [
              0.8888888888888888,
              "#fdca26"
             ],
             [
              1,
              "#f0f921"
             ]
            ],
            "type": "histogram2d"
           }
          ],
          "histogram2dcontour": [
           {
            "colorbar": {
             "outlinewidth": 0,
             "ticks": ""
            },
            "colorscale": [
             [
              0,
              "#0d0887"
             ],
             [
              0.1111111111111111,
              "#46039f"
             ],
             [
              0.2222222222222222,
              "#7201a8"
             ],
             [
              0.3333333333333333,
              "#9c179e"
             ],
             [
              0.4444444444444444,
              "#bd3786"
             ],
             [
              0.5555555555555556,
              "#d8576b"
             ],
             [
              0.6666666666666666,
              "#ed7953"
             ],
             [
              0.7777777777777778,
              "#fb9f3a"
             ],
             [
              0.8888888888888888,
              "#fdca26"
             ],
             [
              1,
              "#f0f921"
             ]
            ],
            "type": "histogram2dcontour"
           }
          ],
          "mesh3d": [
           {
            "colorbar": {
             "outlinewidth": 0,
             "ticks": ""
            },
            "type": "mesh3d"
           }
          ],
          "parcoords": [
           {
            "line": {
             "colorbar": {
              "outlinewidth": 0,
              "ticks": ""
             }
            },
            "type": "parcoords"
           }
          ],
          "pie": [
           {
            "automargin": true,
            "type": "pie"
           }
          ],
          "scatter": [
           {
            "fillpattern": {
             "fillmode": "overlay",
             "size": 10,
             "solidity": 0.2
            },
            "type": "scatter"
           }
          ],
          "scatter3d": [
           {
            "line": {
             "colorbar": {
              "outlinewidth": 0,
              "ticks": ""
             }
            },
            "marker": {
             "colorbar": {
              "outlinewidth": 0,
              "ticks": ""
             }
            },
            "type": "scatter3d"
           }
          ],
          "scattercarpet": [
           {
            "marker": {
             "colorbar": {
              "outlinewidth": 0,
              "ticks": ""
             }
            },
            "type": "scattercarpet"
           }
          ],
          "scattergeo": [
           {
            "marker": {
             "colorbar": {
              "outlinewidth": 0,
              "ticks": ""
             }
            },
            "type": "scattergeo"
           }
          ],
          "scattergl": [
           {
            "marker": {
             "colorbar": {
              "outlinewidth": 0,
              "ticks": ""
             }
            },
            "type": "scattergl"
           }
          ],
          "scattermapbox": [
           {
            "marker": {
             "colorbar": {
              "outlinewidth": 0,
              "ticks": ""
             }
            },
            "type": "scattermapbox"
           }
          ],
          "scatterpolar": [
           {
            "marker": {
             "colorbar": {
              "outlinewidth": 0,
              "ticks": ""
             }
            },
            "type": "scatterpolar"
           }
          ],
          "scatterpolargl": [
           {
            "marker": {
             "colorbar": {
              "outlinewidth": 0,
              "ticks": ""
             }
            },
            "type": "scatterpolargl"
           }
          ],
          "scatterternary": [
           {
            "marker": {
             "colorbar": {
              "outlinewidth": 0,
              "ticks": ""
             }
            },
            "type": "scatterternary"
           }
          ],
          "surface": [
           {
            "colorbar": {
             "outlinewidth": 0,
             "ticks": ""
            },
            "colorscale": [
             [
              0,
              "#0d0887"
             ],
             [
              0.1111111111111111,
              "#46039f"
             ],
             [
              0.2222222222222222,
              "#7201a8"
             ],
             [
              0.3333333333333333,
              "#9c179e"
             ],
             [
              0.4444444444444444,
              "#bd3786"
             ],
             [
              0.5555555555555556,
              "#d8576b"
             ],
             [
              0.6666666666666666,
              "#ed7953"
             ],
             [
              0.7777777777777778,
              "#fb9f3a"
             ],
             [
              0.8888888888888888,
              "#fdca26"
             ],
             [
              1,
              "#f0f921"
             ]
            ],
            "type": "surface"
           }
          ],
          "table": [
           {
            "cells": {
             "fill": {
              "color": "#EBF0F8"
             },
             "line": {
              "color": "white"
             }
            },
            "header": {
             "fill": {
              "color": "#C8D4E3"
             },
             "line": {
              "color": "white"
             }
            },
            "type": "table"
           }
          ]
         },
         "layout": {
          "annotationdefaults": {
           "arrowcolor": "#2a3f5f",
           "arrowhead": 0,
           "arrowwidth": 1
          },
          "autotypenumbers": "strict",
          "coloraxis": {
           "colorbar": {
            "outlinewidth": 0,
            "ticks": ""
           }
          },
          "colorscale": {
           "diverging": [
            [
             0,
             "#8e0152"
            ],
            [
             0.1,
             "#c51b7d"
            ],
            [
             0.2,
             "#de77ae"
            ],
            [
             0.3,
             "#f1b6da"
            ],
            [
             0.4,
             "#fde0ef"
            ],
            [
             0.5,
             "#f7f7f7"
            ],
            [
             0.6,
             "#e6f5d0"
            ],
            [
             0.7,
             "#b8e186"
            ],
            [
             0.8,
             "#7fbc41"
            ],
            [
             0.9,
             "#4d9221"
            ],
            [
             1,
             "#276419"
            ]
           ],
           "sequential": [
            [
             0,
             "#0d0887"
            ],
            [
             0.1111111111111111,
             "#46039f"
            ],
            [
             0.2222222222222222,
             "#7201a8"
            ],
            [
             0.3333333333333333,
             "#9c179e"
            ],
            [
             0.4444444444444444,
             "#bd3786"
            ],
            [
             0.5555555555555556,
             "#d8576b"
            ],
            [
             0.6666666666666666,
             "#ed7953"
            ],
            [
             0.7777777777777778,
             "#fb9f3a"
            ],
            [
             0.8888888888888888,
             "#fdca26"
            ],
            [
             1,
             "#f0f921"
            ]
           ],
           "sequentialminus": [
            [
             0,
             "#0d0887"
            ],
            [
             0.1111111111111111,
             "#46039f"
            ],
            [
             0.2222222222222222,
             "#7201a8"
            ],
            [
             0.3333333333333333,
             "#9c179e"
            ],
            [
             0.4444444444444444,
             "#bd3786"
            ],
            [
             0.5555555555555556,
             "#d8576b"
            ],
            [
             0.6666666666666666,
             "#ed7953"
            ],
            [
             0.7777777777777778,
             "#fb9f3a"
            ],
            [
             0.8888888888888888,
             "#fdca26"
            ],
            [
             1,
             "#f0f921"
            ]
           ]
          },
          "colorway": [
           "#636efa",
           "#EF553B",
           "#00cc96",
           "#ab63fa",
           "#FFA15A",
           "#19d3f3",
           "#FF6692",
           "#B6E880",
           "#FF97FF",
           "#FECB52"
          ],
          "font": {
           "color": "#2a3f5f"
          },
          "geo": {
           "bgcolor": "white",
           "lakecolor": "white",
           "landcolor": "#E5ECF6",
           "showlakes": true,
           "showland": true,
           "subunitcolor": "white"
          },
          "hoverlabel": {
           "align": "left"
          },
          "hovermode": "closest",
          "mapbox": {
           "style": "light"
          },
          "paper_bgcolor": "white",
          "plot_bgcolor": "#E5ECF6",
          "polar": {
           "angularaxis": {
            "gridcolor": "white",
            "linecolor": "white",
            "ticks": ""
           },
           "bgcolor": "#E5ECF6",
           "radialaxis": {
            "gridcolor": "white",
            "linecolor": "white",
            "ticks": ""
           }
          },
          "scene": {
           "xaxis": {
            "backgroundcolor": "#E5ECF6",
            "gridcolor": "white",
            "gridwidth": 2,
            "linecolor": "white",
            "showbackground": true,
            "ticks": "",
            "zerolinecolor": "white"
           },
           "yaxis": {
            "backgroundcolor": "#E5ECF6",
            "gridcolor": "white",
            "gridwidth": 2,
            "linecolor": "white",
            "showbackground": true,
            "ticks": "",
            "zerolinecolor": "white"
           },
           "zaxis": {
            "backgroundcolor": "#E5ECF6",
            "gridcolor": "white",
            "gridwidth": 2,
            "linecolor": "white",
            "showbackground": true,
            "ticks": "",
            "zerolinecolor": "white"
           }
          },
          "shapedefaults": {
           "line": {
            "color": "#2a3f5f"
           }
          },
          "ternary": {
           "aaxis": {
            "gridcolor": "white",
            "linecolor": "white",
            "ticks": ""
           },
           "baxis": {
            "gridcolor": "white",
            "linecolor": "white",
            "ticks": ""
           },
           "bgcolor": "#E5ECF6",
           "caxis": {
            "gridcolor": "white",
            "linecolor": "white",
            "ticks": ""
           }
          },
          "title": {
           "x": 0.05
          },
          "xaxis": {
           "automargin": true,
           "gridcolor": "white",
           "linecolor": "white",
           "ticks": "",
           "title": {
            "standoff": 15
           },
           "zerolinecolor": "white",
           "zerolinewidth": 2
          },
          "yaxis": {
           "automargin": true,
           "gridcolor": "white",
           "linecolor": "white",
           "ticks": "",
           "title": {
            "standoff": 15
           },
           "zerolinecolor": "white",
           "zerolinewidth": 2
          }
         }
        },
        "title": {
         "text": "GPL by Venue and Month"
        }
       }
      }
     },
     "metadata": {},
     "output_type": "display_data"
    }
   ],
   "source": [
    "# Create a bar chart with grouped bars for each venue and month\n",
    "fig = go.Figure()\n",
    "\n",
    "colors = ['blue', 'green', 'red']\n",
    "\n",
    "# Loop through each venue\n",
    "for venue in signif_summary_month['venue'].unique():\n",
    "    venue_data = signif_summary_month[signif_summary_month['venue'] == venue]\n",
    "    # Add a bar for each month of the venue\n",
    "    for month, gpl in zip(venue_data['month'], venue_data['gpl']):\n",
    "        # Determine the color based on the month index\n",
    "        month_index = signif_summary_month['month'].unique().tolist().index(month)\n",
    "        fig.add_trace(\n",
    "            go.Bar(\n",
    "                x=[venue],\n",
    "                y=[gpl],\n",
    "                name=month,\n",
    "                legendgroup=venue,\n",
    "                showlegend=True if venue == signif_summary_month['venue'].unique()[0] else False, # Show legend only for the first venue\n",
    "                legendgrouptitle_text=venue,\n",
    "                marker_color=colors[month_index] # Assign color based on month index\n",
    "            )\n",
    "        )\n",
    "\n",
    "# Update layout for better visualization\n",
    "fig.update_layout(barmode='group', title_text=\"GPL by Venue and Month\")\n",
    "\n",
    "# Display the plot\n",
    "fig.show()"
   ]
  },
  {
   "cell_type": "code",
   "execution_count": null,
   "metadata": {},
   "outputs": [],
   "source": []
  }
 ],
 "metadata": {
  "kernelspec": {
   "display_name": "Python 3",
   "language": "python",
   "name": "python3"
  },
  "language_info": {
   "codemirror_mode": {
    "name": "ipython",
    "version": 3
   },
   "file_extension": ".py",
   "mimetype": "text/x-python",
   "name": "python",
   "nbconvert_exporter": "python",
   "pygments_lexer": "ipython3",
   "version": "3.10.13"
  }
 },
 "nbformat": 4,
 "nbformat_minor": 2
}
