{
 "cells": [
  {
   "cell_type": "code",
   "execution_count": 4,
   "id": "bf987480",
   "metadata": {},
   "outputs": [
    {
     "name": "stdout",
     "output_type": "stream",
     "text": [
      "b'{\"op\":\"mcm\",\"clk\":\"10791826256\",\"pt\":1709183865565,\"mc\":[{\"id\":\"1.225457316\",\"marketDefinition\":{\"bspMarket\":true,\"turnInPlayEnabled\":true,\"persistenceEnabled\":true,\"marketBaseRate\":10.0,\"eventId\":\"33063008\",\"eventTypeId\":\"7\",\"numberOfWinners\":1,\"bettingType\":\"ODDS\",\"marketType\":\"WIN\",\"marketTime\":\"2024-03-01T02:00:00.000Z\",\"suspendTime\":\"2024-03-01T02:00:00.000Z\",\"bspReconciled\":false,\"complete\":true,\"inPlay\":false,\"crossMatching\":false,\"runnersVoidable\":false,\"numberOfActiveRunners\":7,\"betDelay\":0,\"status\":\"OPEN\",\"runners\":[{\"adjustmentFactor\":2.34,\"status\":\"ACTIVE\",\"sortPriority\":1,\"id\":66543008,\"name\":\"1. Bonnyville\"},{\"adjustmentFactor\":8.29,\"status\":\"ACTIVE\",\"sortPriority\":2,\"id\":66543009,\"name\":\"2. King Lane\"},{\"adjustmentFactor\":43.73,\"status\":\"ACTIVE\",\"sortPriority\":3,\"id\":66543010,\"name\":\"3. Love The Cube\"},{\"adjustmentFactor\":22.53,\"status\":\"ACTIVE\",\"sortPriority\":4,\"id\":2161990,\"name\":\"4. Reluctance\"},{\"adjustmentFactor\":19.45,\"status\":\"ACTIVE\",\"sortPriority\":5,\"id\":5061015,\"name\":\"5. Zhivago\"},{\"adjustmentFactor\":3.38,\"status\":\"ACTIVE\",\"sortPriority\":6,\"id\":66543011,\"name\":\"6. Kgari\"},{\"adjustmentFactor\":0.25,\"status\":\"ACTIVE\",\"sortPriority\":7,\"id\":66543012,\"name\":\"7. Sheza Widgee\"}],\"regulators\":[\"MR_INT\"],\"venue\":\"Goulburn\",\"countryCode\":\"AU\",\"discountAllowed\":true,\"timezone\":\"Australia/Sydney\",\"openDate\":\"2024-03-01T02:00:00.000Z\",\"version\":5763680642,\"name\":\"R1 900m Mdn\",\"eventName\":\"Goulburn (AUS) 1st Mar\"},\"rc\":[],\"con\":true,\"img\":false}]}\\n{\"op\":\"mcm\",\"clk\":\"10791826292\",\"pt\":1709183865978,\"mc\":[{\"id\":\"1.225457316\",\"rc\":[{\"atb\":[[1.01,8.8]],\"id\":5061015},{\"atb\":[[1.01,8.8]],\"id\":66543009},{\"atb\":[[1.01,8.8]],\"id\":2161990},{\"atb\":[[1.01,43.01]],\"id\":66543008},{\"atb\":[[1.01,8.8]],\"id\":66543012},{\"atb\":[[1.01,8.8]],\"id\":66543011},{\"atb\":[[1.01,8.8]],\"id\":66543010}],\"con\":true,\"img\":false}]}\\n{\"op\":\"mcm\",\"clk\":\"10791826297\",\"pt\":1709183866077,\"mc\":[{\"id\":\"1.225457316\",\"rc\":[{\"atb\":[[1.01,43.01]],\"id\":5061015},{\"atb\":[[1.01,43.01]],\"id\":66543009},{\"atb\":[[1.01,43.01]],\"id\":66543012},{\"atb\":[[1.01,43.01]],\"id\":66543011},{\"atb\":[[1.01,43.01]],\"id\":66543010}],\"con\":true,\"img\":false}]}\\n{\"op\":\"mcm\",\"clk\":\"10791826304\",\"pt\":1709183866179,\"mc\":[{\"id\":\"1.225457316\",\"rc\":[{\"atb\":[[1.01,43.01]],\"id\":2161990}],\"con\":true,\"img\":false}]}\\n{\"op\":\"mcm\",\"clk\":\"10791826329\",\"pt\":1709183866745,\"mc\":[{\"id\":\"1.225457316\",\"rc\":[{\"atb\":[[1.01,51.81]],\"id\":5061015},{\"atb\":[[1.01,51.81]],\"id\":66543009},{\"atb\":[[1.01,51.81]],\"id\":2161990},{\"atb\":[[1.01,51.81]],\"id\":66543008},{\"atb\":[[1.01,51.81]],\"id\":66543012},{\"atb\":[[1.01,51.81]],\"id\":66543011},{\"atb\":[[1.01,51.81]],\"id\":66543010}],\"con\":true,\"img\":false}]}\\n{\"op\":\"mcm\",\"clk\":\"10791826786\",\"pt\":1709183881197,\"mc\":[{\"id\":\"1.225457316\",\"rc\":[{\"atb\":[[1.01,43.01]],\"id\":5061015},{\"atb\":[[1.01,43.01]],\"id\":66543009},{\"atb\":[[1.01,43.01]],\"id\":2161990},{\"atb\":[[1.01,43.01]],\"id\":66543008},{\"atb\":[[1.01,43.01]],\"id\":66543012},{\"atb\":[[1.01,43.01]],\"id\":66543011},{\"atb\":[[1.01,43.01]],\"id\":66543010}],\"con\":true,\"img\":false}]}\\n{\"op\":\"mcm\",\"clk\":\"10791829859\",\"pt\":1709183967797,\"mc\":[{\"id\":\"1.225457316\",\"rc\":[{\"atb\":[[1.02,25]],\"id\":5061015},{\"spn\":\"Infinity\",\"spf\":\"NaN\",\"id\":5061015},{\"atb\":[[1.02,25]],\"id\":66543009},{\"spn\":\"Infinity\",\"spf\":\"NaN\",\"id\":66543009},{\"atb\":[[1.02,25]],\"id\":66543008},{\"spn\":\"Infinity\",\"spf\":\"NaN\",\"id\":66543008},{\"atb\":[[1.02,25]],\"id\":2161990},{\"spn\":\"Infinity\",\"spf\":\"NaN\",\"id\":2161990},{\"atb\":[[1.02,25]],\"id\":66543012},{\"spn\":\"Infinity\",\"spf\":\"NaN\",\"id\":66543012},{\"atb\":[[1.02,25]],\"id\":66543011},{\"spn\":\"Infinity\",\"spf\":\"NaN\",\"id\":66543011},{\"atb\":[[1.02,25]],\"id\":66543010},{\"spn\":\"Infinity\",\"spf\":\"NaN\",\"id\":66543010}],\"con\":true,\"img\":false}]}\\n{\"op\":\"mcm\",\"clk\":\"10791846467\",\"pt\":1709184496758,\"mc\":[{\"id\":\"1.225457316\",\"rc\":[{\"atb\":[[1.02,27]],\"id\":66543008}],\"con\":true,\"img\":false}]}\\n{\"op\":\"mcm\",\"clk\":\"10791846475\",\"pt\":1709184497068,\"mc\":[{\"id\":\"1.225457316\",\"rc\":[{\"atb\":[[1.02,27]],\"id\":66543009}],\"con\":true,\"img\":false}]}\\n{\"op\":\"mcm\",\"clk\":\"10791846480\",\"pt\":1709184497274,\"mc\":[{\"id\":\"1.225457316\",\"rc\":[{\"atb\":[[1.02,27]],\"id\":66543010}],\"con\":true,\"img\":false}]}\\n{\"op\":\"mcm\",\"clk\":\"10791846486\",\"pt\":1709184497481,\"mc\":[{\"id\":\"1.225457316\",\"rc\":[{\"atb\":[[1.02,27]],\"id\":2161990}],\"con\":true,\"img\":false}]}\\n{\"op\":\"mcm\",\"clk\":\"10791846493\",\"pt\":1709184497692,\"mc\":[{\"id\":\"1.225457316\",\"rc\":[{\"atb\":[[1.02,27]],\"id\":5061015}],\"con\":true,\"img\":false}]}\\n{\"op\":\"mcm\",\"clk\":\"10791846496\",\"pt\":1709184497894,\"mc\":[{\"id\":\"1.225457316\",\"rc\":[{\"atb\":[[1.02,27]],\"id\":66543011}],\"con\":true,\"img\":false}]}\\n{\"op\":\"mcm\",\"clk\":\"10791846499\",\"pt\":1709184498000,\"mc\":[{\"id\":\"1.225457316\",\"rc\":[{\"atb\":[[1.02,27]],\"id\":66543012}],\"con\":true,\"img\":false}]}\\n{\"op\":\"mcm\",\"clk\":\"10791850439\",\"pt\":1709184620256,\"mc\":[{\"id\":\"1.225457316\",\"marketDefinition\":{\"bspMarket\":true,\"turnInPlayEnabled\":true,\"persistenceEnabled\":true,\"marketBaseRate\":10.0,\"eventId\":\"33063008\",\"eventTypeId\":\"7\",\"numberOfWinners\":1,\"bettingType\":\"ODDS\",\"marketType\":\"WIN\",\"marketTime\":\"2024-03-01T02:00:00.000Z\",\"suspendTime\":\"2024-03-01T02:00:00.000Z\",\"bspReconciled\":false,\"complete\":true,\"inPlay\":false,\"crossMatching\":false,\"runnersVoidable\":false,\"numberOfActiveRunners\":7,\"betDelay\":0,\"status\":\"SUSPENDED\",\"runners\":[{\"adjustmentFactor\":2.34,\"status\":\"ACTIVE\",\"sortPriority\":1,\"id\":66543008,\"name\":\"1. Bonnyville\"},{\"adjustmentFactor\":8.29,\"status\":\"ACTIVE\",\"sortPriority\":2,\"id\":66543009,\"name\":\"2. King Lane\"},{\"adjustmentFactor\":43.73,\"status\":\"ACTIVE\",\"sortPriority\":3,\"id\":66543010,\"name\":\"3. Love The Cube\"},{\"adjustmentFactor\":22.53,\"status\":\"ACTIVE\",\"sortPriority\":4,\"id\":2161990,\"name\":\"4. Reluctance\"},{\"adjustmentFactor\":19.45,\"status\":\"ACTIVE\",\"sortPriority\":5,\"id\":5061015,\"name\":\"5. Zhivago\"},{\"adjustmentFactor\":3.38,\"status\":\"ACTIVE\",\"sortPriority\":6,\"id\":66543011,\"name\":\"6. Kgari\"},{\"adjustmentFactor\":0.25,\"status\":\"ACTIVE\",\"sortPriority\":7,\"id\":66543012,\"name\":\"7. Sheza Widgee\"}],\"regulators\":[\"MR_INT\"],\"venue\":\"Goulburn\",\"countryCode\":\"AU\",\"discountAllowed\":true,\"timezone\":\"Australia/Sydney\",\"openDate\":\"2024-03-01T02:00:00.000Z\",\"version\":5763684057,\"name\":\"R1 900m Mdn\",\"eventName\":\"Goulburn (AUS) 1st Mar\"},\"rc\":[],\"con\":true,\"img\":false}]}\\n{\"op\":\"mcm\",\"clk\":\"10791855517\",\"pt\":1709184774089,\"mc\":[{\"id\":\"1.225457316\",\"marketDefinition\":{\"bspMarket\":true,\"turnInPlayEnabled\":true,\"persistenceEnabled\":true,\"marketBaseRate\":10.0,\"eventId\":\"33063008\",\"eventTypeId\":\"7\",\"numberOfWinners\":1,\"bettingType\":\"ODDS\",\"marketType\":\"WIN\",\"marketTime\":\"2024-03-01T02:00:00.000Z\",\"suspendTime\":\"2024-03-01T02:00:00.000Z\",\"bspReconciled\":false,\"complete\":true,\"inPlay\":false,\"crossMatching\":false,\"runnersVoidable\":false,\"numberOfActiveRunners\":7,\"betDelay\":0,\"status\":\"SUSPENDED\",\"runners\":[{\"adjustmentFactor\":2.34,\"status\":\"ACTIVE\",\"sortPriority\":1,\"id\":66543008,\"name\":\"1. Bonnyville\"},{\"adjustmentFactor\":8.29,\"status\":\"ACTIVE\",\"sortPriority\":2,\"id\":66543009,\"name\":\"2. King Lane\"},{\"adjustmentFactor\":43.73,\"status\":\"ACTIVE\",\"sortPriority\":3,\"id\":66543010,\"name\":\"3. Love The Cube\"},{\"adjustmentFactor\":22.53,\"status\":\"ACTIVE\",\"sortPriority\":4,\"id\":2161990,\"name\":\"4. Reluctance\"},{\"adjustmentFactor\":19.45,\"status\":\"ACTIVE\",\"sortPriority\":5,\"id\":5061015,\"name\":\"5. Zhivago\"},{\"adjustmentFactor\":3.38,\"status\":\"ACTIVE\",\"sortPriority\":6,\"id\":66543011,\"name\":\"6. Kgari\"},{\"adjustmentFactor\":0.25,\"status\":\"ACTIVE\",\"sortPriority\":7,\"id\":66543012,\"name\":\"7. Sheza Widgee\"}],\"regulators\":[\"MR_INT\"],\"venue\":\"Goulburn\",\"countryCode\":\"AU\",\"discountAllowed\":true,\"timezone\":\"Australia/Sydney\",\"openDate\":\"2024-03-01T02:00:00.000Z\",\"version\":5763688766,\"name\":\"R1 900m Mdn\",\"eventName\":\"Goulburn (AUS) 1st Mar\"},\"rc\":[],\"con\":true,\"img\":false}]}\\n{\"op\":\"mcm\",\"clk\":\"10791855517\",\"pt\":1709184774089,\"mc\":[{\"id\":\"1.225457316\",\"rc\":[{\"atb\":[[1.01,0],[1.02,0]],\"id\":5061015},{\"atb\":[[1.01,0],[1.02,0]],\"id\":66543009},{\"atb\":[[1.01,0],[1.02,0]],\"id\":2161990},{\"atb\":[[1.01,0],[1.02,0]],\"id\":66543008},{\"atb\":[[1.01,0],[1.02,0]],\"id\":66543012},{\"atb\":[[1.01,0],[1.02,0]],\"id\":66543011},{\"atb\":[[1.01,0],[1.02,0]],\"id\":66543010}],\"con\":true,\"img\":false}]}\\n{\"op\":\"mcm\",\"clk\":\"10791855547\",\"pt\":1709184774660,\"mc\":[{\"id\":\"1.225457316\",\"marketDefinition\":{\"bspMarket\":true,\"turnInPlayEnabled\":true,\"persistenceEnabled\":true,\"marketBaseRate\":10.0,\"eventId\":\"33063008\",\"eventTypeId\":\"7\",\"numberOfWinners\":1,\"bettingType\":\"ODDS\",\"marketType\":\"WIN\",\"marketTime\":\"2024-03-01T02:00:00.000Z\",\"suspendTime\":\"2024-03-01T02:00:00.000Z\",\"bspReconciled\":false,\"complete\":true,\"inPlay\":false,\"crossMatching\":false,\"runnersVoidable\":false,\"numberOfActiveRunners\":0,\"betDelay\":0,\"status\":\"CLOSED\",\"settledTime\":\"2024-02-29T05:32:53.000Z\",\"runners\":[{\"adjustmentFactor\":2.34,\"status\":\"REMOVED\",\"sortPriority\":1,\"removalDate\":\"2024-02-29T05:32:53.000Z\",\"id\":66543008,\"name\":\"1. Bonnyville\"},{\"adjustmentFactor\":8.29,\"status\":\"REMOVED\",\"sortPriority\":2,\"removalDate\":\"2024-02-29T05:32:53.000Z\",\"id\":66543009,\"name\":\"2. King Lane\"},{\"adjustmentFactor\":43.73,\"status\":\"REMOVED\",\"sortPriority\":3,\"removalDate\":\"2024-02-29T05:32:53.000Z\",\"id\":66543010,\"name\":\"3. Love The Cube\"},{\"adjustmentFactor\":22.53,\"status\":\"REMOVED\",\"sortPriority\":4,\"removalDate\":\"2024-02-29T05:32:53.000Z\",\"id\":2161990,\"name\":\"4. Reluctance\"},{\"adjustmentFactor\":19.45,\"status\":\"REMOVED\",\"sortPriority\":5,\"removalDate\":\"2024-02-29T05:32:53.000Z\",\"id\":5061015,\"name\":\"5. Zhivago\"},{\"adjustmentFactor\":3.38,\"status\":\"REMOVED\",\"sortPriority\":6,\"removalDate\":\"2024-02-29T05:32:53.000Z\",\"id\":66543011,\"name\":\"6. Kgari\"},{\"adjustmentFactor\":0.25,\"status\":\"REMOVED\",\"sortPriority\":7,\"removalDate\":\"2024-02-29T05:32:53.000Z\",\"id\":66543012,\"name\":\"7. Sheza Widgee\"}],\"regulators\":[\"MR_INT\"],\"venue\":\"Goulburn\",\"countryCode\":\"AU\",\"discountAllowed\":true,\"timezone\":\"Australia/Sydney\",\"openDate\":\"2024-03-01T02:00:00.000Z\",\"version\":5763688772,\"name\":\"R1 900m Mdn\",\"eventName\":\"Goulburn (AUS) 1st Mar\"},\"rc\":[],\"con\":true,\"img\":false}]}\\n'\n"
     ]
    }
   ],
   "source": [
    "import bz2\n",
    "\n",
    "file = \"Data/1.225457316.bz2\"\n",
    "\n",
    "with bz2.open(file, 'rb') as fp:\n",
    "    content = fp.read()\n",
    "print(content)\n"
   ]
  },
  {
   "cell_type": "code",
   "execution_count": 7,
   "id": "59512fc6",
   "metadata": {},
   "outputs": [],
   "source": [
    "import pandas as pd\n",
    "import json\n",
    "\n",
    "decoded_data = content.decode('utf-8')\n",
    "json_strings = decoded_data.strip().split('\\n')\n",
    "parsed_data = [json.loads(jstr) for jstr in json_strings]"
   ]
  },
  {
   "cell_type": "code",
   "execution_count": 15,
   "id": "ae7651b8",
   "metadata": {},
   "outputs": [
    {
     "name": "stdout",
     "output_type": "stream",
     "text": [
      "     Market ID Market Status               Market Time  \\\n",
      "0  1.225457316          OPEN  2024-03-01T02:00:00.000Z   \n",
      "1  1.225457316          OPEN  2024-03-01T02:00:00.000Z   \n",
      "2  1.225457316          OPEN  2024-03-01T02:00:00.000Z   \n",
      "3  1.225457316          OPEN  2024-03-01T02:00:00.000Z   \n",
      "4  1.225457316          OPEN  2024-03-01T02:00:00.000Z   \n",
      "\n",
      "               Suspend Time     Venue       Runner Name  Runner ID  \\\n",
      "0  2024-03-01T02:00:00.000Z  Goulburn     1. Bonnyville   66543008   \n",
      "1  2024-03-01T02:00:00.000Z  Goulburn      2. King Lane   66543009   \n",
      "2  2024-03-01T02:00:00.000Z  Goulburn  3. Love The Cube   66543010   \n",
      "3  2024-03-01T02:00:00.000Z  Goulburn     4. Reluctance    2161990   \n",
      "4  2024-03-01T02:00:00.000Z  Goulburn        5. Zhivago    5061015   \n",
      "\n",
      "  Runner Status  Adjustment Factor  \n",
      "0        ACTIVE               2.34  \n",
      "1        ACTIVE               8.29  \n",
      "2        ACTIVE              43.73  \n",
      "3        ACTIVE              22.53  \n",
      "4        ACTIVE              19.45  \n"
     ]
    }
   ],
   "source": [
    "market_definitions = []\n",
    "\n",
    "for entry in parsed_data:\n",
    "    for mc_entry in entry.get('mc', []):\n",
    "        market_def = mc_entry.get('marketDefinition')\n",
    "        if market_def:\n",
    "            for runner in market_def.get('runners', []):\n",
    "                market_definitions.append({\n",
    "                    'Market ID': mc_entry['id'],\n",
    "                    'Market Status': market_def.get('status', 'N/A'),\n",
    "                    #'Event Type ID': market_def.get('eventTypeId', 'N/A'),\n",
    "                    #'Event ID': market_def.get('eventId', 'N/A'),\n",
    "                    'Market Time': market_def.get('marketTime', 'N/A'),\n",
    "                    'Suspend Time': market_def.get('suspendTime', 'N/A'),\n",
    "                    'Venue': market_def.get('venue', 'N/A'),\n",
    "                    #'Country Code': market_def.get('countryCode', 'N/A'),\n",
    "                    #'Timezone': market_def.get('timezone', 'N/A'),\n",
    "                    #'Market Type': market_def.get('marketType', 'N/A'),\n",
    "                    #'Betting Type': market_def.get('bettingType', 'N/A'),\n",
    "                    #'Number of Winners': market_def.get('numberOfWinners', 'N/A'),\n",
    "                    'Runner Name': runner.get('name', 'N/A'),\n",
    "                    'Runner ID': runner.get('id', 'N/A'),\n",
    "                    'Runner Status': runner.get('status', 'N/A'),\n",
    "                    'Adjustment Factor': runner.get('adjustmentFactor', 'N/A'),\n",
    "                    #'Sort Priority': runner.get('sortPriority', 'N/A')\n",
    "                })\n",
    "df = pd.DataFrame(market_definitions)\n",
    "\n",
    "print(df.head())\n"
   ]
  },
  {
   "cell_type": "code",
   "execution_count": 19,
   "id": "ea55670b",
   "metadata": {
    "scrolled": true
   },
   "outputs": [],
   "source": [
    "trading_data = []\n",
    "\n",
    "for jstr in json_strings:\n",
    "    parsed_json = json.loads(jstr)\n",
    "    timestamp = parsed_json.get('pt', None)\n",
    "    \n",
    "    if 'mc' in parsed_json:\n",
    "        for mc_entry in parsed_json['mc']:\n",
    "            \n",
    "            if 'rc' in mc_entry:\n",
    "                for rc_entry in mc_entry['rc']:\n",
    "                    runner_id = rc_entry.get('id')\n",
    "                    atb = rc_entry.get('atb', [])\n",
    "                    if atb:\n",
    "                        odds, size = atb[0]\n",
    "                        trading_data.append({\n",
    "                            'timestamp': timestamp,\n",
    "                            'runner_id': runner_id,\n",
    "                            'atb': [odds, size],\n",
    "                        })"
   ]
  },
  {
   "cell_type": "code",
   "execution_count": 16,
   "id": "b62d47f3",
   "metadata": {},
   "outputs": [
    {
     "name": "stdout",
     "output_type": "stream",
     "text": [
      "      Market ID Market Status               Market Time  \\\n",
      "0   1.225457316          OPEN  2024-03-01T02:00:00.000Z   \n",
      "1   1.225457316          OPEN  2024-03-01T02:00:00.000Z   \n",
      "2   1.225457316          OPEN  2024-03-01T02:00:00.000Z   \n",
      "3   1.225457316          OPEN  2024-03-01T02:00:00.000Z   \n",
      "4   1.225457316          OPEN  2024-03-01T02:00:00.000Z   \n",
      "5   1.225457316          OPEN  2024-03-01T02:00:00.000Z   \n",
      "6   1.225457316          OPEN  2024-03-01T02:00:00.000Z   \n",
      "7   1.225457316     SUSPENDED  2024-03-01T02:00:00.000Z   \n",
      "8   1.225457316     SUSPENDED  2024-03-01T02:00:00.000Z   \n",
      "9   1.225457316     SUSPENDED  2024-03-01T02:00:00.000Z   \n",
      "10  1.225457316     SUSPENDED  2024-03-01T02:00:00.000Z   \n",
      "11  1.225457316     SUSPENDED  2024-03-01T02:00:00.000Z   \n",
      "12  1.225457316     SUSPENDED  2024-03-01T02:00:00.000Z   \n",
      "13  1.225457316     SUSPENDED  2024-03-01T02:00:00.000Z   \n",
      "14  1.225457316     SUSPENDED  2024-03-01T02:00:00.000Z   \n",
      "15  1.225457316     SUSPENDED  2024-03-01T02:00:00.000Z   \n",
      "16  1.225457316     SUSPENDED  2024-03-01T02:00:00.000Z   \n",
      "17  1.225457316     SUSPENDED  2024-03-01T02:00:00.000Z   \n",
      "18  1.225457316     SUSPENDED  2024-03-01T02:00:00.000Z   \n",
      "19  1.225457316     SUSPENDED  2024-03-01T02:00:00.000Z   \n",
      "20  1.225457316     SUSPENDED  2024-03-01T02:00:00.000Z   \n",
      "21  1.225457316        CLOSED  2024-03-01T02:00:00.000Z   \n",
      "22  1.225457316        CLOSED  2024-03-01T02:00:00.000Z   \n",
      "23  1.225457316        CLOSED  2024-03-01T02:00:00.000Z   \n",
      "24  1.225457316        CLOSED  2024-03-01T02:00:00.000Z   \n",
      "25  1.225457316        CLOSED  2024-03-01T02:00:00.000Z   \n",
      "26  1.225457316        CLOSED  2024-03-01T02:00:00.000Z   \n",
      "27  1.225457316        CLOSED  2024-03-01T02:00:00.000Z   \n",
      "\n",
      "                Suspend Time     Venue       Runner Name  Runner ID  \\\n",
      "0   2024-03-01T02:00:00.000Z  Goulburn     1. Bonnyville   66543008   \n",
      "1   2024-03-01T02:00:00.000Z  Goulburn      2. King Lane   66543009   \n",
      "2   2024-03-01T02:00:00.000Z  Goulburn  3. Love The Cube   66543010   \n",
      "3   2024-03-01T02:00:00.000Z  Goulburn     4. Reluctance    2161990   \n",
      "4   2024-03-01T02:00:00.000Z  Goulburn        5. Zhivago    5061015   \n",
      "5   2024-03-01T02:00:00.000Z  Goulburn          6. Kgari   66543011   \n",
      "6   2024-03-01T02:00:00.000Z  Goulburn   7. Sheza Widgee   66543012   \n",
      "7   2024-03-01T02:00:00.000Z  Goulburn     1. Bonnyville   66543008   \n",
      "8   2024-03-01T02:00:00.000Z  Goulburn      2. King Lane   66543009   \n",
      "9   2024-03-01T02:00:00.000Z  Goulburn  3. Love The Cube   66543010   \n",
      "10  2024-03-01T02:00:00.000Z  Goulburn     4. Reluctance    2161990   \n",
      "11  2024-03-01T02:00:00.000Z  Goulburn        5. Zhivago    5061015   \n",
      "12  2024-03-01T02:00:00.000Z  Goulburn          6. Kgari   66543011   \n",
      "13  2024-03-01T02:00:00.000Z  Goulburn   7. Sheza Widgee   66543012   \n",
      "14  2024-03-01T02:00:00.000Z  Goulburn     1. Bonnyville   66543008   \n",
      "15  2024-03-01T02:00:00.000Z  Goulburn      2. King Lane   66543009   \n",
      "16  2024-03-01T02:00:00.000Z  Goulburn  3. Love The Cube   66543010   \n",
      "17  2024-03-01T02:00:00.000Z  Goulburn     4. Reluctance    2161990   \n",
      "18  2024-03-01T02:00:00.000Z  Goulburn        5. Zhivago    5061015   \n",
      "19  2024-03-01T02:00:00.000Z  Goulburn          6. Kgari   66543011   \n",
      "20  2024-03-01T02:00:00.000Z  Goulburn   7. Sheza Widgee   66543012   \n",
      "21  2024-03-01T02:00:00.000Z  Goulburn     1. Bonnyville   66543008   \n",
      "22  2024-03-01T02:00:00.000Z  Goulburn      2. King Lane   66543009   \n",
      "23  2024-03-01T02:00:00.000Z  Goulburn  3. Love The Cube   66543010   \n",
      "24  2024-03-01T02:00:00.000Z  Goulburn     4. Reluctance    2161990   \n",
      "25  2024-03-01T02:00:00.000Z  Goulburn        5. Zhivago    5061015   \n",
      "26  2024-03-01T02:00:00.000Z  Goulburn          6. Kgari   66543011   \n",
      "27  2024-03-01T02:00:00.000Z  Goulburn   7. Sheza Widgee   66543012   \n",
      "\n",
      "   Runner Status  Adjustment Factor  \n",
      "0         ACTIVE               2.34  \n",
      "1         ACTIVE               8.29  \n",
      "2         ACTIVE              43.73  \n",
      "3         ACTIVE              22.53  \n",
      "4         ACTIVE              19.45  \n",
      "5         ACTIVE               3.38  \n",
      "6         ACTIVE               0.25  \n",
      "7         ACTIVE               2.34  \n",
      "8         ACTIVE               8.29  \n",
      "9         ACTIVE              43.73  \n",
      "10        ACTIVE              22.53  \n",
      "11        ACTIVE              19.45  \n",
      "12        ACTIVE               3.38  \n",
      "13        ACTIVE               0.25  \n",
      "14        ACTIVE               2.34  \n",
      "15        ACTIVE               8.29  \n",
      "16        ACTIVE              43.73  \n",
      "17        ACTIVE              22.53  \n",
      "18        ACTIVE              19.45  \n",
      "19        ACTIVE               3.38  \n",
      "20        ACTIVE               0.25  \n",
      "21       REMOVED               2.34  \n",
      "22       REMOVED               8.29  \n",
      "23       REMOVED              43.73  \n",
      "24       REMOVED              22.53  \n",
      "25       REMOVED              19.45  \n",
      "26       REMOVED               3.38  \n",
      "27       REMOVED               0.25  \n"
     ]
    }
   ],
   "source": [
    "from datetime import datetime\n"
   ]
  }
 ],
 "metadata": {
  "kernelspec": {
   "display_name": "Python 3 (ipykernel)",
   "language": "python",
   "name": "python3"
  },
  "language_info": {
   "codemirror_mode": {
    "name": "ipython",
    "version": 3
   },
   "file_extension": ".py",
   "mimetype": "text/x-python",
   "name": "python",
   "nbconvert_exporter": "python",
   "pygments_lexer": "ipython3",
   "version": "3.11.3"
  }
 },
 "nbformat": 4,
 "nbformat_minor": 5
}
