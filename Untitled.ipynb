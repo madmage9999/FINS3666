{
 "cells": [
  {
   "cell_type": "code",
   "execution_count": 7,
   "id": "1988d7c6",
   "metadata": {},
   "outputs": [
    {
     "name": "stdout",
     "output_type": "stream",
     "text": [
      "750.0\n"
     ]
    }
   ],
   "source": [
    "import numpy as np\n",
    "file = '../draft_2024_02_preprocessed.csv'\n",
    "\n",
    "\n",
    "# Example data (replace with your actual data)\n",
    "N = 5  # Total number of horses\n",
    "L = 3  # Total number of back-order made on the k-th horse\n",
    "J = 2  # Total number of lay-order made on the k-th horse\n",
    "X = np.array([100, 150, 200, 250, 300])  # Amounts wagered on each horse (X_i)\n",
    "Y = np.array([50, 30, 20, 70, 80])  # Amounts bookmaker wagered (Y_i)\n",
    "Y_k = np.array([20, 30, 50])  # Amounts betted on each back-order (Y_{k,l})\n",
    "BP_k = np.array([2.5, 3.0, 4.0])  # Back prices (BP_{k,l})\n",
    "X_k = np.array([10, 15])  # Amounts betted on each lay-order (X_{k,j})\n",
    "LP_k = np.array([5.0, 6.0])  # Lay prices (LP_{k,j})\n",
    "\n",
    "# Function to calculate total liability on the k-th horse\n",
    "def calculate_total_liability(X, Y, Y_k, BP_k, X_k, LP_k, k_th_horse_wins):\n",
    "    # Indicator function for the k-th horse win\n",
    "    I_k = 1 if k_th_horse_wins else 0\n",
    "\n",
    "    # Total liability calculation\n",
    "    TL_k = sum(X) - sum(Y) + I_k * (sum(Y_k * BP_k) - sum(X_k * LP_k))\n",
    "\n",
    "    return TL_k\n",
    "\n",
    "# Example usage\n",
    "k_th_horse = 5  # Assuming the third horse (index 2) is the k-th horse\n",
    "k_th_horse_wins = False  # Assuming the k-th horse wins\n",
    "\n",
    "# Calculate total liability on the k-th horse\n",
    "total_liability = calculate_total_liability(X, Y, Y_k, BP_k, X_k, LP_k, k_th_horse_wins)\n",
    "print(total_liability)"
   ]
  },
  {
   "cell_type": "code",
   "execution_count": null,
   "id": "c1bc84a7",
   "metadata": {},
   "outputs": [],
   "source": []
  }
 ],
 "metadata": {
  "kernelspec": {
   "display_name": "Python 3 (ipykernel)",
   "language": "python",
   "name": "python3"
  },
  "language_info": {
   "codemirror_mode": {
    "name": "ipython",
    "version": 3
   },
   "file_extension": ".py",
   "mimetype": "text/x-python",
   "name": "python",
   "nbconvert_exporter": "python",
   "pygments_lexer": "ipython3",
   "version": "3.11.3"
  }
 },
 "nbformat": 4,
 "nbformat_minor": 5
}
