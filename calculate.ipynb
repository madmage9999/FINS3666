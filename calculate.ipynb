{
 "cells": [
  {
   "cell_type": "code",
   "execution_count": 18,
   "metadata": {},
   "outputs": [
    {
     "name": "stdout",
     "output_type": "stream",
     "text": [
      "0.4166666666666667\n",
      "24.5\n"
     ]
    }
   ],
   "source": [
    "Best_BP = 22\n",
    "Best_BV = 10\n",
    "\n",
    "Best_Lp = 28\n",
    "Best_LV = 14\n",
    "\n",
    "P_up = Best_BV/(Best_BV+Best_LV)\n",
    "\n",
    "\n",
    "EP = (Best_BP *(1 - P_up)) + (Best_Lp * P_up)\n",
    "\n",
    "print(EP)"
   ]
  },
  {
   "cell_type": "code",
   "execution_count": 21,
   "metadata": {},
   "outputs": [
    {
     "name": "stdout",
     "output_type": "stream",
     "text": [
      "3.0\n",
      "0.05187133172412077\n",
      "6\n",
      "layback: 36.5, laylay: 10.5\n",
      "backback: 38.5, backlay: 12.5\n"
     ]
    }
   ],
   "source": [
    "import math\n",
    "import numpy as np\n",
    "amt = 583.65\n",
    "TL = 11251.88\n",
    "traded = [16.35,18.22,18.69,19.62,20.56,21.49,22.42,23,23.36,24,24.29,25,25.23,26,26.16,27,27.1,28,28.03,29]\n",
    "tick = 2\n",
    "ast = (Best_Lp - Best_BP)/tick\n",
    "print(ast)\n",
    "x = amt/TL * 100\n",
    "print(x)\n",
    "stdev = np.std(traded)\n",
    "spread = max(1, round(pow(math.e, -x)*ast/2*(1+stdev)))\n",
    "print(spread)\n",
    "\n",
    "\n",
    "lay_BP = EP + (spread * tick)\n",
    "lay_LP = EP - ((spread + 1) * tick)\n",
    "\n",
    "back_BP = EP + ((spread + 1) * tick)\n",
    "back_LP = EP - (spread * tick)\n",
    "print(f\"layback: {lay_BP}, laylay: {lay_LP}\")\n",
    "print(f\"backback: {back_BP}, backlay: {back_LP}\")"
   ]
  }
 ],
 "metadata": {
  "kernelspec": {
   "display_name": "Python 3",
   "language": "python",
   "name": "python3"
  },
  "language_info": {
   "codemirror_mode": {
    "name": "ipython",
    "version": 3
   },
   "file_extension": ".py",
   "mimetype": "text/x-python",
   "name": "python",
   "nbconvert_exporter": "python",
   "pygments_lexer": "ipython3",
   "version": "3.11.3"
  }
 },
 "nbformat": 4,
 "nbformat_minor": 2
}
