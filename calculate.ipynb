{
 "cells": [
  {
   "cell_type": "code",
   "execution_count": 31,
   "metadata": {},
   "outputs": [
    {
     "name": "stdout",
     "output_type": "stream",
     "text": [
      "53.46666666666667\n"
     ]
    }
   ],
   "source": [
    "Best_BP = 46\n",
    "Best_BV = 8\n",
    "\n",
    "Best_Lp = 60\n",
    "Best_LV = 7\n",
    "\n",
    "P_up = Best_BV/(Best_BV+Best_LV)\n",
    "\n",
    "\n",
    "EP = Best_BP *(1 - P_up) + Best_Lp * P_up\n",
    "\n",
    "print(EP)"
   ]
  },
  {
   "cell_type": "code",
   "execution_count": 33,
   "metadata": {},
   "outputs": [
    {
     "name": "stdout",
     "output_type": "stream",
     "text": [
      "7.0\n",
      "0.007978131314861116\n",
      "51\n",
      "layback: 155.46666666666667, laylay: -50.53333333333333\n",
      "backback: 157.46666666666667, baylay: -48.53333333333333\n"
     ]
    }
   ],
   "source": [
    "import math\n",
    "import numpy as np\n",
    "amt = 223.62\n",
    "TL = 28029.12\n",
    "traded = [40, 42, 44, 46, 48, 50, 55, 75, 80]\n",
    "tick = 2\n",
    "ast = (Best_Lp - Best_BP)/tick\n",
    "print(ast)\n",
    "x = amt/TL\n",
    "print(x)\n",
    "stdev = np.std(traded)\n",
    "spread = max(1, round(pow(math.e, -x)*ast/2*(1+stdev)))\n",
    "print(spread)\n",
    "\n",
    "\n",
    "lay_BP = EP + spread * tick\n",
    "lay_LP = EP - (spread + 1) * tick\n",
    "\n",
    "back_BP = EP + (spread + 1) * tick\n",
    "back_LP = EP - spread * tick\n",
    "print(f\"layback: {lay_BP}, laylay: {lay_LP}\")\n",
    "print(f\"backback: {back_BP}, baylay: {back_LP}\")"
   ]
  }
 ],
 "metadata": {
  "kernelspec": {
   "display_name": "Python 3",
   "language": "python",
   "name": "python3"
  },
  "language_info": {
   "codemirror_mode": {
    "name": "ipython",
    "version": 3
   },
   "file_extension": ".py",
   "mimetype": "text/x-python",
   "name": "python",
   "nbconvert_exporter": "python",
   "pygments_lexer": "ipython3",
   "version": "3.11.3"
  }
 },
 "nbformat": 4,
 "nbformat_minor": 2
}
